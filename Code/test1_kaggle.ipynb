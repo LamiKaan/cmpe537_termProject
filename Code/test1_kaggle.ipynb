{
 "cells": [
  {
   "cell_type": "code",
   "id": "initial_id",
   "metadata": {
    "collapsed": true,
    "ExecuteTime": {
     "end_time": "2025-01-04T14:30:28.436834Z",
     "start_time": "2025-01-04T14:30:28.412161Z"
    }
   },
   "source": [
    "import torch\n",
    "import numpy as np"
   ],
   "outputs": [],
   "execution_count": 85
  },
  {
   "metadata": {
    "ExecuteTime": {
     "end_time": "2025-01-04T23:00:21.671121Z",
     "start_time": "2025-01-04T23:00:21.660963Z"
    }
   },
   "cell_type": "code",
   "source": [
    "class kaggleImage:\n",
    "    def __init__(self):\n",
    "        self.image_id = None\n",
    "        self.image_class_id = None\n",
    "        self.image_class_name = None\n",
    "        self.image_sentences = None\n",
    "        self.is_train = None\n",
    "        self.image_index = None\n",
    "        self.image_tensor_64 = None\n",
    "        self.image_tensor_128 = None\n",
    "        self.image_tensor_256 = None\n",
    "        \n",
    "    def __str__(self):\n",
    "        print_string = (f\"Kaggle Image:\\n\"\n",
    "              f\"\\tImage Id: {self.image_id}\\n\"\n",
    "              f\"\\tImage Class ID: {self.image_class_id}\\n\"\n",
    "              f\"\\tImage Class Name: {self.image_class_name}\\n\"\n",
    "              f\"\\tImage Sentences: {self.image_sentences}\\n\"\n",
    "              f\"\\tIs Train: {self.is_train}\\n\"\n",
    "              f\"\\tImage shapes:\\n\"\n",
    "              f\"\\t\\t{self.image_tensor_64.shape}\\n\"\n",
    "              f\"\\t\\t{self.image_tensor_128.shape}\\n\"\n",
    "              f\"\\t\\t{self.image_tensor_256.shape}\")\n",
    "        \n",
    "        return print_string\n",
    "    \n",
    "    def properties(self):\n",
    "        "
   ],
   "id": "85f3859fa55f8ea0",
   "outputs": [],
   "execution_count": 177
  },
  {
   "metadata": {
    "ExecuteTime": {
     "end_time": "2025-01-04T23:00:22.267788Z",
     "start_time": "2025-01-04T23:00:22.265212Z"
    }
   },
   "cell_type": "code",
   "source": [
    "# Check that MPS is available\n",
    "if not torch.backends.mps.is_available():\n",
    "    if not torch.backends.mps.is_built():\n",
    "        print(\"MPS not available because the current PyTorch install was not \"\n",
    "              \"built with MPS enabled.\")\n",
    "    else:\n",
    "        print(\"MPS not available because the current MacOS version is not 12.3+ \"\n",
    "              \"and/or you do not have an MPS-enabled device on this machine.\")\n",
    "\n",
    "else:\n",
    "    mps_device = torch.device(\"mps\")"
   ],
   "id": "3b11c2fe08fd32ca",
   "outputs": [],
   "execution_count": 178
  },
  {
   "metadata": {
    "ExecuteTime": {
     "end_time": "2025-01-04T23:00:23.403655Z",
     "start_time": "2025-01-04T23:00:23.038084Z"
    }
   },
   "cell_type": "code",
   "source": "metadata = torch.load(\"/Users/lkk/Documents/BOUN CMPE/CMPE 537-Computer Vision/Term Project/Code/Datasets/CUB_Kaggle/metadata.pth\")",
   "id": "8b66ffb443a0066f",
   "outputs": [
    {
     "name": "stderr",
     "output_type": "stream",
     "text": [
      "/var/folders/w_/qpdjg8096dl3n3gz3wz38ksc0000gn/T/ipykernel_47610/2933442925.py:1: FutureWarning: You are using `torch.load` with `weights_only=False` (the current default value), which uses the default pickle module implicitly. It is possible to construct malicious pickle data which will execute arbitrary code during unpickling (See https://github.com/pytorch/pytorch/blob/main/SECURITY.md#untrusted-models for more details). In a future release, the default value for `weights_only` will be flipped to `True`. This limits the functions that could be executed during unpickling. Arbitrary objects will no longer be allowed to be loaded via this mode unless they are explicitly allowlisted by the user via `torch.serialization.add_safe_globals`. We recommend you start setting `weights_only=True` for any use case where you don't have full control of the loaded file. Please open an issue on GitHub for any issues related to this experimental feature.\n",
      "  metadata = torch.load(\"/Users/lkk/Documents/BOUN CMPE/CMPE 537-Computer Vision/Term Project/Code/Datasets/CUB_Kaggle/metadata.pth\")\n"
     ]
    }
   ],
   "execution_count": 179
  },
  {
   "metadata": {
    "ExecuteTime": {
     "end_time": "2025-01-04T23:00:26.100183Z",
     "start_time": "2025-01-04T23:00:24.278734Z"
    }
   },
   "cell_type": "code",
   "source": [
    "train_images_256 = torch.load(\"/Users/lkk/Documents/BOUN CMPE/CMPE 537-Computer Vision/Term Project/Code/Datasets/CUB_Kaggle/imgs_train_val_256x256.pth\")\n",
    "train_images_128 = torch.load(\"/Users/lkk/Documents/BOUN CMPE/CMPE 537-Computer Vision/Term Project/Code/Datasets/CUB_Kaggle/imgs_train_val_128x128.pth\")\n",
    "train_images_64 = torch.load(\"/Users/lkk/Documents/BOUN CMPE/CMPE 537-Computer Vision/Term Project/Code/Datasets/CUB_Kaggle/imgs_train_val_64x64.pth\")\n",
    "\n",
    "test_images_256 = torch.load(\"/Users/lkk/Documents/BOUN CMPE/CMPE 537-Computer Vision/Term Project/Code/Datasets/CUB_Kaggle/imgs_test_256x256.pth\")\n",
    "test_images_128 = torch.load(\"/Users/lkk/Documents/BOUN CMPE/CMPE 537-Computer Vision/Term Project/Code/Datasets/CUB_Kaggle/imgs_test_128x128.pth\")\n",
    "test_images_64 = torch.load(\"/Users/lkk/Documents/BOUN CMPE/CMPE 537-Computer Vision/Term Project/Code/Datasets/CUB_Kaggle/imgs_test_64x64.pth\")"
   ],
   "id": "c22ea42e83f1e7ca",
   "outputs": [
    {
     "name": "stderr",
     "output_type": "stream",
     "text": [
      "/var/folders/w_/qpdjg8096dl3n3gz3wz38ksc0000gn/T/ipykernel_47610/1046569069.py:1: FutureWarning: You are using `torch.load` with `weights_only=False` (the current default value), which uses the default pickle module implicitly. It is possible to construct malicious pickle data which will execute arbitrary code during unpickling (See https://github.com/pytorch/pytorch/blob/main/SECURITY.md#untrusted-models for more details). In a future release, the default value for `weights_only` will be flipped to `True`. This limits the functions that could be executed during unpickling. Arbitrary objects will no longer be allowed to be loaded via this mode unless they are explicitly allowlisted by the user via `torch.serialization.add_safe_globals`. We recommend you start setting `weights_only=True` for any use case where you don't have full control of the loaded file. Please open an issue on GitHub for any issues related to this experimental feature.\n",
      "  train_images_256 = torch.load(\"/Users/lkk/Documents/BOUN CMPE/CMPE 537-Computer Vision/Term Project/Code/Datasets/CUB_Kaggle/imgs_train_val_256x256.pth\")\n",
      "/var/folders/w_/qpdjg8096dl3n3gz3wz38ksc0000gn/T/ipykernel_47610/1046569069.py:2: FutureWarning: You are using `torch.load` with `weights_only=False` (the current default value), which uses the default pickle module implicitly. It is possible to construct malicious pickle data which will execute arbitrary code during unpickling (See https://github.com/pytorch/pytorch/blob/main/SECURITY.md#untrusted-models for more details). In a future release, the default value for `weights_only` will be flipped to `True`. This limits the functions that could be executed during unpickling. Arbitrary objects will no longer be allowed to be loaded via this mode unless they are explicitly allowlisted by the user via `torch.serialization.add_safe_globals`. We recommend you start setting `weights_only=True` for any use case where you don't have full control of the loaded file. Please open an issue on GitHub for any issues related to this experimental feature.\n",
      "  train_images_128 = torch.load(\"/Users/lkk/Documents/BOUN CMPE/CMPE 537-Computer Vision/Term Project/Code/Datasets/CUB_Kaggle/imgs_train_val_128x128.pth\")\n",
      "/var/folders/w_/qpdjg8096dl3n3gz3wz38ksc0000gn/T/ipykernel_47610/1046569069.py:3: FutureWarning: You are using `torch.load` with `weights_only=False` (the current default value), which uses the default pickle module implicitly. It is possible to construct malicious pickle data which will execute arbitrary code during unpickling (See https://github.com/pytorch/pytorch/blob/main/SECURITY.md#untrusted-models for more details). In a future release, the default value for `weights_only` will be flipped to `True`. This limits the functions that could be executed during unpickling. Arbitrary objects will no longer be allowed to be loaded via this mode unless they are explicitly allowlisted by the user via `torch.serialization.add_safe_globals`. We recommend you start setting `weights_only=True` for any use case where you don't have full control of the loaded file. Please open an issue on GitHub for any issues related to this experimental feature.\n",
      "  train_images_64 = torch.load(\"/Users/lkk/Documents/BOUN CMPE/CMPE 537-Computer Vision/Term Project/Code/Datasets/CUB_Kaggle/imgs_train_val_64x64.pth\")\n",
      "/var/folders/w_/qpdjg8096dl3n3gz3wz38ksc0000gn/T/ipykernel_47610/1046569069.py:5: FutureWarning: You are using `torch.load` with `weights_only=False` (the current default value), which uses the default pickle module implicitly. It is possible to construct malicious pickle data which will execute arbitrary code during unpickling (See https://github.com/pytorch/pytorch/blob/main/SECURITY.md#untrusted-models for more details). In a future release, the default value for `weights_only` will be flipped to `True`. This limits the functions that could be executed during unpickling. Arbitrary objects will no longer be allowed to be loaded via this mode unless they are explicitly allowlisted by the user via `torch.serialization.add_safe_globals`. We recommend you start setting `weights_only=True` for any use case where you don't have full control of the loaded file. Please open an issue on GitHub for any issues related to this experimental feature.\n",
      "  test_images_256 = torch.load(\"/Users/lkk/Documents/BOUN CMPE/CMPE 537-Computer Vision/Term Project/Code/Datasets/CUB_Kaggle/imgs_test_256x256.pth\")\n",
      "/var/folders/w_/qpdjg8096dl3n3gz3wz38ksc0000gn/T/ipykernel_47610/1046569069.py:6: FutureWarning: You are using `torch.load` with `weights_only=False` (the current default value), which uses the default pickle module implicitly. It is possible to construct malicious pickle data which will execute arbitrary code during unpickling (See https://github.com/pytorch/pytorch/blob/main/SECURITY.md#untrusted-models for more details). In a future release, the default value for `weights_only` will be flipped to `True`. This limits the functions that could be executed during unpickling. Arbitrary objects will no longer be allowed to be loaded via this mode unless they are explicitly allowlisted by the user via `torch.serialization.add_safe_globals`. We recommend you start setting `weights_only=True` for any use case where you don't have full control of the loaded file. Please open an issue on GitHub for any issues related to this experimental feature.\n",
      "  test_images_128 = torch.load(\"/Users/lkk/Documents/BOUN CMPE/CMPE 537-Computer Vision/Term Project/Code/Datasets/CUB_Kaggle/imgs_test_128x128.pth\")\n",
      "/var/folders/w_/qpdjg8096dl3n3gz3wz38ksc0000gn/T/ipykernel_47610/1046569069.py:7: FutureWarning: You are using `torch.load` with `weights_only=False` (the current default value), which uses the default pickle module implicitly. It is possible to construct malicious pickle data which will execute arbitrary code during unpickling (See https://github.com/pytorch/pytorch/blob/main/SECURITY.md#untrusted-models for more details). In a future release, the default value for `weights_only` will be flipped to `True`. This limits the functions that could be executed during unpickling. Arbitrary objects will no longer be allowed to be loaded via this mode unless they are explicitly allowlisted by the user via `torch.serialization.add_safe_globals`. We recommend you start setting `weights_only=True` for any use case where you don't have full control of the loaded file. Please open an issue on GitHub for any issues related to this experimental feature.\n",
      "  test_images_64 = torch.load(\"/Users/lkk/Documents/BOUN CMPE/CMPE 537-Computer Vision/Term Project/Code/Datasets/CUB_Kaggle/imgs_test_64x64.pth\")\n"
     ]
    }
   ],
   "execution_count": 180
  },
  {
   "metadata": {
    "ExecuteTime": {
     "end_time": "2025-01-04T23:01:23.651404Z",
     "start_time": "2025-01-04T23:01:22.450358Z"
    }
   },
   "cell_type": "code",
   "source": [
    "images_kaggle = {}\n",
    "\n",
    "for i in range(len(metadata[\"img_ids\"])):\n",
    "    image = kaggleImage()\n",
    "    image.image_id = metadata[\"img_ids\"][i]\n",
    "    image.image_class_id = metadata[\"img_id_to_class_id\"][image.image_id]\n",
    "    image.image_class_name = metadata[\"class_id_to_class_name\"][image.image_class_id]\n",
    "    \n",
    "    image_sentences = []\n",
    "    for encoded_sentence in metadata[\"img_id_to_encoded_caps\"][image.image_id]:\n",
    "        decoded_sentence = \"\"\n",
    "        for encoded_word in encoded_sentence:\n",
    "            decoded_word = metadata[\"word_id_to_word\"][encoded_word]\n",
    "            decoded_sentence += decoded_word\n",
    "            decoded_sentence += \" \"\n",
    "        \n",
    "        decoded_sentence = decoded_sentence.strip()\n",
    "        image_sentences.append(decoded_sentence)\n",
    "        \n",
    "    image.image_sentences = image_sentences\n",
    "    \n",
    "    if image.image_id in metadata[\"train_val_img_ids\"]:\n",
    "        image.is_train = True\n",
    "        image.image_index = metadata[\"train_val_img_ids\"].index(image.image_id)\n",
    "        image.image_tensor_256 = train_images_256[image.image_index]\n",
    "        image.image_tensor_128 = train_images_128[image.image_index]\n",
    "        image.image_tensor_64 = train_images_64[image.image_index]      \n",
    "    else:\n",
    "        image.is_train = False\n",
    "        image.image_index = metadata[\"test_img_ids\"].index(image.image_id)\n",
    "        image.image_tensor_256 = test_images_256[image.image_index]\n",
    "        image.image_tensor_128 = test_images_128[image.image_index]\n",
    "        image.image_tensor_64 = test_images_64[image.image_index]\n",
    "        \n",
    "    images_kaggle[image.image_id] = image"
   ],
   "id": "b98f72ac26f3187f",
   "outputs": [],
   "execution_count": 185
  },
  {
   "metadata": {
    "ExecuteTime": {
     "end_time": "2025-01-05T09:31:07.839661Z",
     "start_time": "2025-01-05T09:31:07.769267Z"
    }
   },
   "cell_type": "code",
   "source": "print(type(images_kaggle))",
   "id": "1bfb606e824fb9bb",
   "outputs": [
    {
     "name": "stdout",
     "output_type": "stream",
     "text": [
      "<class 'dict'>\n"
     ]
    }
   ],
   "execution_count": 200
  },
  {
   "metadata": {
    "ExecuteTime": {
     "end_time": "2025-01-05T09:34:27.279170Z",
     "start_time": "2025-01-05T09:34:27.271562Z"
    }
   },
   "cell_type": "code",
   "source": "print(images_kaggle[4526])",
   "id": "79e74cc625ded70c",
   "outputs": [
    {
     "name": "stdout",
     "output_type": "stream",
     "text": [
      "Kaggle Image:\n",
      "\tImage Id: 4526\n",
      "\tImage Class ID: 9\n",
      "\tImage Class Name: Red_winged_Blackbird\n",
      "\tImage Sentences: ['a black bird with a patch of red and yellow on its shoulder .', \"a medium sized black bird with yellow and orange markings on it 's wings .\", 'a small bird , black all over except for an orange back with long tarsus and a short bill .', 'the large black bird has a tiny head , and its coverts are bright orange with yellow and white accents .', 'this is a beautiful dark colored bird with a small beak and dark eyes , just under the wings are colored .', 'this bird is black with red and has a very short beak .', 'a bird that appears mostly black , but has yellow on the underside of its back feathers .', 'this bird has wings that are black and has a red and yellow patch', 'this bird is black with red and has a very short beak .', 'this bird is black with a patch of yellow on its back , a short tail , a small head , and a pointy beak .']\n",
      "\tIs Train: True\n",
      "\tImage shapes:\n",
      "\t\ttorch.Size([3, 64, 64])\n",
      "\t\ttorch.Size([3, 128, 128])\n",
      "\t\ttorch.Size([3, 256, 256])\n"
     ]
    }
   ],
   "execution_count": 202
  },
  {
   "metadata": {
    "ExecuteTime": {
     "end_time": "2025-01-05T09:34:31.060997Z",
     "start_time": "2025-01-05T09:34:31.058012Z"
    }
   },
   "cell_type": "code",
   "source": [
    "# Print property names\n",
    "properties = [prop for prop in dir(images_kaggle[4526]) if not prop.startswith(\"__\") and not callable(getattr(images_kaggle[4526], prop))]\n",
    "print(properties) "
   ],
   "id": "1a58d3b8e9f9328a",
   "outputs": [
    {
     "name": "stdout",
     "output_type": "stream",
     "text": [
      "['image_class_id', 'image_class_name', 'image_id', 'image_index', 'image_sentences', 'image_tensor_128', 'image_tensor_256', 'image_tensor_64', 'is_train']\n"
     ]
    }
   ],
   "execution_count": 203
  },
  {
   "metadata": {
    "ExecuteTime": {
     "end_time": "2025-01-05T09:47:02.668770Z",
     "start_time": "2025-01-05T09:47:02.606686Z"
    }
   },
   "cell_type": "code",
   "source": [
    "class_names = []\n",
    "for image in images_kaggle.values():\n",
    "    if image.image_class_name not in class_names:\n",
    "        class_names.append(image.image_class_name)\n",
    "\n",
    "print(class_names)"
   ],
   "id": "fd7cfb3e3f71b978",
   "outputs": [
    {
     "name": "stdout",
     "output_type": "stream",
     "text": [
      "['Black_footed_Albatross', 'Laysan_Albatross', 'Sooty_Albatross', 'Groove_billed_Ani', 'Crested_Auklet', 'Least_Auklet', 'Parakeet_Auklet', 'Rhinoceros_Auklet', 'Glaucous_winged_Gull', 'Brewers_Blackbird', 'Rusty_Blackbird', 'Red_winged_Blackbird', 'Yellow_headed_Blackbird', 'Bobolink', 'Henslows_Sparrow', 'Indigo_Bunting', 'Lazuli_Bunting', 'Chipping_Sparrow', 'Blue_Grosbeak', 'Grasshopper_Sparrow', 'Painted_Bunting', 'Cardinal', 'Spotted_Catbird', 'Gray_Catbird', 'Warbling_Vireo', 'Yellow_breasted_Chat', 'Hooded_Warbler', 'Eastern_Towhee', 'Chuck_wills_Widow', 'Whip_poor_Will', 'Brandts_Cormorant', 'Pelagic_Cormorant', 'Red_faced_Cormorant', 'Bronzed_Cowbird', 'Shiny_Cowbird', 'Brown_Creeper', 'American_Crow', 'Fish_Crow', 'Black_billed_Cuckoo', 'Mangrove_Cuckoo', 'Loggerhead_Shrike', 'Yellow_billed_Cuckoo', 'Canada_Warbler', 'Gray_crowned_Rosy_Finch', 'Purple_Finch', 'Northern_Flicker', 'Acadian_Flycatcher', 'Great_Crested_Flycatcher', 'Least_Flycatcher', 'Olive_sided_Flycatcher', 'Gadwall', 'American_Goldfinch', 'European_Goldfinch', 'Boat_tailed_Grackle', 'Eared_Grebe', 'Horned_Grebe', 'Pied_billed_Grebe', 'Western_Grebe', 'Evening_Grosbeak', 'Pine_Grosbeak', 'Rose_breasted_Grosbeak', 'Pigeon_Guillemot', 'California_Gull', 'Western_Gull', 'Heermanns_Gull', 'Scissor_tailed_Flycatcher', 'Vermilion_Flycatcher', 'Yellow_bellied_Flycatcher', 'Frigatebird', 'Northern_Fulmar', 'Slaty_backed_Gull', 'Elegant_Tern', 'Herring_Gull', 'Ivory_Gull', 'Ring_billed_Gull', 'Annas_Hummingbird', 'Ruby_throated_Hummingbird', 'Rufous_Hummingbird', 'Green_Violetear', 'Long_tailed_Jaeger', 'Pomarine_Jaeger', 'Blue_Jay', 'Florida_Jay', 'Green_Jay', 'Green_Kingfisher', 'Dark_eyed_Junco', 'Tropical_Kingbird', 'Gray_Kingbird', 'Belted_Kingfisher', 'Ringed_Kingfisher', 'White_breasted_Kingfisher', 'Pied_Kingfisher', 'Red_legged_Kittiwake', 'Horned_Lark', 'Pacific_Loon', 'Mallard', 'Western_Meadowlark', 'Hooded_Merganser', 'Red_breasted_Merganser', 'Mockingbird', 'Nighthawk', 'Clarks_Nutcracker', 'White_breasted_Nuthatch', 'Baltimore_Oriole', 'Orchard_Oriole', 'Hooded_Oriole', 'Scotts_Oriole', 'Prairie_Warbler', 'Ovenbird', 'Worm_eating_Warbler', 'Myrtle_Warbler', 'Brown_Pelican', 'White_Pelican', 'Western_Wood_Pewee', 'Sayornis', 'Pine_Warbler', 'American_Pipit', 'Horned_Puffin', 'Common_Raven', 'White_necked_Raven', 'American_Redstart', 'Black_throated_Blue_Warbler', 'Geococcyx', 'Great_Grey_Shrike', 'Bairds_Sparrow', 'Black_throated_Sparrow', 'Brewers_Sparrow', 'Sage_Thrasher', 'Vesper_Sparrow', 'Tree_Sparrow', 'Field_Sparrow', 'Clay_colored_Sparrow', 'Black_and_white_Warbler', 'House_Sparrow', 'Fox_Sparrow', 'Savannah_Sparrow', 'Harriss_Sparrow', 'Le_Contes_Sparrow', 'Lincolns_Sparrow', 'Wilsons_Warbler', 'Nelsons_Sparrow', 'Seaside_Sparrow', 'Song_Sparrow', 'White_crowned_Sparrow', 'White_throated_Sparrow', 'Cape_Glossy_Starling', 'Bank_Swallow', 'Barn_Swallow', 'Cliff_Swallow', 'Tree_Swallow', 'Scarlet_Tanager', 'Summer_Tanager', 'Cape_May_Warbler', 'Artic_Tern', 'Black_Tern', 'Forsters_Tern', 'Caspian_Tern', 'Common_Tern', 'Least_Tern', 'Green_tailed_Towhee', 'Brown_Thrasher', 'Black_capped_Vireo', 'Blue_headed_Vireo', 'White_eyed_Vireo', 'Red_eyed_Vireo', 'Philadelphia_Vireo', 'Tennessee_Warbler', 'Yellow_throated_Vireo', 'Magnolia_Warbler', 'Bay_breasted_Warbler', 'Blue_winged_Warbler', 'Cerulean_Warbler', 'Chestnut_sided_Warbler', 'Golden_winged_Warbler', 'Kentucky_Warbler', 'Mourning_Warbler', 'Nashville_Warbler', 'Orange_crowned_Warbler', 'Palm_Warbler', 'Prothonotary_Warbler', 'Swainsons_Warbler', 'Yellow_Warbler', 'Northern_Waterthrush', 'Louisiana_Waterthrush', 'Bohemian_Waxwing', 'Cedar_Waxwing', 'American_Three_toed_Woodpecker', 'Pileated_Woodpecker', 'Red_bellied_Woodpecker', 'Red_cockaded_Woodpecker', 'Red_headed_Woodpecker', 'Downy_Woodpecker', 'Bewicks_Wren', 'Cactus_Wren', 'Carolina_Wren', 'House_Wren', 'Rock_Wren', 'Marsh_Wren', 'Winter_Wren', 'Common_Yellowthroat']\n"
     ]
    }
   ],
   "execution_count": 204
  },
  {
   "metadata": {
    "ExecuteTime": {
     "end_time": "2025-01-05T17:45:26.239439Z",
     "start_time": "2025-01-05T17:45:26.233151Z"
    }
   },
   "cell_type": "code",
   "source": [
    "print(type(train_images_256))\n",
    "print(train_images_256.shape)"
   ],
   "id": "6bf7f63d63eb35f3",
   "outputs": [
    {
     "name": "stdout",
     "output_type": "stream",
     "text": [
      "<class 'torch.Tensor'>\n",
      "torch.Size([8855, 3, 256, 256])\n"
     ]
    }
   ],
   "execution_count": 206
  },
  {
   "metadata": {
    "ExecuteTime": {
     "end_time": "2025-01-05T17:45:43.991333Z",
     "start_time": "2025-01-05T17:45:43.982093Z"
    }
   },
   "cell_type": "code",
   "source": [
    "print(type(train_images_256[0]))\n",
    "print(train_images_256[0].shape)"
   ],
   "id": "9bb9ef4ccadc9b53",
   "outputs": [
    {
     "name": "stdout",
     "output_type": "stream",
     "text": [
      "<class 'torch.Tensor'>\n",
      "torch.Size([3, 256, 256])\n"
     ]
    }
   ],
   "execution_count": 207
  },
  {
   "metadata": {},
   "cell_type": "code",
   "outputs": [],
   "execution_count": null,
   "source": "",
   "id": "77088571e71ba594"
  },
  {
   "metadata": {},
   "cell_type": "code",
   "outputs": [],
   "execution_count": null,
   "source": "",
   "id": "23fc0946d6d3beb7"
  },
  {
   "metadata": {},
   "cell_type": "code",
   "outputs": [],
   "execution_count": null,
   "source": "",
   "id": "daa733e9137d98bd"
  },
  {
   "metadata": {},
   "cell_type": "code",
   "outputs": [],
   "execution_count": null,
   "source": "",
   "id": "c76898a9b09ba992"
  },
  {
   "metadata": {},
   "cell_type": "code",
   "outputs": [],
   "execution_count": null,
   "source": "",
   "id": "14f5c18db59e0a3a"
  },
  {
   "metadata": {},
   "cell_type": "code",
   "outputs": [],
   "execution_count": null,
   "source": "",
   "id": "bfe15a913f050dd0"
  },
  {
   "metadata": {},
   "cell_type": "code",
   "outputs": [],
   "execution_count": null,
   "source": "",
   "id": "74f1e84eadfabc02"
  },
  {
   "metadata": {},
   "cell_type": "code",
   "outputs": [],
   "execution_count": null,
   "source": "",
   "id": "ba87844a197646d6"
  }
 ],
 "metadata": {
  "kernelspec": {
   "display_name": "Python 3",
   "language": "python",
   "name": "python3"
  },
  "language_info": {
   "codemirror_mode": {
    "name": "ipython",
    "version": 2
   },
   "file_extension": ".py",
   "mimetype": "text/x-python",
   "name": "python",
   "nbconvert_exporter": "python",
   "pygments_lexer": "ipython2",
   "version": "2.7.6"
  }
 },
 "nbformat": 4,
 "nbformat_minor": 5
}
