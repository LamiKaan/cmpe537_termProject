{
 "cells": [
  {
   "cell_type": "code",
   "id": "initial_id",
   "metadata": {
    "collapsed": true,
    "ExecuteTime": {
     "end_time": "2025-01-09T20:38:47.321728Z",
     "start_time": "2025-01-09T20:38:46.231043Z"
    }
   },
   "source": [
    "import torch\n",
    "import scipy.io as sio\n",
    "import numpy as np\n",
    "import pickle"
   ],
   "outputs": [],
   "execution_count": 1
  },
  {
   "metadata": {
    "ExecuteTime": {
     "end_time": "2025-01-09T20:39:37.466792Z",
     "start_time": "2025-01-09T20:39:37.401989Z"
    }
   },
   "cell_type": "code",
   "source": "images_convnext = sio.loadmat('/Users/lkk/Documents/BOUN CMPE/CMPE 537-Computer Vision/Term Project/Code/Datasets/CUB_Paper/convnext.mat')",
   "id": "6121253d07e1ef1c",
   "outputs": [],
   "execution_count": 2
  },
  {
   "metadata": {
    "ExecuteTime": {
     "end_time": "2025-01-09T20:39:46.990116Z",
     "start_time": "2025-01-09T20:39:46.988372Z"
    }
   },
   "cell_type": "code",
   "source": "print(type(images_convnext))",
   "id": "35efaf46636e1e3d",
   "outputs": [
    {
     "name": "stdout",
     "output_type": "stream",
     "text": [
      "<class 'dict'>\n"
     ]
    }
   ],
   "execution_count": 3
  },
  {
   "metadata": {
    "ExecuteTime": {
     "end_time": "2025-01-09T20:40:04.513260Z",
     "start_time": "2025-01-09T20:40:04.510216Z"
    }
   },
   "cell_type": "code",
   "source": "images_convnext.keys()",
   "id": "89a4e0d66cb090a1",
   "outputs": [
    {
     "data": {
      "text/plain": [
       "dict_keys(['__header__', '__version__', '__globals__', 'image_files', 'features', 'labels'])"
      ]
     },
     "execution_count": 4,
     "metadata": {},
     "output_type": "execute_result"
    }
   ],
   "execution_count": 4
  },
  {
   "metadata": {
    "ExecuteTime": {
     "end_time": "2025-01-09T20:40:23.034906Z",
     "start_time": "2025-01-09T20:40:23.033269Z"
    }
   },
   "cell_type": "code",
   "source": "convnext_features = images_convnext['features']",
   "id": "b765d441b7b99f15",
   "outputs": [],
   "execution_count": 5
  },
  {
   "metadata": {
    "ExecuteTime": {
     "end_time": "2025-01-09T20:41:37.469601Z",
     "start_time": "2025-01-09T20:41:37.467348Z"
    }
   },
   "cell_type": "code",
   "source": [
    "convnext_features = convnext_features.transpose()\n",
    "print(convnext_features.shape)"
   ],
   "id": "5fbc09b5b749e6db",
   "outputs": [
    {
     "name": "stdout",
     "output_type": "stream",
     "text": [
      "(11788, 768)\n"
     ]
    }
   ],
   "execution_count": 8
  },
  {
   "metadata": {
    "ExecuteTime": {
     "end_time": "2025-01-09T20:42:13.120154Z",
     "start_time": "2025-01-09T20:42:13.041076Z"
    }
   },
   "cell_type": "code",
   "source": [
    "with open('/Users/lkk/Documents/BOUN CMPE/CMPE 537-Computer Vision/Term Project/Code/Datasets/CUB_Paper/produced/convnext_features.pkl', 'wb') as f:\n",
    "    pickle.dump(convnext_features, f)\n",
    "    "
   ],
   "id": "296026ef1d0e439",
   "outputs": [],
   "execution_count": 9
  },
  {
   "metadata": {
    "ExecuteTime": {
     "end_time": "2025-01-09T20:43:28.449629Z",
     "start_time": "2025-01-09T20:43:27.866687Z"
    }
   },
   "cell_type": "code",
   "source": "images_res101 = sio.loadmat('/Users/lkk/Documents/BOUN CMPE/CMPE 537-Computer Vision/Term Project/Code/Datasets/CUB_Paper/res101.mat')",
   "id": "9d8b9b11f4026b30",
   "outputs": [],
   "execution_count": 10
  },
  {
   "metadata": {
    "ExecuteTime": {
     "end_time": "2025-01-09T20:43:36.002603Z",
     "start_time": "2025-01-09T20:43:36.000159Z"
    }
   },
   "cell_type": "code",
   "source": "images_res101[\"features\"].shape",
   "id": "86548411992cc1aa",
   "outputs": [
    {
     "data": {
      "text/plain": [
       "(2048, 11788)"
      ]
     },
     "execution_count": 11,
     "metadata": {},
     "output_type": "execute_result"
    }
   ],
   "execution_count": 11
  },
  {
   "metadata": {
    "ExecuteTime": {
     "end_time": "2025-01-09T20:43:47.517509Z",
     "start_time": "2025-01-09T20:43:47.515825Z"
    }
   },
   "cell_type": "code",
   "source": "res101_features = images_res101['features'].transpose()",
   "id": "d04989397a3a697d",
   "outputs": [],
   "execution_count": 12
  },
  {
   "metadata": {
    "ExecuteTime": {
     "end_time": "2025-01-09T20:44:21.631230Z",
     "start_time": "2025-01-09T20:44:21.417578Z"
    }
   },
   "cell_type": "code",
   "source": [
    "with open('/Users/lkk/Documents/BOUN CMPE/CMPE 537-Computer Vision/Term Project/Code/Datasets/CUB_Paper/produced/res101_features.pkl', 'wb') as f:\n",
    "    pickle.dump(res101_features, f)"
   ],
   "id": "397e181d303c39",
   "outputs": [],
   "execution_count": 14
  },
  {
   "metadata": {
    "ExecuteTime": {
     "end_time": "2025-01-09T20:45:30.646493Z",
     "start_time": "2025-01-09T20:45:26.240802Z"
    }
   },
   "cell_type": "code",
   "source": [
    "with open('/Users/lkk/Documents/BOUN CMPE/CMPE 537-Computer Vision/Term Project/Code/Datasets/CUB_Paper/produced/dataset_info2.pkl', 'rb') as f:\n",
    "    dataset_info = pickle.load(f)"
   ],
   "id": "e07f0d90eaa025b3",
   "outputs": [],
   "execution_count": 15
  },
  {
   "metadata": {
    "ExecuteTime": {
     "end_time": "2025-01-09T20:45:35.657355Z",
     "start_time": "2025-01-09T20:45:35.653887Z"
    }
   },
   "cell_type": "code",
   "source": "dataset_info.keys()",
   "id": "781bcb1f9dcfcc42",
   "outputs": [
    {
     "data": {
      "text/plain": [
       "dict_keys(['__header__', '__version__', '__globals__', 'image_files', 'features', 'labels', 'imageNumbers', 'labelNames', 'image_tensors_256', 'image_tensors_128', 'image_tensors_64', 'sentence_descriptions', 'st_embeddings_agg', 'st_embeddings_avg'])"
      ]
     },
     "execution_count": 16,
     "metadata": {},
     "output_type": "execute_result"
    }
   ],
   "execution_count": 16
  },
  {
   "metadata": {
    "ExecuteTime": {
     "end_time": "2025-01-09T20:46:32.674670Z",
     "start_time": "2025-01-09T20:46:32.672735Z"
    }
   },
   "cell_type": "code",
   "source": [
    "print(np.max(dataset_info[\"labels\"]))\n",
    "print(np.min(dataset_info[\"labels\"]))"
   ],
   "id": "ae61b023c42bed53",
   "outputs": [
    {
     "name": "stdout",
     "output_type": "stream",
     "text": [
      "200\n",
      "1\n"
     ]
    }
   ],
   "execution_count": 17
  },
  {
   "metadata": {
    "ExecuteTime": {
     "end_time": "2025-01-09T20:47:43.223795Z",
     "start_time": "2025-01-09T20:47:43.221953Z"
    }
   },
   "cell_type": "code",
   "source": "np.info(dataset_info[\"labelNames\"])",
   "id": "224b95af48ca3e68",
   "outputs": [
    {
     "name": "stdout",
     "output_type": "stream",
     "text": [
      "class:  ndarray\n",
      "shape:  (11788, 1)\n",
      "strides:  (8, 8)\n",
      "itemsize:  8\n",
      "aligned:  True\n",
      "contiguous:  True\n",
      "fortran:  True\n",
      "data pointer: 0x1201f0000\n",
      "byteorder:  little\n",
      "byteswap:  False\n",
      "type: object\n"
     ]
    }
   ],
   "execution_count": 19
  },
  {
   "metadata": {
    "ExecuteTime": {
     "end_time": "2025-01-09T20:48:57.976649Z",
     "start_time": "2025-01-09T20:48:57.974828Z"
    }
   },
   "cell_type": "code",
   "source": "print(type(dataset_info[\"labelNames\"][0].item()))",
   "id": "9b0a670fef6d31e5",
   "outputs": [
    {
     "name": "stdout",
     "output_type": "stream",
     "text": [
      "<class 'numpy.ndarray'>\n"
     ]
    }
   ],
   "execution_count": 24
  },
  {
   "metadata": {
    "ExecuteTime": {
     "end_time": "2025-01-09T20:50:01.269952Z",
     "start_time": "2025-01-09T20:50:01.268303Z"
    }
   },
   "cell_type": "code",
   "source": "labels_and_names = {\"labels\": dataset_info[\"labels\"], \"labelNames\": dataset_info[\"labelNames\"]}",
   "id": "d2f6bd1580083801",
   "outputs": [],
   "execution_count": 25
  },
  {
   "metadata": {
    "ExecuteTime": {
     "end_time": "2025-01-09T20:51:16.869370Z",
     "start_time": "2025-01-09T20:51:16.863787Z"
    }
   },
   "cell_type": "code",
   "source": [
    "with open(\"/Users/lkk/Documents/BOUN CMPE/CMPE 537-Computer Vision/Term Project/Code/Datasets/CUB_Paper/produced/labels.pkl\", \"wb\") as f:\n",
    "    pickle.dump(labels_and_names, f)"
   ],
   "id": "9ff658766504287b",
   "outputs": [],
   "execution_count": 26
  },
  {
   "metadata": {
    "ExecuteTime": {
     "end_time": "2025-01-09T20:55:09.558660Z",
     "start_time": "2025-01-09T20:55:09.556988Z"
    }
   },
   "cell_type": "code",
   "source": "sentence_embeddings = {\"st_embeddings_agg\": dataset_info[\"st_embeddings_agg\"], \"st_embeddings_avg\": dataset_info[\"st_embeddings_avg\"]}",
   "id": "935de78b13814324",
   "outputs": [],
   "execution_count": 27
  },
  {
   "metadata": {
    "ExecuteTime": {
     "end_time": "2025-01-09T20:55:38.821078Z",
     "start_time": "2025-01-09T20:55:38.789575Z"
    }
   },
   "cell_type": "code",
   "source": [
    "with open(\"/Users/lkk/Documents/BOUN CMPE/CMPE 537-Computer Vision/Term Project/Code/Datasets/CUB_Paper/produced/sentence_embeddings.pkl\", \"wb\") as f:\n",
    "    pickle.dump(sentence_embeddings, f)"
   ],
   "id": "aab8fd4b6ba634db",
   "outputs": [],
   "execution_count": 29
  },
  {
   "metadata": {
    "ExecuteTime": {
     "end_time": "2025-01-09T20:56:06.638643Z",
     "start_time": "2025-01-09T20:56:06.628196Z"
    }
   },
   "cell_type": "code",
   "source": "attribute_splits = sio.loadmat(\"/Users/lkk/Documents/BOUN CMPE/CMPE 537-Computer Vision/Term Project/Code/Datasets/CUB_Paper/att_splits.mat\")",
   "id": "264024ba3335616b",
   "outputs": [],
   "execution_count": 30
  },
  {
   "metadata": {
    "ExecuteTime": {
     "end_time": "2025-01-09T21:01:27.482073Z",
     "start_time": "2025-01-09T21:01:27.479501Z"
    }
   },
   "cell_type": "code",
   "source": "attribute_splits.keys()",
   "id": "a48d88ae222c1c08",
   "outputs": [
    {
     "data": {
      "text/plain": [
       "dict_keys(['__header__', '__version__', '__globals__', 'allclasses_names', 'att', 'original_att', 'test_seen_loc', 'test_unseen_loc', 'train_loc', 'trainval_loc', 'val_loc'])"
      ]
     },
     "execution_count": 34,
     "metadata": {},
     "output_type": "execute_result"
    }
   ],
   "execution_count": 34
  },
  {
   "metadata": {
    "ExecuteTime": {
     "end_time": "2025-01-09T21:02:01.096271Z",
     "start_time": "2025-01-09T21:02:01.094597Z"
    }
   },
   "cell_type": "code",
   "source": "class_attributes = attribute_splits['att'].transpose()",
   "id": "26dde620b217dcd4",
   "outputs": [],
   "execution_count": 35
  },
  {
   "metadata": {
    "ExecuteTime": {
     "end_time": "2025-01-09T21:02:09.673313Z",
     "start_time": "2025-01-09T21:02:09.671328Z"
    }
   },
   "cell_type": "code",
   "source": "np.info(class_attributes)",
   "id": "d6419f90d7b70f27",
   "outputs": [
    {
     "name": "stdout",
     "output_type": "stream",
     "text": [
      "class:  ndarray\n",
      "shape:  (200, 312)\n",
      "strides:  (2496, 8)\n",
      "itemsize:  8\n",
      "aligned:  True\n",
      "contiguous:  True\n",
      "fortran:  False\n",
      "data pointer: 0x120380020\n",
      "byteorder:  little\n",
      "byteswap:  False\n",
      "type: float64\n"
     ]
    }
   ],
   "execution_count": 36
  },
  {
   "metadata": {
    "ExecuteTime": {
     "end_time": "2025-01-09T21:02:37.246228Z",
     "start_time": "2025-01-09T21:02:37.242118Z"
    }
   },
   "cell_type": "code",
   "source": [
    "with open(\"/Users/lkk/Documents/BOUN CMPE/CMPE 537-Computer Vision/Term Project/Code/Datasets/CUB_Paper/produced/class_attributes.pkl\", \"wb\") as f:\n",
    "    pickle.dump(class_attributes, f)"
   ],
   "id": "e51a51a4c82f7ce8",
   "outputs": [],
   "execution_count": 37
  },
  {
   "metadata": {
    "ExecuteTime": {
     "end_time": "2025-01-09T20:56:21.180100Z",
     "start_time": "2025-01-09T20:56:21.178114Z"
    }
   },
   "cell_type": "code",
   "source": "print(type(attribute_splits[\"att\"]))",
   "id": "87eef8edbc67297",
   "outputs": [
    {
     "name": "stdout",
     "output_type": "stream",
     "text": [
      "<class 'numpy.ndarray'>\n"
     ]
    }
   ],
   "execution_count": 31
  },
  {
   "metadata": {
    "ExecuteTime": {
     "end_time": "2025-01-09T20:56:29.931979Z",
     "start_time": "2025-01-09T20:56:29.929335Z"
    }
   },
   "cell_type": "code",
   "source": "np.info(attribute_splits[\"att\"])",
   "id": "42c9a5b04b25b360",
   "outputs": [
    {
     "name": "stdout",
     "output_type": "stream",
     "text": [
      "class:  ndarray\n",
      "shape:  (312, 200)\n",
      "strides:  (8, 2496)\n",
      "itemsize:  8\n",
      "aligned:  True\n",
      "contiguous:  False\n",
      "fortran:  True\n",
      "data pointer: 0x120380020\n",
      "byteorder:  little\n",
      "byteswap:  False\n",
      "type: float64\n"
     ]
    }
   ],
   "execution_count": 32
  },
  {
   "metadata": {
    "ExecuteTime": {
     "end_time": "2025-01-09T20:59:55.225316Z",
     "start_time": "2025-01-09T20:59:55.222345Z"
    }
   },
   "cell_type": "code",
   "source": [
    "print(dataset_info[\"labels\"][0])\n",
    "print(dataset_info[\"labelNames\"][0])"
   ],
   "id": "6e34d21872d8d6",
   "outputs": [
    {
     "name": "stdout",
     "output_type": "stream",
     "text": [
      "[151]\n",
      "[array(['001.Black_footed_Albatross'], dtype='<U26')]\n"
     ]
    }
   ],
   "execution_count": 33
  },
  {
   "metadata": {},
   "cell_type": "code",
   "outputs": [],
   "execution_count": null,
   "source": "",
   "id": "39bbcf8d6480a1ea"
  },
  {
   "metadata": {},
   "cell_type": "code",
   "outputs": [],
   "execution_count": null,
   "source": "",
   "id": "5b6a0b9a79e9cb40"
  },
  {
   "metadata": {},
   "cell_type": "code",
   "outputs": [],
   "execution_count": null,
   "source": "",
   "id": "dce501654db13404"
  },
  {
   "metadata": {
    "ExecuteTime": {
     "end_time": "2025-01-09T21:04:12.773898Z",
     "start_time": "2025-01-09T21:04:12.770591Z"
    }
   },
   "cell_type": "code",
   "source": "res101_features",
   "id": "f562e951951d45a2",
   "outputs": [
    {
     "data": {
      "text/plain": [
       "array([[0.40892997, 0.25413808, 2.12168241, ..., 0.11358754, 0.04199803,\n",
       "        0.12280495],\n",
       "       [0.41969657, 0.30752203, 0.77530569, ..., 0.21275087, 0.14942844,\n",
       "        0.34912837],\n",
       "       [0.18802039, 0.08614247, 2.11704683, ..., 0.04323977, 0.19070306,\n",
       "        0.        ],\n",
       "       ...,\n",
       "       [0.30434826, 0.19108224, 0.11788042, ..., 0.35180986, 0.        ,\n",
       "        0.04952463],\n",
       "       [0.35864624, 0.13533165, 0.06038139, ..., 0.54067051, 0.35444796,\n",
       "        0.03132629],\n",
       "       [0.65450728, 0.20017533, 0.00543019, ..., 0.23211631, 0.03051368,\n",
       "        0.        ]])"
      ]
     },
     "execution_count": 38,
     "metadata": {},
     "output_type": "execute_result"
    }
   ],
   "execution_count": 38
  },
  {
   "metadata": {
    "ExecuteTime": {
     "end_time": "2025-01-09T21:05:18.199558Z",
     "start_time": "2025-01-09T21:05:18.196991Z"
    }
   },
   "cell_type": "code",
   "source": "res101_features[[3,7,9]]",
   "id": "b3553db81ac4fcdb",
   "outputs": [
    {
     "data": {
      "text/plain": [
       "array([[0.02941518, 0.0413953 , 3.70651984, ..., 2.34646916, 0.27634326,\n",
       "        0.4924244 ],\n",
       "       [0.        , 0.48947716, 1.75642276, ..., 0.        , 0.02835732,\n",
       "        0.50926781],\n",
       "       [0.18578325, 0.41538531, 0.81130838, ..., 0.        , 0.01743844,\n",
       "        0.        ]])"
      ]
     },
     "execution_count": 40,
     "metadata": {},
     "output_type": "execute_result"
    }
   ],
   "execution_count": 40
  },
  {
   "metadata": {},
   "cell_type": "code",
   "outputs": [],
   "execution_count": null,
   "source": "",
   "id": "e7848cf3c332e38f"
  }
 ],
 "metadata": {
  "kernelspec": {
   "display_name": "Python 3",
   "language": "python",
   "name": "python3"
  },
  "language_info": {
   "codemirror_mode": {
    "name": "ipython",
    "version": 2
   },
   "file_extension": ".py",
   "mimetype": "text/x-python",
   "name": "python",
   "nbconvert_exporter": "python",
   "pygments_lexer": "ipython2",
   "version": "2.7.6"
  }
 },
 "nbformat": 4,
 "nbformat_minor": 5
}
