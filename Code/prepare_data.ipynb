{
 "cells": [
  {
   "cell_type": "code",
   "id": "initial_id",
   "metadata": {
    "collapsed": true,
    "ExecuteTime": {
     "end_time": "2025-01-09T15:08:28.842282Z",
     "start_time": "2025-01-09T15:08:27.616299Z"
    }
   },
   "source": [
    "import torch\n",
    "import scipy.io as sio\n",
    "import numpy as np\n",
    "import pickle"
   ],
   "outputs": [],
   "execution_count": 1
  },
  {
   "metadata": {},
   "cell_type": "markdown",
   "source": "### KAGGLE DATASET - IMPORT AND COMPILE IMAGES WITH THEIR SENTENCE DESCRIPTIONS",
   "id": "67396dc1cccc1cdb"
  },
  {
   "metadata": {
    "ExecuteTime": {
     "end_time": "2025-01-09T15:08:30.963502Z",
     "start_time": "2025-01-09T15:08:30.941392Z"
    }
   },
   "cell_type": "code",
   "source": [
    "# Check that MPS is available\n",
    "if not torch.backends.mps.is_available():\n",
    "    if not torch.backends.mps.is_built():\n",
    "        print(\"MPS not available because the current PyTorch install was not \"\n",
    "              \"built with MPS enabled.\")\n",
    "    else:\n",
    "        print(\"MPS not available because the current MacOS version is not 12.3+ \"\n",
    "              \"and/or you do not have an MPS-enabled device on this machine.\")\n",
    "\n",
    "else:\n",
    "    mps_device = torch.device(\"mps\")"
   ],
   "id": "5d699fae3d280c18",
   "outputs": [],
   "execution_count": 2
  },
  {
   "metadata": {
    "ExecuteTime": {
     "end_time": "2025-01-09T15:08:31.583242Z",
     "start_time": "2025-01-09T15:08:31.580163Z"
    }
   },
   "cell_type": "code",
   "source": [
    "class kaggleImage:\n",
    "    def __init__(self):\n",
    "        self.image_id = None\n",
    "        self.image_class_id = None\n",
    "        self.image_class_name = None\n",
    "        self.image_sentences = None\n",
    "        self.is_train = None\n",
    "        self.image_index = None\n",
    "        self.image_tensor_64 = None\n",
    "        self.image_tensor_128 = None\n",
    "        self.image_tensor_256 = None\n",
    "        \n",
    "    def __str__(self):\n",
    "        print_string = (f\"Kaggle Image:\\n\"\n",
    "              f\"\\tImage Id: {self.image_id}\\n\"\n",
    "              f\"\\tImage Class ID: {self.image_class_id}\\n\"\n",
    "              f\"\\tImage Class Name: {self.image_class_name}\\n\"\n",
    "              f\"\\tImage Sentences: {self.image_sentences}\\n\"\n",
    "              f\"\\tIs Train: {self.is_train}\\n\"\n",
    "              f\"\\tImage shapes:\\n\"\n",
    "              f\"\\t\\t{self.image_tensor_64.shape}\\n\"\n",
    "              f\"\\t\\t{self.image_tensor_128.shape}\\n\"\n",
    "              f\"\\t\\t{self.image_tensor_256.shape}\")\n",
    "        \n",
    "        return print_string"
   ],
   "id": "4d43c57a6b3939f1",
   "outputs": [],
   "execution_count": 3
  },
  {
   "metadata": {
    "ExecuteTime": {
     "end_time": "2025-01-09T15:08:32.786762Z",
     "start_time": "2025-01-09T15:08:32.643456Z"
    }
   },
   "cell_type": "code",
   "source": "metadata = torch.load(\"/Users/lkk/Documents/BOUN CMPE/CMPE 537-Computer Vision/Term Project/Code/Datasets/CUB_Kaggle/metadata.pth\")",
   "id": "e34fcade7ce14a08",
   "outputs": [
    {
     "name": "stderr",
     "output_type": "stream",
     "text": [
      "/var/folders/w_/qpdjg8096dl3n3gz3wz38ksc0000gn/T/ipykernel_7264/2933442925.py:1: FutureWarning: You are using `torch.load` with `weights_only=False` (the current default value), which uses the default pickle module implicitly. It is possible to construct malicious pickle data which will execute arbitrary code during unpickling (See https://github.com/pytorch/pytorch/blob/main/SECURITY.md#untrusted-models for more details). In a future release, the default value for `weights_only` will be flipped to `True`. This limits the functions that could be executed during unpickling. Arbitrary objects will no longer be allowed to be loaded via this mode unless they are explicitly allowlisted by the user via `torch.serialization.add_safe_globals`. We recommend you start setting `weights_only=True` for any use case where you don't have full control of the loaded file. Please open an issue on GitHub for any issues related to this experimental feature.\n",
      "  metadata = torch.load(\"/Users/lkk/Documents/BOUN CMPE/CMPE 537-Computer Vision/Term Project/Code/Datasets/CUB_Kaggle/metadata.pth\")\n"
     ]
    }
   ],
   "execution_count": 4
  },
  {
   "metadata": {
    "ExecuteTime": {
     "end_time": "2025-01-09T15:08:40.486819Z",
     "start_time": "2025-01-09T15:08:38.692333Z"
    }
   },
   "cell_type": "code",
   "source": [
    "train_images_256 = torch.load(\"/Users/lkk/Documents/BOUN CMPE/CMPE 537-Computer Vision/Term Project/Code/Datasets/CUB_Kaggle/imgs_train_val_256x256.pth\")\n",
    "train_images_128 = torch.load(\"/Users/lkk/Documents/BOUN CMPE/CMPE 537-Computer Vision/Term Project/Code/Datasets/CUB_Kaggle/imgs_train_val_128x128.pth\")\n",
    "train_images_64 = torch.load(\"/Users/lkk/Documents/BOUN CMPE/CMPE 537-Computer Vision/Term Project/Code/Datasets/CUB_Kaggle/imgs_train_val_64x64.pth\")\n",
    "\n",
    "test_images_256 = torch.load(\"/Users/lkk/Documents/BOUN CMPE/CMPE 537-Computer Vision/Term Project/Code/Datasets/CUB_Kaggle/imgs_test_256x256.pth\")\n",
    "test_images_128 = torch.load(\"/Users/lkk/Documents/BOUN CMPE/CMPE 537-Computer Vision/Term Project/Code/Datasets/CUB_Kaggle/imgs_test_128x128.pth\")\n",
    "test_images_64 = torch.load(\"/Users/lkk/Documents/BOUN CMPE/CMPE 537-Computer Vision/Term Project/Code/Datasets/CUB_Kaggle/imgs_test_64x64.pth\")"
   ],
   "id": "260e9e2c47ab6cf2",
   "outputs": [
    {
     "name": "stderr",
     "output_type": "stream",
     "text": [
      "/var/folders/w_/qpdjg8096dl3n3gz3wz38ksc0000gn/T/ipykernel_7264/1046569069.py:1: FutureWarning: You are using `torch.load` with `weights_only=False` (the current default value), which uses the default pickle module implicitly. It is possible to construct malicious pickle data which will execute arbitrary code during unpickling (See https://github.com/pytorch/pytorch/blob/main/SECURITY.md#untrusted-models for more details). In a future release, the default value for `weights_only` will be flipped to `True`. This limits the functions that could be executed during unpickling. Arbitrary objects will no longer be allowed to be loaded via this mode unless they are explicitly allowlisted by the user via `torch.serialization.add_safe_globals`. We recommend you start setting `weights_only=True` for any use case where you don't have full control of the loaded file. Please open an issue on GitHub for any issues related to this experimental feature.\n",
      "  train_images_256 = torch.load(\"/Users/lkk/Documents/BOUN CMPE/CMPE 537-Computer Vision/Term Project/Code/Datasets/CUB_Kaggle/imgs_train_val_256x256.pth\")\n",
      "/var/folders/w_/qpdjg8096dl3n3gz3wz38ksc0000gn/T/ipykernel_7264/1046569069.py:2: FutureWarning: You are using `torch.load` with `weights_only=False` (the current default value), which uses the default pickle module implicitly. It is possible to construct malicious pickle data which will execute arbitrary code during unpickling (See https://github.com/pytorch/pytorch/blob/main/SECURITY.md#untrusted-models for more details). In a future release, the default value for `weights_only` will be flipped to `True`. This limits the functions that could be executed during unpickling. Arbitrary objects will no longer be allowed to be loaded via this mode unless they are explicitly allowlisted by the user via `torch.serialization.add_safe_globals`. We recommend you start setting `weights_only=True` for any use case where you don't have full control of the loaded file. Please open an issue on GitHub for any issues related to this experimental feature.\n",
      "  train_images_128 = torch.load(\"/Users/lkk/Documents/BOUN CMPE/CMPE 537-Computer Vision/Term Project/Code/Datasets/CUB_Kaggle/imgs_train_val_128x128.pth\")\n",
      "/var/folders/w_/qpdjg8096dl3n3gz3wz38ksc0000gn/T/ipykernel_7264/1046569069.py:3: FutureWarning: You are using `torch.load` with `weights_only=False` (the current default value), which uses the default pickle module implicitly. It is possible to construct malicious pickle data which will execute arbitrary code during unpickling (See https://github.com/pytorch/pytorch/blob/main/SECURITY.md#untrusted-models for more details). In a future release, the default value for `weights_only` will be flipped to `True`. This limits the functions that could be executed during unpickling. Arbitrary objects will no longer be allowed to be loaded via this mode unless they are explicitly allowlisted by the user via `torch.serialization.add_safe_globals`. We recommend you start setting `weights_only=True` for any use case where you don't have full control of the loaded file. Please open an issue on GitHub for any issues related to this experimental feature.\n",
      "  train_images_64 = torch.load(\"/Users/lkk/Documents/BOUN CMPE/CMPE 537-Computer Vision/Term Project/Code/Datasets/CUB_Kaggle/imgs_train_val_64x64.pth\")\n",
      "/var/folders/w_/qpdjg8096dl3n3gz3wz38ksc0000gn/T/ipykernel_7264/1046569069.py:5: FutureWarning: You are using `torch.load` with `weights_only=False` (the current default value), which uses the default pickle module implicitly. It is possible to construct malicious pickle data which will execute arbitrary code during unpickling (See https://github.com/pytorch/pytorch/blob/main/SECURITY.md#untrusted-models for more details). In a future release, the default value for `weights_only` will be flipped to `True`. This limits the functions that could be executed during unpickling. Arbitrary objects will no longer be allowed to be loaded via this mode unless they are explicitly allowlisted by the user via `torch.serialization.add_safe_globals`. We recommend you start setting `weights_only=True` for any use case where you don't have full control of the loaded file. Please open an issue on GitHub for any issues related to this experimental feature.\n",
      "  test_images_256 = torch.load(\"/Users/lkk/Documents/BOUN CMPE/CMPE 537-Computer Vision/Term Project/Code/Datasets/CUB_Kaggle/imgs_test_256x256.pth\")\n",
      "/var/folders/w_/qpdjg8096dl3n3gz3wz38ksc0000gn/T/ipykernel_7264/1046569069.py:6: FutureWarning: You are using `torch.load` with `weights_only=False` (the current default value), which uses the default pickle module implicitly. It is possible to construct malicious pickle data which will execute arbitrary code during unpickling (See https://github.com/pytorch/pytorch/blob/main/SECURITY.md#untrusted-models for more details). In a future release, the default value for `weights_only` will be flipped to `True`. This limits the functions that could be executed during unpickling. Arbitrary objects will no longer be allowed to be loaded via this mode unless they are explicitly allowlisted by the user via `torch.serialization.add_safe_globals`. We recommend you start setting `weights_only=True` for any use case where you don't have full control of the loaded file. Please open an issue on GitHub for any issues related to this experimental feature.\n",
      "  test_images_128 = torch.load(\"/Users/lkk/Documents/BOUN CMPE/CMPE 537-Computer Vision/Term Project/Code/Datasets/CUB_Kaggle/imgs_test_128x128.pth\")\n",
      "/var/folders/w_/qpdjg8096dl3n3gz3wz38ksc0000gn/T/ipykernel_7264/1046569069.py:7: FutureWarning: You are using `torch.load` with `weights_only=False` (the current default value), which uses the default pickle module implicitly. It is possible to construct malicious pickle data which will execute arbitrary code during unpickling (See https://github.com/pytorch/pytorch/blob/main/SECURITY.md#untrusted-models for more details). In a future release, the default value for `weights_only` will be flipped to `True`. This limits the functions that could be executed during unpickling. Arbitrary objects will no longer be allowed to be loaded via this mode unless they are explicitly allowlisted by the user via `torch.serialization.add_safe_globals`. We recommend you start setting `weights_only=True` for any use case where you don't have full control of the loaded file. Please open an issue on GitHub for any issues related to this experimental feature.\n",
      "  test_images_64 = torch.load(\"/Users/lkk/Documents/BOUN CMPE/CMPE 537-Computer Vision/Term Project/Code/Datasets/CUB_Kaggle/imgs_test_64x64.pth\")\n"
     ]
    }
   ],
   "execution_count": 5
  },
  {
   "metadata": {
    "ExecuteTime": {
     "end_time": "2025-01-09T15:08:45.747095Z",
     "start_time": "2025-01-09T15:08:43.969083Z"
    }
   },
   "cell_type": "code",
   "source": [
    "images_kaggle = {}\n",
    "\n",
    "for i in range(len(metadata[\"img_ids\"])):\n",
    "    image = kaggleImage()\n",
    "    image.image_id = metadata[\"img_ids\"][i]\n",
    "    image.image_class_id = metadata[\"img_id_to_class_id\"][image.image_id]\n",
    "    image.image_class_name = metadata[\"class_id_to_class_name\"][image.image_class_id]\n",
    "    \n",
    "    image_sentences = []\n",
    "    for encoded_sentence in metadata[\"img_id_to_encoded_caps\"][image.image_id]:\n",
    "        decoded_sentence = \"\"\n",
    "        for encoded_word in encoded_sentence:\n",
    "            decoded_word = metadata[\"word_id_to_word\"][encoded_word]\n",
    "            decoded_sentence += decoded_word\n",
    "            decoded_sentence += \" \"\n",
    "        \n",
    "        decoded_sentence = decoded_sentence.strip()\n",
    "        image_sentences.append(decoded_sentence)\n",
    "        \n",
    "    image.image_sentences = image_sentences\n",
    "    \n",
    "    if image.image_id in metadata[\"train_val_img_ids\"]:\n",
    "        image.is_train = True\n",
    "        image.image_index = metadata[\"train_val_img_ids\"].index(image.image_id)\n",
    "        image.image_tensor_256 = train_images_256[image.image_index]\n",
    "        image.image_tensor_128 = train_images_128[image.image_index]\n",
    "        image.image_tensor_64 = train_images_64[image.image_index]      \n",
    "    else:\n",
    "        image.is_train = False\n",
    "        image.image_index = metadata[\"test_img_ids\"].index(image.image_id)\n",
    "        image.image_tensor_256 = test_images_256[image.image_index]\n",
    "        image.image_tensor_128 = test_images_128[image.image_index]\n",
    "        image.image_tensor_64 = test_images_64[image.image_index]\n",
    "        \n",
    "    images_kaggle[image.image_id] = image"
   ],
   "id": "2ed678f32692db39",
   "outputs": [],
   "execution_count": 6
  },
  {
   "metadata": {
    "ExecuteTime": {
     "end_time": "2025-01-09T15:08:49.115314Z",
     "start_time": "2025-01-09T15:08:49.113161Z"
    }
   },
   "cell_type": "code",
   "source": [
    "print(type(images_kaggle))\n",
    "print(images_kaggle[18])"
   ],
   "id": "80849bf610969752",
   "outputs": [
    {
     "name": "stdout",
     "output_type": "stream",
     "text": [
      "<class 'dict'>\n",
      "Kaggle Image:\n",
      "\tImage Id: 18\n",
      "\tImage Class ID: 0\n",
      "\tImage Class Name: Black_footed_Albatross\n",
      "\tImage Sentences: ['light tan colored bird with a white head and an orange beak .', 'the bird has a very thick , curved , and beige beak', 'this bird has a long neck that is <UNKNOWN> and a pastel orange / blue narrow beak that <UNKNOWN> down at the tip', 'this bird is light brown , has a long hooked bill , and looks <UNKNOWN> .', 'this large white bird has a large curved bill and a brown eye', 'this bird is white with grey and has a long , pointy beak .', 'this bird is white with grey and has a long , pointy beak .', 'the crown of the bird is white , with light brown tones throughout .', 'the crown of the bird has distinctive tones of white and brown throughout .', 'this bird has a long neck and an orange bill']\n",
      "\tIs Train: False\n",
      "\tImage shapes:\n",
      "\t\ttorch.Size([3, 64, 64])\n",
      "\t\ttorch.Size([3, 128, 128])\n",
      "\t\ttorch.Size([3, 256, 256])\n"
     ]
    }
   ],
   "execution_count": 7
  },
  {
   "metadata": {},
   "cell_type": "markdown",
   "source": "### PAPER DATASET - IMPORT AND COMPILE IMAGES WITH THEIR IMAGE NUMBERS",
   "id": "3388974bf521f671"
  },
  {
   "metadata": {
    "ExecuteTime": {
     "end_time": "2025-01-09T15:08:52.724609Z",
     "start_time": "2025-01-09T15:08:52.147246Z"
    }
   },
   "cell_type": "code",
   "source": "images_res101 = sio.loadmat('/Users/lkk/Documents/BOUN CMPE/CMPE 537-Computer Vision/Term Project/Code/Datasets/CUB_Paper/res101.mat')",
   "id": "7d6f70d8a97dd8ee",
   "outputs": [],
   "execution_count": 8
  },
  {
   "metadata": {
    "ExecuteTime": {
     "end_time": "2025-01-09T15:08:54.197277Z",
     "start_time": "2025-01-09T15:08:54.195478Z"
    }
   },
   "cell_type": "code",
   "source": [
    "print(type(images_res101))\n",
    "print(images_res101.keys())"
   ],
   "id": "38e865c3bc38a9ca",
   "outputs": [
    {
     "name": "stdout",
     "output_type": "stream",
     "text": [
      "<class 'dict'>\n",
      "dict_keys(['__header__', '__version__', '__globals__', 'image_files', 'features', 'labels'])\n"
     ]
    }
   ],
   "execution_count": 9
  },
  {
   "metadata": {
    "ExecuteTime": {
     "end_time": "2025-01-09T15:08:55.749738Z",
     "start_time": "2025-01-09T15:08:55.747497Z"
    }
   },
   "cell_type": "code",
   "source": [
    "for key in images_res101.keys():\n",
    "    if not key.startswith(\"_\"):\n",
    "        print(f\"Key: {key} Type: {type(images_res101[key])} Shape: {images_res101[key].shape}\\n\"\n",
    "              f\"First element type: {type(images_res101[key][0])}\\n\"\n",
    "              f\"Dype: {images_res101[key].dtype}\\n\"\n",
    "              f\"Element: {images_res101[key][0]}\\n\")"
   ],
   "id": "7784fcb4e054adbf",
   "outputs": [
    {
     "name": "stdout",
     "output_type": "stream",
     "text": [
      "Key: image_files Type: <class 'numpy.ndarray'> Shape: (11788, 1)\n",
      "First element type: <class 'numpy.ndarray'>\n",
      "Dype: object\n",
      "Element: [array(['/BS/Deep_Fragments/work/MSc/CUB_200_2011/CUB_200_2011/images/001.Black_footed_Albatross/Black_Footed_Albatross_0001_796111.jpg'],\n",
      "       dtype='<U126')                                                                                                                     ]\n",
      "\n",
      "Key: features Type: <class 'numpy.ndarray'> Shape: (2048, 11788)\n",
      "First element type: <class 'numpy.ndarray'>\n",
      "Dype: float64\n",
      "Element: [0.40892997 0.41969657 0.18802039 ... 0.30434826 0.35864624 0.65450728]\n",
      "\n",
      "Key: labels Type: <class 'numpy.ndarray'> Shape: (11788, 1)\n",
      "First element type: <class 'numpy.ndarray'>\n",
      "Dype: uint8\n",
      "Element: [151]\n",
      "\n"
     ]
    }
   ],
   "execution_count": 10
  },
  {
   "metadata": {
    "ExecuteTime": {
     "end_time": "2025-01-09T15:08:58.035612Z",
     "start_time": "2025-01-09T15:08:58.021842Z"
    }
   },
   "cell_type": "code",
   "source": [
    "imageNumbers = []\n",
    "for i in range(len(images_res101[\"image_files\"])):\n",
    "    filePath = images_res101[\"image_files\"][i][0][0]\n",
    "    imageNumber = int(filePath.split(\"_\")[-1].split(\".\")[0])\n",
    "    imageNumbers.append(imageNumber)\n",
    "\n",
    "images_res101['imageNumbers'] = np.array(imageNumbers)"
   ],
   "id": "6ebb0ba3455879ee",
   "outputs": [],
   "execution_count": 11
  },
  {
   "metadata": {
    "ExecuteTime": {
     "end_time": "2025-01-09T15:09:00.005616Z",
     "start_time": "2025-01-09T15:09:00.003571Z"
    }
   },
   "cell_type": "code",
   "source": "print(images_res101.keys())",
   "id": "586c26e0fef183f3",
   "outputs": [
    {
     "name": "stdout",
     "output_type": "stream",
     "text": [
      "dict_keys(['__header__', '__version__', '__globals__', 'image_files', 'features', 'labels', 'imageNumbers'])\n"
     ]
    }
   ],
   "execution_count": 12
  },
  {
   "metadata": {
    "ExecuteTime": {
     "end_time": "2025-01-09T15:09:02.447335Z",
     "start_time": "2025-01-09T15:09:02.441317Z"
    }
   },
   "cell_type": "code",
   "source": "attribute_splits = sio.loadmat(\"/Users/lkk/Documents/BOUN CMPE/CMPE 537-Computer Vision/Term Project/Code/Datasets/CUB_Paper/att_splits.mat\")",
   "id": "56de9a1d73c46316",
   "outputs": [],
   "execution_count": 13
  },
  {
   "metadata": {
    "ExecuteTime": {
     "end_time": "2025-01-09T15:09:05.104680Z",
     "start_time": "2025-01-09T15:09:05.103012Z"
    }
   },
   "cell_type": "code",
   "source": "print(attribute_splits.keys())",
   "id": "c6627dac28b76a9",
   "outputs": [
    {
     "name": "stdout",
     "output_type": "stream",
     "text": [
      "dict_keys(['__header__', '__version__', '__globals__', 'allclasses_names', 'att', 'original_att', 'test_seen_loc', 'test_unseen_loc', 'train_loc', 'trainval_loc', 'val_loc'])\n"
     ]
    }
   ],
   "execution_count": 14
  },
  {
   "metadata": {
    "ExecuteTime": {
     "end_time": "2025-01-09T15:09:09.542637Z",
     "start_time": "2025-01-09T15:09:09.537862Z"
    }
   },
   "cell_type": "code",
   "source": [
    "for key in attribute_splits.keys():\n",
    "    if not key.startswith(\"_\"):\n",
    "        print(f\"Key: {key} Type: {type(attribute_splits[key])} Shape: {attribute_splits[key].shape}\\n\"\n",
    "              f\"First element type: {type(attribute_splits[key][0])}\\n\"\n",
    "              f\"Dype: {attribute_splits[key].dtype}\\n\"\n",
    "              f\"Element: {attribute_splits[key][0]}\\n\")"
   ],
   "id": "3fae4d6b5fa3541e",
   "outputs": [
    {
     "name": "stdout",
     "output_type": "stream",
     "text": [
      "Key: allclasses_names Type: <class 'numpy.ndarray'> Shape: (200, 1)\n",
      "First element type: <class 'numpy.ndarray'>\n",
      "Dype: object\n",
      "Element: [array(['002.Laysan_Albatross'], dtype='<U20')]\n",
      "\n",
      "Key: att Type: <class 'numpy.ndarray'> Shape: (312, 200)\n",
      "First element type: <class 'numpy.ndarray'>\n",
      "Dype: float64\n",
      "Element: [0.0106384  0.         0.         0.         0.         0.\n",
      " 0.         0.         0.00474149 0.         0.0016366  0.\n",
      " 0.         0.00490575 0.         0.         0.00187755 0.\n",
      " 0.         0.         0.10176533 0.0046952  0.04470901 0.00189903\n",
      " 0.01095034 0.         0.         0.0034344  0.         0.\n",
      " 0.         0.         0.         0.00790824 0.00311325 0.\n",
      " 0.         0.         0.00690833 0.00295739 0.01006911 0.00637794\n",
      " 0.         0.         0.         0.         0.00904136 0.00937637\n",
      " 0.00877098 0.04062457 0.01286689 0.         0.         0.\n",
      " 0.         0.         0.         0.         0.0038029  0.\n",
      " 0.         0.         0.01395605 0.00906423 0.01055845 0.\n",
      " 0.00951459 0.         0.0129947  0.         0.09138329 0.00493771\n",
      " 0.         0.         0.01347431 0.00372915 0.00441099 0.01818968\n",
      " 0.00787245 0.         0.         0.         0.         0.\n",
      " 0.         0.         0.         0.         0.         0.\n",
      " 0.         0.00356572 0.         0.         0.         0.\n",
      " 0.         0.         0.         0.         0.00301856 0.01697487\n",
      " 0.02092584 0.00511488 0.00475079 0.00466942 0.0071459  0.\n",
      " 0.00883217 0.01465653 0.         0.         0.         0.00355693\n",
      " 0.00524509 0.         0.         0.         0.         0.\n",
      " 0.         0.00352901 0.         0.         0.         0.0035816\n",
      " 0.00532277 0.         0.         0.         0.0047186  0.\n",
      " 0.         0.00508893 0.         0.         0.         0.00293507\n",
      " 0.         0.         0.         0.         0.         0.05096808\n",
      " 0.06882084 0.07298079 0.00637912 0.0262006  0.         0.\n",
      " 0.         0.         0.         0.         0.         0.\n",
      " 0.         0.         0.01911162 0.03927385 0.         0.\n",
      " 0.00841808 0.         0.         0.         0.00560379 0.\n",
      " 0.01996408 0.00408435 0.00569796 0.         0.         0.01613439\n",
      " 0.00391022 0.0040233  0.         0.00956465 0.00450504 0.04084702\n",
      " 0.         0.         0.00331301 0.         0.         0.\n",
      " 0.         0.         0.00350191 0.006442   0.         0.00155402\n",
      " 0.         0.         0.         0.         0.00338059 0.\n",
      " 0.         0.04378019]\n",
      "\n",
      "Key: original_att Type: <class 'numpy.ndarray'> Shape: (312, 200)\n",
      "First element type: <class 'numpy.ndarray'>\n",
      "Dype: float64\n",
      "Element: [ 4.41176471  0.          0.          0.          0.          0.\n",
      "  0.          0.          1.97368421  0.          0.65789474  0.\n",
      "  0.          1.94805195  0.          0.          0.80645161  0.\n",
      "  0.          0.         43.33333333  2.15827338 16.          0.72463768\n",
      "  4.02684564  0.          0.          1.34228188  0.          0.\n",
      "  0.          0.          0.          3.0075188   1.36054422  0.\n",
      "  0.          0.          2.81690141  1.2987013   4.31654676  2.7972028\n",
      "  0.          0.          0.          0.          3.125       3.31125828\n",
      "  3.24675325 15.09433962  4.58015267  0.          0.          0.\n",
      "  0.          0.          0.          0.          1.88679245  0.\n",
      "  0.          0.          5.47945205  3.52112676  3.6809816   0.\n",
      "  4.02684564  0.          5.14705882  0.         29.45205479  1.97368421\n",
      "  0.          0.          6.25        1.5503876   1.875       7.14285714\n",
      "  3.42465753  0.          0.          0.          0.          0.\n",
      "  0.          0.          0.          0.          0.          0.\n",
      "  0.          1.2987013   0.          0.          0.          0.\n",
      "  0.          0.          0.          0.          1.27388535  7.1942446\n",
      "  7.69230769  2.12765957  1.92307692  1.96078431  3.20512821  0.\n",
      "  3.47222222  5.73248408  0.          0.          0.          1.41843972\n",
      "  2.05479452  0.          0.          0.          0.          0.\n",
      "  0.          1.42857143  0.          0.          0.          1.33333333\n",
      "  2.06896552  0.          0.          0.          1.97368421  0.\n",
      "  0.          2.08333333  0.          0.          0.          1.19047619\n",
      "  0.          0.          0.          0.          0.         21.56862745\n",
      " 30.26315789 31.57894737  2.7027027  10.75949367  0.          0.\n",
      "  0.          0.          0.          0.          0.          0.\n",
      "  0.          0.          7.53424658 15.71428571  0.          0.\n",
      "  3.40136054  0.          0.          0.          2.05479452  0.\n",
      "  7.91366906  1.91082803  2.02702703  0.          0.          7.14285714\n",
      "  1.5037594   1.43884892  0.          4.10958904  2.01342282 18.11023622\n",
      "  0.          0.          1.36054422  0.          0.          0.\n",
      "  0.          0.          1.48148148  2.68456376  0.          0.66225166\n",
      "  0.          0.          0.          0.          1.45985401  0.\n",
      "  0.         18.30065359]\n",
      "\n",
      "Key: test_seen_loc Type: <class 'numpy.ndarray'> Shape: (1764, 1)\n",
      "First element type: <class 'numpy.ndarray'>\n",
      "Dype: uint16\n",
      "Element: [8972]\n",
      "\n",
      "Key: test_unseen_loc Type: <class 'numpy.ndarray'> Shape: (2967, 1)\n",
      "First element type: <class 'numpy.ndarray'>\n",
      "Dype: uint16\n",
      "Element: [179]\n",
      "\n",
      "Key: train_loc Type: <class 'numpy.ndarray'> Shape: (5875, 1)\n",
      "First element type: <class 'numpy.ndarray'>\n",
      "Dype: uint16\n",
      "Element: [1]\n",
      "\n",
      "Key: trainval_loc Type: <class 'numpy.ndarray'> Shape: (7057, 1)\n",
      "First element type: <class 'numpy.ndarray'>\n",
      "Dype: uint16\n",
      "Element: [10877]\n",
      "\n",
      "Key: val_loc Type: <class 'numpy.ndarray'> Shape: (2946, 1)\n",
      "First element type: <class 'numpy.ndarray'>\n",
      "Dype: uint16\n",
      "Element: [239]\n",
      "\n"
     ]
    }
   ],
   "execution_count": 15
  },
  {
   "metadata": {
    "ExecuteTime": {
     "end_time": "2025-01-09T15:09:14.929640Z",
     "start_time": "2025-01-09T15:09:14.922725Z"
    }
   },
   "cell_type": "code",
   "source": [
    "label_indices = images_res101[\"labels\"] - 1\n",
    "labelNames = attribute_splits[\"allclasses_names\"][label_indices[:, 0]]\n",
    "np.info(labelNames)\n",
    "print(labelNames[0])\n",
    "labelNames[0]"
   ],
   "id": "5010af24a765c143",
   "outputs": [
    {
     "name": "stdout",
     "output_type": "stream",
     "text": [
      "class:  ndarray\n",
      "shape:  (11788, 1)\n",
      "strides:  (8, 8)\n",
      "itemsize:  8\n",
      "aligned:  True\n",
      "contiguous:  True\n",
      "fortran:  True\n",
      "data pointer: 0x158260000\n",
      "byteorder:  little\n",
      "byteswap:  False\n",
      "type: object\n",
      "[array(['001.Black_footed_Albatross'], dtype='<U26')]\n"
     ]
    },
    {
     "data": {
      "text/plain": [
       "array([array(['001.Black_footed_Albatross'], dtype='<U26')], dtype=object)"
      ]
     },
     "execution_count": 16,
     "metadata": {},
     "output_type": "execute_result"
    }
   ],
   "execution_count": 16
  },
  {
   "metadata": {
    "ExecuteTime": {
     "end_time": "2025-01-09T15:09:17.392253Z",
     "start_time": "2025-01-09T15:09:17.390586Z"
    }
   },
   "cell_type": "code",
   "source": [
    "dataset_info = images_res101.copy()\n",
    "dataset_info[\"labelNames\"] = labelNames"
   ],
   "id": "5f1527b51b5a77e5",
   "outputs": [],
   "execution_count": 17
  },
  {
   "metadata": {
    "ExecuteTime": {
     "end_time": "2025-01-09T15:09:19.312406Z",
     "start_time": "2025-01-09T15:09:19.310610Z"
    }
   },
   "cell_type": "code",
   "source": "print(dataset_info.keys())",
   "id": "e24293a5570bbcb3",
   "outputs": [
    {
     "name": "stdout",
     "output_type": "stream",
     "text": [
      "dict_keys(['__header__', '__version__', '__globals__', 'image_files', 'features', 'labels', 'imageNumbers', 'labelNames'])\n"
     ]
    }
   ],
   "execution_count": 18
  },
  {
   "metadata": {
    "ExecuteTime": {
     "end_time": "2025-01-09T15:09:24.269182Z",
     "start_time": "2025-01-09T15:09:24.263720Z"
    }
   },
   "cell_type": "code",
   "source": "dataset_info",
   "id": "b5daf0a952f2ea67",
   "outputs": [
    {
     "data": {
      "text/plain": [
       "{'__header__': b'MATLAB 5.0 MAT-file, Platform: GLNXA64, Created on: Tue Apr 25 16:59:11 2017',\n",
       " '__version__': '1.0',\n",
       " '__globals__': [],\n",
       " 'image_files': array([[array(['/BS/Deep_Fragments/work/MSc/CUB_200_2011/CUB_200_2011/images/001.Black_footed_Albatross/Black_Footed_Albatross_0001_796111.jpg'],\n",
       "               dtype='<U126')                                                                                                                     ],\n",
       "        [array(['/BS/Deep_Fragments/work/MSc/CUB_200_2011/CUB_200_2011/images/001.Black_footed_Albatross/Black_Footed_Albatross_0002_55.jpg'],\n",
       "               dtype='<U122')                                                                                                                 ],\n",
       "        [array(['/BS/Deep_Fragments/work/MSc/CUB_200_2011/CUB_200_2011/images/001.Black_footed_Albatross/Black_Footed_Albatross_0003_796136.jpg'],\n",
       "               dtype='<U126')                                                                                                                     ],\n",
       "        ...,\n",
       "        [array(['/BS/Deep_Fragments/work/MSc/CUB_200_2011/CUB_200_2011/images/200.Common_Yellowthroat/Common_Yellowthroat_0122_190570.jpg'],\n",
       "               dtype='<U120')                                                                                                               ],\n",
       "        [array(['/BS/Deep_Fragments/work/MSc/CUB_200_2011/CUB_200_2011/images/200.Common_Yellowthroat/Common_Yellowthroat_0125_190902.jpg'],\n",
       "               dtype='<U120')                                                                                                               ],\n",
       "        [array(['/BS/Deep_Fragments/work/MSc/CUB_200_2011/CUB_200_2011/images/200.Common_Yellowthroat/Common_Yellowthroat_0126_190407.jpg'],\n",
       "               dtype='<U120')                                                                                                               ]],\n",
       "       dtype=object),\n",
       " 'features': array([[0.40892997, 0.41969657, 0.18802039, ..., 0.30434826, 0.35864624,\n",
       "         0.65450728],\n",
       "        [0.25413808, 0.30752203, 0.08614247, ..., 0.19108224, 0.13533165,\n",
       "         0.20017533],\n",
       "        [2.12168241, 0.77530569, 2.11704683, ..., 0.11788042, 0.06038139,\n",
       "         0.00543019],\n",
       "        ...,\n",
       "        [0.11358754, 0.21275087, 0.04323977, ..., 0.35180986, 0.54067051,\n",
       "         0.23211631],\n",
       "        [0.04199803, 0.14942844, 0.19070306, ..., 0.        , 0.35444796,\n",
       "         0.03051368],\n",
       "        [0.12280495, 0.34912837, 0.        , ..., 0.04952463, 0.03132629,\n",
       "         0.        ]]),\n",
       " 'labels': array([[151],\n",
       "        [151],\n",
       "        [151],\n",
       "        ...,\n",
       "        [150],\n",
       "        [150],\n",
       "        [150]], dtype=uint8),\n",
       " 'imageNumbers': array([796111,     55, 796136, ..., 190570, 190902, 190407]),\n",
       " 'labelNames': array([[array(['001.Black_footed_Albatross'], dtype='<U26')],\n",
       "        [array(['001.Black_footed_Albatross'], dtype='<U26')],\n",
       "        [array(['001.Black_footed_Albatross'], dtype='<U26')],\n",
       "        ...,\n",
       "        [array(['200.Common_Yellowthroat'], dtype='<U23')],\n",
       "        [array(['200.Common_Yellowthroat'], dtype='<U23')],\n",
       "        [array(['200.Common_Yellowthroat'], dtype='<U23')]], dtype=object)}"
      ]
     },
     "execution_count": 19,
     "metadata": {},
     "output_type": "execute_result"
    }
   ],
   "execution_count": 19
  },
  {
   "metadata": {},
   "cell_type": "code",
   "outputs": [],
   "execution_count": null,
   "source": "",
   "id": "f87174dec8f1601e"
  },
  {
   "metadata": {},
   "cell_type": "code",
   "outputs": [],
   "execution_count": null,
   "source": "",
   "id": "675c36bb43e643ca"
  },
  {
   "metadata": {},
   "cell_type": "code",
   "outputs": [],
   "execution_count": null,
   "source": "",
   "id": "7eaf5e690e11d882"
  },
  {
   "metadata": {},
   "cell_type": "code",
   "outputs": [],
   "execution_count": null,
   "source": "",
   "id": "658d7fecf516e5cd"
  },
  {
   "metadata": {},
   "cell_type": "markdown",
   "source": "### DRAFT - COMBINE INFO FROM BOTH DATASETS",
   "id": "35bc24c98d52dfe"
  },
  {
   "metadata": {
    "ExecuteTime": {
     "end_time": "2025-01-05T14:08:01.077736Z",
     "start_time": "2025-01-05T14:08:01.056964Z"
    }
   },
   "cell_type": "code",
   "source": [
    "label_indices = images_res101[\"labels\"] - 1\n",
    "labelNames = attribute_splits[\"allclasses_names\"][label_indices[:, 0]]\n",
    "np.info(labelNames)\n",
    "print(labelNames[0])\n",
    "labelNames[0]"
   ],
   "id": "24fb5939a4c04aeb",
   "outputs": [
    {
     "name": "stdout",
     "output_type": "stream",
     "text": [
      "class:  ndarray\n",
      "shape:  (11788, 1)\n",
      "strides:  (8, 8)\n",
      "itemsize:  8\n",
      "aligned:  True\n",
      "contiguous:  True\n",
      "fortran:  True\n",
      "data pointer: 0x130568000\n",
      "byteorder:  little\n",
      "byteswap:  False\n",
      "type: object\n",
      "[array(['001.Black_footed_Albatross'], dtype='<U26')]\n"
     ]
    },
    {
     "data": {
      "text/plain": [
       "array([array(['001.Black_footed_Albatross'], dtype='<U26')], dtype=object)"
      ]
     },
     "execution_count": 141,
     "metadata": {},
     "output_type": "execute_result"
    }
   ],
   "execution_count": 141
  },
  {
   "metadata": {},
   "cell_type": "code",
   "outputs": [],
   "execution_count": null,
   "source": "",
   "id": "6e3da8210d195727"
  },
  {
   "metadata": {},
   "cell_type": "code",
   "outputs": [],
   "execution_count": null,
   "source": "",
   "id": "4de2a016dc16329c"
  },
  {
   "metadata": {
    "ExecuteTime": {
     "end_time": "2025-01-05T14:48:41.939261Z",
     "start_time": "2025-01-05T14:48:41.919713Z"
    }
   },
   "cell_type": "code",
   "source": [
    "print(images_kaggle[dataset_info[\"imageNumbers\"][0]])\n",
    "print(dataset_info[\"imageNumbers\"][0])"
   ],
   "id": "dddd7d41bf7c3880",
   "outputs": [
    {
     "name": "stdout",
     "output_type": "stream",
     "text": [
      "Kaggle Image:\n",
      "\tImage Id: 796111\n",
      "\tImage Class ID: 0\n",
      "\tImage Class Name: Black_footed_Albatross\n",
      "\tImage Sentences: ['the medium sized bird has a dark grey color , a black downward curved beak , and long wings .', 'the bird is dark grey brown with a thick curved bill and a flat shaped tail .', 'bird has brown body feathers , white breast feathers and black beak', 'this bird has a dark brown overall body color , with a small white patch around the base of the bill .', 'the bird has very long and large brown wings , as well as a black body and a long black beak .', 'it is a type of albatross with black wings , tail , back and beak , and has a white ring at the base of its beak .', 'this bird has brown plumage and a white ring at the base of its long , curved brown beak .', 'the entire body is dark brown , as is the bill , with a white band encircling where the bill meets the head .', 'this bird is gray in color , with a large curved beak .', 'a large gray bird with a long wingspan and a long black beak .']\n",
      "\tIs Train: False\n",
      "\tImage shapes:\n",
      "\t\ttorch.Size([3, 64, 64])\n",
      "\t\ttorch.Size([3, 128, 128])\n",
      "\t\ttorch.Size([3, 256, 256])\n",
      "796111\n"
     ]
    }
   ],
   "execution_count": 178
  },
  {
   "metadata": {},
   "cell_type": "code",
   "outputs": [],
   "execution_count": null,
   "source": "",
   "id": "a2dbc31c29696e7"
  },
  {
   "metadata": {},
   "cell_type": "code",
   "outputs": [],
   "execution_count": null,
   "source": "",
   "id": "c7987be0700abd3f"
  },
  {
   "metadata": {},
   "cell_type": "markdown",
   "source": "### PROJECT DATASET - COMBINE INFO FROM BOTH DATASETS",
   "id": "ae92c36f131140d5"
  },
  {
   "metadata": {
    "ExecuteTime": {
     "end_time": "2025-01-09T15:09:35.701380Z",
     "start_time": "2025-01-09T15:09:32.222553Z"
    }
   },
   "cell_type": "code",
   "source": [
    "image_tensors_256 = []\n",
    "image_tensors_128 = []\n",
    "image_tensors_64 = []\n",
    "sentence_descriptions = []\n",
    "for imageNumber in dataset_info[\"imageNumbers\"]:\n",
    "    kaggleImage = images_kaggle[imageNumber]\n",
    "    image_tensors_256.append(kaggleImage.image_tensor_256)\n",
    "    image_tensors_128.append(kaggleImage.image_tensor_128)\n",
    "    image_tensors_64.append(kaggleImage.image_tensor_64)\n",
    "    sentence_descriptions.append(np.reshape(np.array(kaggleImage.image_sentences), newshape=(10,1)))\n",
    "    \n",
    "dataset_info[\"image_tensors_256\"] = torch.stack(image_tensors_256)\n",
    "dataset_info[\"image_tensors_128\"] = torch.stack(image_tensors_128)\n",
    "dataset_info[\"image_tensors_64\"] = torch.stack(image_tensors_64)\n",
    "dataset_info[\"sentence_descriptions\"] = np.array(sentence_descriptions)"
   ],
   "id": "acd5ea7809dbf14a",
   "outputs": [],
   "execution_count": 20
  },
  {
   "metadata": {
    "ExecuteTime": {
     "end_time": "2025-01-09T15:09:39.790193Z",
     "start_time": "2025-01-09T15:09:39.785382Z"
    }
   },
   "cell_type": "code",
   "source": [
    "print(type(dataset_info[\"image_tensors_256\"]))\n",
    "dataset_info[\"image_tensors_256\"].shape"
   ],
   "id": "2a635b4e9176be50",
   "outputs": [
    {
     "name": "stdout",
     "output_type": "stream",
     "text": [
      "<class 'torch.Tensor'>\n"
     ]
    },
    {
     "data": {
      "text/plain": [
       "torch.Size([11788, 3, 256, 256])"
      ]
     },
     "execution_count": 21,
     "metadata": {},
     "output_type": "execute_result"
    }
   ],
   "execution_count": 21
  },
  {
   "metadata": {
    "ExecuteTime": {
     "end_time": "2025-01-09T15:09:42.855560Z",
     "start_time": "2025-01-09T15:09:42.853158Z"
    }
   },
   "cell_type": "code",
   "source": [
    "print(type(dataset_info[\"sentence_descriptions\"]))\n",
    "dataset_info[\"sentence_descriptions\"].shape"
   ],
   "id": "9ca775474037791b",
   "outputs": [
    {
     "name": "stdout",
     "output_type": "stream",
     "text": [
      "<class 'numpy.ndarray'>\n"
     ]
    },
    {
     "data": {
      "text/plain": [
       "(11788, 10, 1)"
      ]
     },
     "execution_count": 22,
     "metadata": {},
     "output_type": "execute_result"
    }
   ],
   "execution_count": 22
  },
  {
   "metadata": {
    "ExecuteTime": {
     "end_time": "2025-01-09T15:09:46.807581Z",
     "start_time": "2025-01-09T15:09:46.804526Z"
    }
   },
   "cell_type": "code",
   "source": "dataset_info.keys()",
   "id": "22477fceb547366b",
   "outputs": [
    {
     "data": {
      "text/plain": [
       "dict_keys(['__header__', '__version__', '__globals__', 'image_files', 'features', 'labels', 'imageNumbers', 'labelNames', 'image_tensors_256', 'image_tensors_128', 'image_tensors_64', 'sentence_descriptions'])"
      ]
     },
     "execution_count": 23,
     "metadata": {},
     "output_type": "execute_result"
    }
   ],
   "execution_count": 23
  },
  {
   "metadata": {
    "ExecuteTime": {
     "end_time": "2025-01-09T15:10:13.886123Z",
     "start_time": "2025-01-09T15:10:13.879354Z"
    }
   },
   "cell_type": "code",
   "source": "print(sentence_descriptions[0])",
   "id": "5d301c97fedb2e57",
   "outputs": [
    {
     "name": "stdout",
     "output_type": "stream",
     "text": [
      "[['the medium sized bird has a dark grey color , a black downward curved beak , and long wings .']\n",
      " ['the bird is dark grey brown with a thick curved bill and a flat shaped tail .']\n",
      " ['bird has brown body feathers , white breast feathers and black beak']\n",
      " ['this bird has a dark brown overall body color , with a small white patch around the base of the bill .']\n",
      " ['the bird has very long and large brown wings , as well as a black body and a long black beak .']\n",
      " ['it is a type of albatross with black wings , tail , back and beak , and has a white ring at the base of its beak .']\n",
      " ['this bird has brown plumage and a white ring at the base of its long , curved brown beak .']\n",
      " ['the entire body is dark brown , as is the bill , with a white band encircling where the bill meets the head .']\n",
      " ['this bird is gray in color , with a large curved beak .']\n",
      " ['a large gray bird with a long wingspan and a long black beak .']]\n"
     ]
    }
   ],
   "execution_count": 24
  },
  {
   "metadata": {
    "ExecuteTime": {
     "end_time": "2025-01-09T15:20:43.909170Z",
     "start_time": "2025-01-09T15:20:31.806124Z"
    }
   },
   "cell_type": "code",
   "source": [
    "with open(\"/Users/lkk/Documents/BOUN CMPE/CMPE 537-Computer Vision/Term Project/Code/Datasets/CUB_Paper/produced/dataset_info.pkl\", 'wb') as f:\n",
    "    pickle.dump(dataset_info, f)"
   ],
   "id": "ab7f3f88b78d868f",
   "outputs": [],
   "execution_count": 26
  },
  {
   "metadata": {
    "ExecuteTime": {
     "end_time": "2025-01-05T15:26:12.901949Z",
     "start_time": "2025-01-05T15:25:06.025770Z"
    }
   },
   "cell_type": "code",
   "source": "sio.savemat(\"/Users/lkk/Documents/BOUN CMPE/CMPE 537-Computer Vision/Term Project/Code/Datasets/CUB_Paper/produced/dataset_draft.mat\", dataset_info)",
   "id": "be1c1f36a5828b50",
   "outputs": [],
   "execution_count": 201
  },
  {
   "metadata": {
    "ExecuteTime": {
     "end_time": "2025-01-05T15:23:36.131361Z",
     "start_time": "2025-01-05T15:23:36.125581Z"
    }
   },
   "cell_type": "code",
   "source": "np.info(dataset_info[\"features\"])",
   "id": "35645ca889964901",
   "outputs": [
    {
     "name": "stdout",
     "output_type": "stream",
     "text": [
      "class:  ndarray\n",
      "shape:  (2048, 11788)\n",
      "strides:  (8, 16384)\n",
      "itemsize:  8\n",
      "aligned:  True\n",
      "contiguous:  False\n",
      "fortran:  True\n",
      "data pointer: 0x15d38c020\n",
      "byteorder:  little\n",
      "byteswap:  False\n",
      "type: float64\n"
     ]
    }
   ],
   "execution_count": 200
  },
  {
   "metadata": {
    "ExecuteTime": {
     "end_time": "2025-01-05T14:59:50.122049Z",
     "start_time": "2025-01-05T14:59:50.113507Z"
    }
   },
   "cell_type": "code",
   "source": [
    "count = 0\n",
    "for image in images_kaggle.values():\n",
    "    if len(image.image_sentences) != 10:\n",
    "        print(len(image.image_sentences))\n",
    "    else:\n",
    "        count += 1\n",
    "        \n",
    "print(count)"
   ],
   "id": "fe0a85ad9eab0098",
   "outputs": [
    {
     "name": "stdout",
     "output_type": "stream",
     "text": [
      "11788\n"
     ]
    }
   ],
   "execution_count": 187
  },
  {
   "metadata": {},
   "cell_type": "code",
   "outputs": [],
   "execution_count": null,
   "source": "",
   "id": "b058fc4bc07b61f3"
  },
  {
   "metadata": {},
   "cell_type": "code",
   "outputs": [],
   "execution_count": null,
   "source": "",
   "id": "f10ac1be25b648ec"
  },
  {
   "metadata": {},
   "cell_type": "code",
   "outputs": [],
   "execution_count": null,
   "source": "",
   "id": "7592cbe56d267a17"
  },
  {
   "metadata": {},
   "cell_type": "code",
   "outputs": [],
   "execution_count": null,
   "source": "",
   "id": "bcbe03744f9203b5"
  },
  {
   "metadata": {},
   "cell_type": "code",
   "outputs": [],
   "execution_count": null,
   "source": "",
   "id": "1aeead4b9a98f79d"
  },
  {
   "metadata": {
    "ExecuteTime": {
     "end_time": "2025-01-05T09:18:39.675215Z",
     "start_time": "2025-01-05T09:18:39.662106Z"
    }
   },
   "cell_type": "code",
   "source": "attribute_splits = sio.loadmat(\"/Users/lkk/Documents/BOUN CMPE/CMPE 537-Computer Vision/Term Project/Code/Datasets/CUB_Paper/att_splits.mat\")",
   "id": "e99742ecf889b526",
   "outputs": [],
   "execution_count": 86
  },
  {
   "metadata": {
    "ExecuteTime": {
     "end_time": "2025-01-05T09:20:16.495004Z",
     "start_time": "2025-01-05T09:20:16.489136Z"
    }
   },
   "cell_type": "code",
   "source": "print(attribute_splits.keys())",
   "id": "2b853057fb232a0b",
   "outputs": [
    {
     "name": "stdout",
     "output_type": "stream",
     "text": [
      "dict_keys(['__header__', '__version__', '__globals__', 'allclasses_names', 'att', 'original_att', 'test_seen_loc', 'test_unseen_loc', 'train_loc', 'trainval_loc', 'val_loc'])\n"
     ]
    }
   ],
   "execution_count": 88
  },
  {
   "metadata": {
    "ExecuteTime": {
     "end_time": "2025-01-05T09:26:51.584217Z",
     "start_time": "2025-01-05T09:26:51.563263Z"
    }
   },
   "cell_type": "code",
   "source": [
    "for key in attribute_splits.keys():\n",
    "    if not key.startswith(\"_\"):\n",
    "        print(f\"Key: {key} Type: {type(attribute_splits[key])} Shape: {attribute_splits[key].shape}\\n\"\n",
    "              f\"First element type: {type(attribute_splits[key][0])}\\n\"\n",
    "              f\"Dype: {attribute_splits[key].dtype}\\n\"\n",
    "              f\"Element: {attribute_splits[key][0]}\\n\")"
   ],
   "id": "97dfb3f518e929f6",
   "outputs": [
    {
     "name": "stdout",
     "output_type": "stream",
     "text": [
      "Key: allclasses_names Type: <class 'numpy.ndarray'> Shape: (200, 1)\n",
      "First element type: <class 'numpy.ndarray'>\n",
      "Dype: object\n",
      "Element: [array(['002.Laysan_Albatross'], dtype='<U20')]\n",
      "\n",
      "Key: att Type: <class 'numpy.ndarray'> Shape: (312, 200)\n",
      "First element type: <class 'numpy.ndarray'>\n",
      "Dype: float64\n",
      "Element: [0.0106384  0.         0.         0.         0.         0.\n",
      " 0.         0.         0.00474149 0.         0.0016366  0.\n",
      " 0.         0.00490575 0.         0.         0.00187755 0.\n",
      " 0.         0.         0.10176533 0.0046952  0.04470901 0.00189903\n",
      " 0.01095034 0.         0.         0.0034344  0.         0.\n",
      " 0.         0.         0.         0.00790824 0.00311325 0.\n",
      " 0.         0.         0.00690833 0.00295739 0.01006911 0.00637794\n",
      " 0.         0.         0.         0.         0.00904136 0.00937637\n",
      " 0.00877098 0.04062457 0.01286689 0.         0.         0.\n",
      " 0.         0.         0.         0.         0.0038029  0.\n",
      " 0.         0.         0.01395605 0.00906423 0.01055845 0.\n",
      " 0.00951459 0.         0.0129947  0.         0.09138329 0.00493771\n",
      " 0.         0.         0.01347431 0.00372915 0.00441099 0.01818968\n",
      " 0.00787245 0.         0.         0.         0.         0.\n",
      " 0.         0.         0.         0.         0.         0.\n",
      " 0.         0.00356572 0.         0.         0.         0.\n",
      " 0.         0.         0.         0.         0.00301856 0.01697487\n",
      " 0.02092584 0.00511488 0.00475079 0.00466942 0.0071459  0.\n",
      " 0.00883217 0.01465653 0.         0.         0.         0.00355693\n",
      " 0.00524509 0.         0.         0.         0.         0.\n",
      " 0.         0.00352901 0.         0.         0.         0.0035816\n",
      " 0.00532277 0.         0.         0.         0.0047186  0.\n",
      " 0.         0.00508893 0.         0.         0.         0.00293507\n",
      " 0.         0.         0.         0.         0.         0.05096808\n",
      " 0.06882084 0.07298079 0.00637912 0.0262006  0.         0.\n",
      " 0.         0.         0.         0.         0.         0.\n",
      " 0.         0.         0.01911162 0.03927385 0.         0.\n",
      " 0.00841808 0.         0.         0.         0.00560379 0.\n",
      " 0.01996408 0.00408435 0.00569796 0.         0.         0.01613439\n",
      " 0.00391022 0.0040233  0.         0.00956465 0.00450504 0.04084702\n",
      " 0.         0.         0.00331301 0.         0.         0.\n",
      " 0.         0.         0.00350191 0.006442   0.         0.00155402\n",
      " 0.         0.         0.         0.         0.00338059 0.\n",
      " 0.         0.04378019]\n",
      "\n",
      "Key: original_att Type: <class 'numpy.ndarray'> Shape: (312, 200)\n",
      "First element type: <class 'numpy.ndarray'>\n",
      "Dype: float64\n",
      "Element: [ 4.41176471  0.          0.          0.          0.          0.\n",
      "  0.          0.          1.97368421  0.          0.65789474  0.\n",
      "  0.          1.94805195  0.          0.          0.80645161  0.\n",
      "  0.          0.         43.33333333  2.15827338 16.          0.72463768\n",
      "  4.02684564  0.          0.          1.34228188  0.          0.\n",
      "  0.          0.          0.          3.0075188   1.36054422  0.\n",
      "  0.          0.          2.81690141  1.2987013   4.31654676  2.7972028\n",
      "  0.          0.          0.          0.          3.125       3.31125828\n",
      "  3.24675325 15.09433962  4.58015267  0.          0.          0.\n",
      "  0.          0.          0.          0.          1.88679245  0.\n",
      "  0.          0.          5.47945205  3.52112676  3.6809816   0.\n",
      "  4.02684564  0.          5.14705882  0.         29.45205479  1.97368421\n",
      "  0.          0.          6.25        1.5503876   1.875       7.14285714\n",
      "  3.42465753  0.          0.          0.          0.          0.\n",
      "  0.          0.          0.          0.          0.          0.\n",
      "  0.          1.2987013   0.          0.          0.          0.\n",
      "  0.          0.          0.          0.          1.27388535  7.1942446\n",
      "  7.69230769  2.12765957  1.92307692  1.96078431  3.20512821  0.\n",
      "  3.47222222  5.73248408  0.          0.          0.          1.41843972\n",
      "  2.05479452  0.          0.          0.          0.          0.\n",
      "  0.          1.42857143  0.          0.          0.          1.33333333\n",
      "  2.06896552  0.          0.          0.          1.97368421  0.\n",
      "  0.          2.08333333  0.          0.          0.          1.19047619\n",
      "  0.          0.          0.          0.          0.         21.56862745\n",
      " 30.26315789 31.57894737  2.7027027  10.75949367  0.          0.\n",
      "  0.          0.          0.          0.          0.          0.\n",
      "  0.          0.          7.53424658 15.71428571  0.          0.\n",
      "  3.40136054  0.          0.          0.          2.05479452  0.\n",
      "  7.91366906  1.91082803  2.02702703  0.          0.          7.14285714\n",
      "  1.5037594   1.43884892  0.          4.10958904  2.01342282 18.11023622\n",
      "  0.          0.          1.36054422  0.          0.          0.\n",
      "  0.          0.          1.48148148  2.68456376  0.          0.66225166\n",
      "  0.          0.          0.          0.          1.45985401  0.\n",
      "  0.         18.30065359]\n",
      "\n",
      "Key: test_seen_loc Type: <class 'numpy.ndarray'> Shape: (1764, 1)\n",
      "First element type: <class 'numpy.ndarray'>\n",
      "Dype: uint16\n",
      "Element: [8972]\n",
      "\n",
      "Key: test_unseen_loc Type: <class 'numpy.ndarray'> Shape: (2967, 1)\n",
      "First element type: <class 'numpy.ndarray'>\n",
      "Dype: uint16\n",
      "Element: [179]\n",
      "\n",
      "Key: train_loc Type: <class 'numpy.ndarray'> Shape: (5875, 1)\n",
      "First element type: <class 'numpy.ndarray'>\n",
      "Dype: uint16\n",
      "Element: [1]\n",
      "\n",
      "Key: trainval_loc Type: <class 'numpy.ndarray'> Shape: (7057, 1)\n",
      "First element type: <class 'numpy.ndarray'>\n",
      "Dype: uint16\n",
      "Element: [10877]\n",
      "\n",
      "Key: val_loc Type: <class 'numpy.ndarray'> Shape: (2946, 1)\n",
      "First element type: <class 'numpy.ndarray'>\n",
      "Dype: uint16\n",
      "Element: [239]\n",
      "\n"
     ]
    }
   ],
   "execution_count": 92
  },
  {
   "metadata": {
    "ExecuteTime": {
     "end_time": "2025-01-05T12:50:22.690287Z",
     "start_time": "2025-01-05T12:50:22.662468Z"
    }
   },
   "cell_type": "code",
   "source": [
    "allclasses_names = attribute_splits[\"allclasses_names\"]\n",
    "print(allclasses_names)\n"
   ],
   "id": "8b01218c82e37c01",
   "outputs": [
    {
     "name": "stdout",
     "output_type": "stream",
     "text": [
      "[[array(['002.Laysan_Albatross'], dtype='<U20')]\n",
      " [array(['003.Sooty_Albatross'], dtype='<U19')]\n",
      " [array(['005.Crested_Auklet'], dtype='<U18')]\n",
      " [array(['007.Parakeet_Auklet'], dtype='<U19')]\n",
      " [array(['010.Red_winged_Blackbird'], dtype='<U24')]\n",
      " [array(['011.Rusty_Blackbird'], dtype='<U19')]\n",
      " [array(['012.Yellow_headed_Blackbird'], dtype='<U27')]\n",
      " [array(['013.Bobolink'], dtype='<U12')]\n",
      " [array(['015.Lazuli_Bunting'], dtype='<U18')]\n",
      " [array(['016.Painted_Bunting'], dtype='<U19')]\n",
      " [array(['017.Cardinal'], dtype='<U12')]\n",
      " [array(['018.Spotted_Catbird'], dtype='<U19')]\n",
      " [array(['019.Gray_Catbird'], dtype='<U16')]\n",
      " [array(['020.Yellow_breasted_Chat'], dtype='<U24')]\n",
      " [array(['021.Eastern_Towhee'], dtype='<U18')]\n",
      " [array(['022.Chuck_will_Widow'], dtype='<U20')]\n",
      " [array(['024.Red_faced_Cormorant'], dtype='<U23')]\n",
      " [array(['025.Pelagic_Cormorant'], dtype='<U21')]\n",
      " [array(['026.Bronzed_Cowbird'], dtype='<U19')]\n",
      " [array(['027.Shiny_Cowbird'], dtype='<U17')]\n",
      " [array(['028.Brown_Creeper'], dtype='<U17')]\n",
      " [array(['030.Fish_Crow'], dtype='<U13')]\n",
      " [array(['032.Mangrove_Cuckoo'], dtype='<U19')]\n",
      " [array(['039.Least_Flycatcher'], dtype='<U20')]\n",
      " [array(['040.Olive_sided_Flycatcher'], dtype='<U26')]\n",
      " [array(['041.Scissor_tailed_Flycatcher'], dtype='<U29')]\n",
      " [array(['042.Vermilion_Flycatcher'], dtype='<U24')]\n",
      " [array(['044.Frigatebird'], dtype='<U15')]\n",
      " [array(['045.Northern_Fulmar'], dtype='<U19')]\n",
      " [array(['046.Gadwall'], dtype='<U11')]\n",
      " [array(['047.American_Goldfinch'], dtype='<U22')]\n",
      " [array(['048.European_Goldfinch'], dtype='<U22')]\n",
      " [array(['050.Eared_Grebe'], dtype='<U15')]\n",
      " [array(['052.Pied_billed_Grebe'], dtype='<U21')]\n",
      " [array(['054.Blue_Grosbeak'], dtype='<U17')]\n",
      " [array(['055.Evening_Grosbeak'], dtype='<U20')]\n",
      " [array(['056.Pine_Grosbeak'], dtype='<U17')]\n",
      " [array(['057.Rose_breasted_Grosbeak'], dtype='<U26')]\n",
      " [array(['058.Pigeon_Guillemot'], dtype='<U20')]\n",
      " [array(['059.California_Gull'], dtype='<U19')]\n",
      " [array(['060.Glaucous_winged_Gull'], dtype='<U24')]\n",
      " [array(['061.Heermann_Gull'], dtype='<U17')]\n",
      " [array(['062.Herring_Gull'], dtype='<U16')]\n",
      " [array(['063.Ivory_Gull'], dtype='<U14')]\n",
      " [array(['064.Ring_billed_Gull'], dtype='<U20')]\n",
      " [array(['065.Slaty_backed_Gull'], dtype='<U21')]\n",
      " [array(['067.Anna_Hummingbird'], dtype='<U20')]\n",
      " [array(['068.Ruby_throated_Hummingbird'], dtype='<U29')]\n",
      " [array(['069.Rufous_Hummingbird'], dtype='<U22')]\n",
      " [array(['070.Green_Violetear'], dtype='<U19')]\n",
      " [array(['071.Long_tailed_Jaeger'], dtype='<U22')]\n",
      " [array(['073.Blue_Jay'], dtype='<U12')]\n",
      " [array(['074.Florida_Jay'], dtype='<U15')]\n",
      " [array(['075.Green_Jay'], dtype='<U13')]\n",
      " [array(['076.Dark_eyed_Junco'], dtype='<U19')]\n",
      " [array(['077.Tropical_Kingbird'], dtype='<U21')]\n",
      " [array(['078.Gray_Kingbird'], dtype='<U17')]\n",
      " [array(['080.Green_Kingfisher'], dtype='<U20')]\n",
      " [array(['081.Pied_Kingfisher'], dtype='<U19')]\n",
      " [array(['082.Ringed_Kingfisher'], dtype='<U21')]\n",
      " [array(['085.Horned_Lark'], dtype='<U15')]\n",
      " [array(['087.Mallard'], dtype='<U11')]\n",
      " [array(['088.Western_Meadowlark'], dtype='<U22')]\n",
      " [array(['089.Hooded_Merganser'], dtype='<U20')]\n",
      " [array(['090.Red_breasted_Merganser'], dtype='<U26')]\n",
      " [array(['092.Nighthawk'], dtype='<U13')]\n",
      " [array(['093.Clark_Nutcracker'], dtype='<U20')]\n",
      " [array(['094.White_breasted_Nuthatch'], dtype='<U27')]\n",
      " [array(['097.Orchard_Oriole'], dtype='<U18')]\n",
      " [array(['099.Ovenbird'], dtype='<U12')]\n",
      " [array(['100.Brown_Pelican'], dtype='<U17')]\n",
      " [array(['104.American_Pipit'], dtype='<U18')]\n",
      " [array(['105.Whip_poor_Will'], dtype='<U18')]\n",
      " [array(['106.Horned_Puffin'], dtype='<U17')]\n",
      " [array(['107.Common_Raven'], dtype='<U16')]\n",
      " [array(['108.White_necked_Raven'], dtype='<U22')]\n",
      " [array(['109.American_Redstart'], dtype='<U21')]\n",
      " [array(['110.Geococcyx'], dtype='<U13')]\n",
      " [array(['111.Loggerhead_Shrike'], dtype='<U21')]\n",
      " [array(['113.Baird_Sparrow'], dtype='<U17')]\n",
      " [array(['115.Brewer_Sparrow'], dtype='<U18')]\n",
      " [array(['116.Chipping_Sparrow'], dtype='<U20')]\n",
      " [array(['117.Clay_colored_Sparrow'], dtype='<U24')]\n",
      " [array(['118.House_Sparrow'], dtype='<U17')]\n",
      " [array(['120.Fox_Sparrow'], dtype='<U15')]\n",
      " [array(['122.Harris_Sparrow'], dtype='<U18')]\n",
      " [array(['123.Henslow_Sparrow'], dtype='<U19')]\n",
      " [array(['124.Le_Conte_Sparrow'], dtype='<U20')]\n",
      " [array(['125.Lincoln_Sparrow'], dtype='<U19')]\n",
      " [array(['126.Nelson_Sharp_tailed_Sparrow'], dtype='<U31')]\n",
      " [array(['127.Savannah_Sparrow'], dtype='<U20')]\n",
      " [array(['128.Seaside_Sparrow'], dtype='<U19')]\n",
      " [array(['129.Song_Sparrow'], dtype='<U16')]\n",
      " [array(['131.Vesper_Sparrow'], dtype='<U18')]\n",
      " [array(['132.White_crowned_Sparrow'], dtype='<U25')]\n",
      " [array(['133.White_throated_Sparrow'], dtype='<U26')]\n",
      " [array(['134.Cape_Glossy_Starling'], dtype='<U24')]\n",
      " [array(['136.Barn_Swallow'], dtype='<U16')]\n",
      " [array(['137.Cliff_Swallow'], dtype='<U17')]\n",
      " [array(['139.Scarlet_Tanager'], dtype='<U19')]\n",
      " [array(['140.Summer_Tanager'], dtype='<U18')]\n",
      " [array(['141.Artic_Tern'], dtype='<U14')]\n",
      " [array(['142.Black_Tern'], dtype='<U14')]\n",
      " [array(['143.Caspian_Tern'], dtype='<U16')]\n",
      " [array(['144.Common_Tern'], dtype='<U15')]\n",
      " [array(['145.Elegant_Tern'], dtype='<U16')]\n",
      " [array(['146.Forsters_Tern'], dtype='<U17')]\n",
      " [array(['148.Green_tailed_Towhee'], dtype='<U23')]\n",
      " [array(['149.Brown_Thrasher'], dtype='<U18')]\n",
      " [array(['150.Sage_Thrasher'], dtype='<U17')]\n",
      " [array(['151.Black_capped_Vireo'], dtype='<U22')]\n",
      " [array(['152.Blue_headed_Vireo'], dtype='<U21')]\n",
      " [array(['153.Philadelphia_Vireo'], dtype='<U22')]\n",
      " [array(['154.Red_eyed_Vireo'], dtype='<U18')]\n",
      " [array(['155.Warbling_Vireo'], dtype='<U18')]\n",
      " [array(['157.Yellow_throated_Vireo'], dtype='<U25')]\n",
      " [array(['158.Bay_breasted_Warbler'], dtype='<U24')]\n",
      " [array(['159.Black_and_white_Warbler'], dtype='<U27')]\n",
      " [array(['160.Black_throated_Blue_Warbler'], dtype='<U31')]\n",
      " [array(['161.Blue_winged_Warbler'], dtype='<U23')]\n",
      " [array(['162.Canada_Warbler'], dtype='<U18')]\n",
      " [array(['164.Cerulean_Warbler'], dtype='<U20')]\n",
      " [array(['167.Hooded_Warbler'], dtype='<U18')]\n",
      " [array(['168.Kentucky_Warbler'], dtype='<U20')]\n",
      " [array(['169.Magnolia_Warbler'], dtype='<U20')]\n",
      " [array(['170.Mourning_Warbler'], dtype='<U20')]\n",
      " [array(['171.Myrtle_Warbler'], dtype='<U18')]\n",
      " [array(['172.Nashville_Warbler'], dtype='<U21')]\n",
      " [array(['173.Orange_crowned_Warbler'], dtype='<U26')]\n",
      " [array(['174.Palm_Warbler'], dtype='<U16')]\n",
      " [array(['175.Pine_Warbler'], dtype='<U16')]\n",
      " [array(['176.Prairie_Warbler'], dtype='<U19')]\n",
      " [array(['177.Prothonotary_Warbler'], dtype='<U24')]\n",
      " [array(['178.Swainson_Warbler'], dtype='<U20')]\n",
      " [array(['179.Tennessee_Warbler'], dtype='<U21')]\n",
      " [array(['181.Worm_eating_Warbler'], dtype='<U23')]\n",
      " [array(['182.Yellow_Warbler'], dtype='<U18')]\n",
      " [array(['184.Louisiana_Waterthrush'], dtype='<U25')]\n",
      " [array(['188.Pileated_Woodpecker'], dtype='<U23')]\n",
      " [array(['189.Red_bellied_Woodpecker'], dtype='<U26')]\n",
      " [array(['190.Red_cockaded_Woodpecker'], dtype='<U27')]\n",
      " [array(['191.Red_headed_Woodpecker'], dtype='<U25')]\n",
      " [array(['192.Downy_Woodpecker'], dtype='<U20')]\n",
      " [array(['193.Bewick_Wren'], dtype='<U15')]\n",
      " [array(['194.Cactus_Wren'], dtype='<U15')]\n",
      " [array(['195.Carolina_Wren'], dtype='<U17')]\n",
      " [array(['196.House_Wren'], dtype='<U14')]\n",
      " [array(['198.Rock_Wren'], dtype='<U13')]\n",
      " [array(['199.Winter_Wren'], dtype='<U15')]\n",
      " [array(['200.Common_Yellowthroat'], dtype='<U23')]\n",
      " [array(['001.Black_footed_Albatross'], dtype='<U26')]\n",
      " [array(['004.Groove_billed_Ani'], dtype='<U21')]\n",
      " [array(['006.Least_Auklet'], dtype='<U16')]\n",
      " [array(['008.Rhinoceros_Auklet'], dtype='<U21')]\n",
      " [array(['009.Brewer_Blackbird'], dtype='<U20')]\n",
      " [array(['014.Indigo_Bunting'], dtype='<U18')]\n",
      " [array(['023.Brandt_Cormorant'], dtype='<U20')]\n",
      " [array(['029.American_Crow'], dtype='<U17')]\n",
      " [array(['031.Black_billed_Cuckoo'], dtype='<U23')]\n",
      " [array(['033.Yellow_billed_Cuckoo'], dtype='<U24')]\n",
      " [array(['034.Gray_crowned_Rosy_Finch'], dtype='<U27')]\n",
      " [array(['035.Purple_Finch'], dtype='<U16')]\n",
      " [array(['036.Northern_Flicker'], dtype='<U20')]\n",
      " [array(['037.Acadian_Flycatcher'], dtype='<U22')]\n",
      " [array(['038.Great_Crested_Flycatcher'], dtype='<U28')]\n",
      " [array(['043.Yellow_bellied_Flycatcher'], dtype='<U29')]\n",
      " [array(['049.Boat_tailed_Grackle'], dtype='<U23')]\n",
      " [array(['051.Horned_Grebe'], dtype='<U16')]\n",
      " [array(['053.Western_Grebe'], dtype='<U17')]\n",
      " [array(['066.Western_Gull'], dtype='<U16')]\n",
      " [array(['072.Pomarine_Jaeger'], dtype='<U19')]\n",
      " [array(['079.Belted_Kingfisher'], dtype='<U21')]\n",
      " [array(['083.White_breasted_Kingfisher'], dtype='<U29')]\n",
      " [array(['084.Red_legged_Kittiwake'], dtype='<U24')]\n",
      " [array(['086.Pacific_Loon'], dtype='<U16')]\n",
      " [array(['091.Mockingbird'], dtype='<U15')]\n",
      " [array(['095.Baltimore_Oriole'], dtype='<U20')]\n",
      " [array(['096.Hooded_Oriole'], dtype='<U17')]\n",
      " [array(['098.Scott_Oriole'], dtype='<U16')]\n",
      " [array(['101.White_Pelican'], dtype='<U17')]\n",
      " [array(['102.Western_Wood_Pewee'], dtype='<U22')]\n",
      " [array(['103.Sayornis'], dtype='<U12')]\n",
      " [array(['112.Great_Grey_Shrike'], dtype='<U21')]\n",
      " [array(['114.Black_throated_Sparrow'], dtype='<U26')]\n",
      " [array(['119.Field_Sparrow'], dtype='<U17')]\n",
      " [array(['121.Grasshopper_Sparrow'], dtype='<U23')]\n",
      " [array(['130.Tree_Sparrow'], dtype='<U16')]\n",
      " [array(['135.Bank_Swallow'], dtype='<U16')]\n",
      " [array(['138.Tree_Swallow'], dtype='<U16')]\n",
      " [array(['147.Least_Tern'], dtype='<U14')]\n",
      " [array(['156.White_eyed_Vireo'], dtype='<U20')]\n",
      " [array(['163.Cape_May_Warbler'], dtype='<U20')]\n",
      " [array(['165.Chestnut_sided_Warbler'], dtype='<U26')]\n",
      " [array(['166.Golden_winged_Warbler'], dtype='<U25')]\n",
      " [array(['180.Wilson_Warbler'], dtype='<U18')]\n",
      " [array(['183.Northern_Waterthrush'], dtype='<U24')]\n",
      " [array(['185.Bohemian_Waxwing'], dtype='<U20')]\n",
      " [array(['186.Cedar_Waxwing'], dtype='<U17')]\n",
      " [array(['187.American_Three_toed_Woodpecker'], dtype='<U34')]\n",
      " [array(['197.Marsh_Wren'], dtype='<U14')]]\n"
     ]
    }
   ],
   "execution_count": 93
  },
  {
   "metadata": {
    "ExecuteTime": {
     "end_time": "2025-01-05T14:07:33.193130Z",
     "start_time": "2025-01-05T14:07:33.187710Z"
    }
   },
   "cell_type": "code",
   "source": "print(allclasses_names[0])",
   "id": "1c14ce9f6778a4e2",
   "outputs": [
    {
     "name": "stdout",
     "output_type": "stream",
     "text": [
      "[array(['002.Laysan_Albatross'], dtype='<U20')]\n"
     ]
    }
   ],
   "execution_count": 140
  },
  {
   "metadata": {
    "ExecuteTime": {
     "end_time": "2025-01-05T13:56:24.005505Z",
     "start_time": "2025-01-05T13:56:24.003432Z"
    }
   },
   "cell_type": "code",
   "source": "print(allclasses_names[0][0][0])",
   "id": "5be4cd341ce29d31",
   "outputs": [
    {
     "name": "stdout",
     "output_type": "stream",
     "text": [
      "002.Laysan_Albatross\n"
     ]
    }
   ],
   "execution_count": 131
  },
  {
   "metadata": {
    "ExecuteTime": {
     "end_time": "2025-01-05T14:53:52.047314Z",
     "start_time": "2025-01-05T14:53:52.026961Z"
    }
   },
   "cell_type": "code",
   "source": [
    "sss = np.reshape(np.array(images_kaggle[18].image_sentences), newshape=(10,1))\n",
    "# sss = np.array(images_kaggle[18].image_sentences)\n",
    "np.info(sss)\n",
    "sss"
   ],
   "id": "a457afa6fcadbfe0",
   "outputs": [
    {
     "name": "stdout",
     "output_type": "stream",
     "text": [
      "class:  ndarray\n",
      "shape:  (10, 1)\n",
      "strides:  (452, 452)\n",
      "itemsize:  452\n",
      "aligned:  True\n",
      "contiguous:  True\n",
      "fortran:  True\n",
      "data pointer: 0x138016600\n",
      "byteorder:  little\n",
      "byteswap:  False\n",
      "type: <U113\n"
     ]
    },
    {
     "data": {
      "text/plain": [
       "array([['light tan colored bird with a white head and an orange beak .'],\n",
       "       ['the bird has a very thick , curved , and beige beak'],\n",
       "       ['this bird has a long neck that is <UNKNOWN> and a pastel orange / blue narrow beak that <UNKNOWN> down at the tip'],\n",
       "       ['this bird is light brown , has a long hooked bill , and looks <UNKNOWN> .'],\n",
       "       ['this large white bird has a large curved bill and a brown eye'],\n",
       "       ['this bird is white with grey and has a long , pointy beak .'],\n",
       "       ['this bird is white with grey and has a long , pointy beak .'],\n",
       "       ['the crown of the bird is white , with light brown tones throughout .'],\n",
       "       ['the crown of the bird has distinctive tones of white and brown throughout .'],\n",
       "       ['this bird has a long neck and an orange bill']], dtype='<U113')"
      ]
     },
     "execution_count": 183,
     "metadata": {},
     "output_type": "execute_result"
    }
   ],
   "execution_count": 183
  },
  {
   "metadata": {
    "ExecuteTime": {
     "end_time": "2025-01-05T13:03:50.363296Z",
     "start_time": "2025-01-05T13:03:50.357852Z"
    }
   },
   "cell_type": "code",
   "source": [
    "np.info(allclasses_names)\n",
    "print(type(allclasses_names[0]))\n",
    "np.info(allclasses_names[0])"
   ],
   "id": "57e2340f63ca36ad",
   "outputs": [
    {
     "name": "stdout",
     "output_type": "stream",
     "text": [
      "class:  ndarray\n",
      "shape:  (200, 1)\n",
      "strides:  (8, 1600)\n",
      "itemsize:  8\n",
      "aligned:  True\n",
      "contiguous:  True\n",
      "fortran:  True\n",
      "data pointer: 0x12d0d2400\n",
      "byteorder:  little\n",
      "byteswap:  False\n",
      "type: object\n",
      "<class 'numpy.ndarray'>\n",
      "class:  ndarray\n",
      "shape:  (1,)\n",
      "strides:  (1600,)\n",
      "itemsize:  8\n",
      "aligned:  True\n",
      "contiguous:  True\n",
      "fortran:  True\n",
      "data pointer: 0x12d0d2400\n",
      "byteorder:  little\n",
      "byteswap:  False\n",
      "type: object\n"
     ]
    }
   ],
   "execution_count": 108
  },
  {
   "metadata": {
    "ExecuteTime": {
     "end_time": "2025-01-05T13:39:15.525788Z",
     "start_time": "2025-01-05T13:39:15.519002Z"
    }
   },
   "cell_type": "code",
   "source": [
    "np.info(allclasses_names[label_indices[:,0]])\n",
    "allclasses_names[label_indices[:,0]]"
   ],
   "id": "182a6fb3e8dc6fa0",
   "outputs": [
    {
     "name": "stdout",
     "output_type": "stream",
     "text": [
      "class:  ndarray\n",
      "shape:  (11788, 1)\n",
      "strides:  (8, 8)\n",
      "itemsize:  8\n",
      "aligned:  True\n",
      "contiguous:  True\n",
      "fortran:  True\n",
      "data pointer: 0x130ac0000\n",
      "byteorder:  little\n",
      "byteswap:  False\n",
      "type: object\n"
     ]
    },
    {
     "data": {
      "text/plain": [
       "array([[array(['001.Black_footed_Albatross'], dtype='<U26')],\n",
       "       [array(['001.Black_footed_Albatross'], dtype='<U26')],\n",
       "       [array(['001.Black_footed_Albatross'], dtype='<U26')],\n",
       "       ...,\n",
       "       [array(['200.Common_Yellowthroat'], dtype='<U23')],\n",
       "       [array(['200.Common_Yellowthroat'], dtype='<U23')],\n",
       "       [array(['200.Common_Yellowthroat'], dtype='<U23')]], dtype=object)"
      ]
     },
     "execution_count": 121,
     "metadata": {},
     "output_type": "execute_result"
    }
   ],
   "execution_count": 121
  },
  {
   "metadata": {
    "ExecuteTime": {
     "end_time": "2025-01-05T12:53:21.300210Z",
     "start_time": "2025-01-05T12:53:21.295156Z"
    }
   },
   "cell_type": "code",
   "source": "print(type(images_res101[\"labels\"]))",
   "id": "9bd92aa9264812a7",
   "outputs": [
    {
     "name": "stdout",
     "output_type": "stream",
     "text": [
      "<class 'numpy.ndarray'>\n"
     ]
    }
   ],
   "execution_count": 97
  },
  {
   "metadata": {
    "ExecuteTime": {
     "end_time": "2025-01-05T12:57:31.274811Z",
     "start_time": "2025-01-05T12:57:31.267829Z"
    }
   },
   "cell_type": "code",
   "source": [
    "label_indices = images_res101[\"labels\"] - 1\n",
    "np.info(label_indices)\n",
    "print(np.max(label_indices))\n",
    "print(np.min(label_indices))"
   ],
   "id": "5c8b882f6f170756",
   "outputs": [
    {
     "name": "stdout",
     "output_type": "stream",
     "text": [
      "class:  ndarray\n",
      "shape:  (11788, 1)\n",
      "strides:  (1, 1)\n",
      "itemsize:  1\n",
      "aligned:  True\n",
      "contiguous:  True\n",
      "fortran:  True\n",
      "data pointer: 0x123220e00\n",
      "byteorder:  little\n",
      "byteswap:  False\n",
      "type: uint8\n",
      "199\n",
      "0\n"
     ]
    }
   ],
   "execution_count": 101
  },
  {
   "metadata": {
    "ExecuteTime": {
     "end_time": "2025-01-05T12:56:20.026255Z",
     "start_time": "2025-01-05T12:56:20.010681Z"
    }
   },
   "cell_type": "code",
   "source": [
    "label_indices_2 = images_res101[\"labels\"] - 1\n",
    "np.info(label_indices_2)"
   ],
   "id": "210c8ec8f82cb2ea",
   "outputs": [
    {
     "name": "stdout",
     "output_type": "stream",
     "text": [
      "class:  ndarray\n",
      "shape:  (11788, 1)\n",
      "strides:  (1, 1)\n",
      "itemsize:  1\n",
      "aligned:  True\n",
      "contiguous:  True\n",
      "fortran:  True\n",
      "data pointer: 0x138849400\n",
      "byteorder:  little\n",
      "byteswap:  False\n",
      "type: uint8\n"
     ]
    }
   ],
   "execution_count": 99
  },
  {
   "metadata": {
    "ExecuteTime": {
     "end_time": "2025-01-05T13:37:09.506637Z",
     "start_time": "2025-01-05T13:37:09.486705Z"
    }
   },
   "cell_type": "code",
   "source": [
    "np.info(label_indices[:, 0])\n",
    "label_indices[:, 0]"
   ],
   "id": "a5e8ca73d707ca1e",
   "outputs": [
    {
     "name": "stdout",
     "output_type": "stream",
     "text": [
      "class:  ndarray\n",
      "shape:  (11788,)\n",
      "strides:  (1,)\n",
      "itemsize:  1\n",
      "aligned:  True\n",
      "contiguous:  True\n",
      "fortran:  True\n",
      "data pointer: 0x123220e00\n",
      "byteorder:  little\n",
      "byteswap:  False\n",
      "type: uint8\n"
     ]
    },
    {
     "data": {
      "text/plain": [
       "array([150, 150, 150, ..., 149, 149, 149], dtype=uint8)"
      ]
     },
     "execution_count": 118,
     "metadata": {},
     "output_type": "execute_result"
    }
   ],
   "execution_count": 118
  },
  {
   "metadata": {
    "ExecuteTime": {
     "end_time": "2025-01-05T13:37:36.845431Z",
     "start_time": "2025-01-05T13:37:36.838136Z"
    }
   },
   "cell_type": "code",
   "source": "print(label_indices)",
   "id": "4e591889810b6ffc",
   "outputs": [
    {
     "name": "stdout",
     "output_type": "stream",
     "text": [
      "[[150]\n",
      " [150]\n",
      " [150]\n",
      " ...\n",
      " [149]\n",
      " [149]\n",
      " [149]]\n"
     ]
    }
   ],
   "execution_count": 120
  },
  {
   "metadata": {
    "ExecuteTime": {
     "end_time": "2025-01-05T12:57:00.186790Z",
     "start_time": "2025-01-05T12:57:00.163802Z"
    }
   },
   "cell_type": "code",
   "source": "print(np.array_equal(label_indices, label_indices_2)) ",
   "id": "e17d1654705485ea",
   "outputs": [
    {
     "name": "stdout",
     "output_type": "stream",
     "text": [
      "True\n"
     ]
    }
   ],
   "execution_count": 100
  },
  {
   "metadata": {
    "ExecuteTime": {
     "end_time": "2025-01-05T13:01:18.629561Z",
     "start_time": "2025-01-05T13:01:18.624408Z"
    }
   },
   "cell_type": "code",
   "source": "print(label_indices)",
   "id": "8eef1c97eefd3609",
   "outputs": [
    {
     "name": "stdout",
     "output_type": "stream",
     "text": [
      "[[150]\n",
      " [150]\n",
      " [150]\n",
      " ...\n",
      " [149]\n",
      " [149]\n",
      " [149]]\n"
     ]
    }
   ],
   "execution_count": 105
  },
  {
   "metadata": {},
   "cell_type": "code",
   "outputs": [],
   "execution_count": null,
   "source": "",
   "id": "91a2c30553862b8b"
  },
  {
   "metadata": {
    "ExecuteTime": {
     "end_time": "2025-01-05T09:16:25.775872Z",
     "start_time": "2025-01-05T09:16:25.763089Z"
    }
   },
   "cell_type": "code",
   "source": "print(type(images_res101[\"labels\"]))",
   "id": "daaee704e5d4384c",
   "outputs": [
    {
     "name": "stdout",
     "output_type": "stream",
     "text": [
      "<class 'numpy.ndarray'>\n"
     ]
    }
   ],
   "execution_count": 85
  },
  {
   "metadata": {
    "ExecuteTime": {
     "end_time": "2025-01-04T20:01:38.227103Z",
     "start_time": "2025-01-04T20:01:38.216227Z"
    }
   },
   "cell_type": "code",
   "source": "print(images_res101[\"imageNumbers\"])",
   "id": "38e5f03d8e87aaad",
   "outputs": [
    {
     "name": "stdout",
     "output_type": "stream",
     "text": [
      "[796111, 55, 796136, 796090, 796065, 796138, 796083, 34, 796097, 89, 796067, 796098, 796104, 796059, 796089, 796057, 796095, 100, 796115, 796086, 796140, 796127, 796120, 212, 796132, 796066, 796108, 796071, 796129, 18, 796064, 796063, 796125, 796103, 796109, 796078, 796106, 796074, 796076, 796082, 796141, 796101, 796068, 170, 796135, 796139, 796113, 59, 417, 796114, 796126, 796122, 796096, 426, 796121, 92, 796062, 796133, 796069, 796077, 545, 1027, 1033, 930, 565, 702, 696, 910, 614, 492, 737, 1059, 571, 643, 482, 658, 628, 876, 699, 924, 472, 801, 784, 619, 918, 870, 1020, 543, 570, 500, 637, 488, 777, 563, 674, 809, 726, 788, 792, 927, 668, 671, 506, 821, 800, 524, 756, 564, 883, 602, 834, 725, 1013, 673, 621, 869, 735, 611, 504, 630, 1071, 796395, 1078, 796366, 796342, 796390, 796372, 796355, 796402, 796373, 1075, 796349, 796391, 796359, 796339, 796398, 796401, 1161, 796361, 796357, 1122, 1066, 1149, 1128, 1154, 796387, 1065, 796375, 796364, 1210, 1076, 1105, 1162, 1211, 1130, 796350, 796351, 796374, 796347, 1160, 796354, 796360, 1101, 796343, 796367, 796382, 796376, 796353, 796358, 796346, 1116, 796371, 1171, 1221, 796352, 796365, 1080, 796389, 1670, 1528, 1750, 1763, 1615, 1522, 1704, 1784, 1755, 1653, 1561, 1613, 1585, 1485, 1754, 1620, 1588, 1776, 1494, 1591, 1604, 1560, 1715, 1731, 1663, 1706, 1650, 1672, 1501, 1493, 1751, 1480, 1505, 1510, 1767, 1502, 1538, 1546, 1559, 1696, 1730, 1617, 1661, 1724, 1780, 1549, 1697, 1612, 1765, 1678, 1567, 1728, 1516, 1540, 1646, 1700, 1562, 1590, 1639, 1592, 794941, 794962, 794922, 1813, 794907, 794927, 794960, 794914, 1817, 794925, 794938, 794951, 1824, 794937, 794931, 794964, 794905, 794944, 794912, 794910, 794902, 1825, 794940, 794918, 1791, 794952, 794966, 794932, 794929, 794904, 794968, 794901, 785251, 785249, 785253, 785258, 785261, 785255, 785260, 785248, 794949, 785259, 785252, 785257, 795112, 795119, 795123, 795071, 795092, 795109, 795074, 1901, 795065, 1903, 795084, 795077, 795080, 795127, 1898, 795120, 795087, 795066, 795091, 795094, 795122, 795116, 795068, 795096, 1888, 795132, 795081, 795100, 795107, 1874, 795067, 795069, 795118, 1924, 795088, 795130, 795106, 795126, 1931, 795095, 795134, 795972, 795982, 795921, 795932, 795992, 795995, 795927, 795970, 795966, 795977, 795924, 795987, 795947, 2045, 795975, 795962, 795925, 795944, 795930, 795960, 795986, 795994, 795934, 795943, 795935, 795955, 795974, 795933, 795961, 795948, 795953, 795956, 795980, 795957, 795971, 795963, 795926, 795942, 795973, 795990, 795958, 795954, 795969, 795964, 795936, 795998, 795929, 795939, 795976, 795981, 796001, 2004, 795965, 797538, 797535, 797541, 2111, 797512, 797521, 797531, 797539, 797545, 797530, 2161, 797537, 797522, 2160, 2114, 2155, 797517, 797513, 2195, 2089, 2170, 797501, 797529, 797508, 797519, 797496, 2056, 797520, 797509, 797518, 797516, 2169, 797497, 2166, 797499, 797544, 2174, 797503, 797515, 2101, 2096, 797502, 797536, 797532, 2162, 797543, 797534, 797510, 2278, 2345, 2616, 2269, 2691, 2679, 2286, 2225, 2668, 2261, 2231, 2625, 2329, 2682, 2268, 2214, 2611, 2294, 2653, 2302, 2303, 2688, 2258, 2631, 2270, 2290, 2310, 2693, 2325, 2277, 2659, 2343, 2234, 2593, 2622, 2658, 2610, 2634, 2322, 2560, 2630, 2620, 2273, 2230, 2608, 2232, 2613, 2340, 2279, 2327, 2235, 2289, 2293, 2324, 2607, 2680, 2567, 2586, 2636, 3695, 5636, 6005, 3706, 5841, 6386, 5845, 6015, 5762, 3761, 4116, 4050, 3767, 4483, 5257, 4180, 5342, 4123, 4709, 4804, 4004, 4285, 4522, 3635, 5621, 4526, 4242, 3802, 5598, 5575, 4072, 4625, 4345, 4141, 4612, 4688, 4196, 4233, 4936, 4026, 5070, 3988, 4338, 4146, 4953, 5372, 4527, 6081, 5846, 4007, 4188, 4096, 5948, 5856, 5019, 3985, 6244, 3918, 4842, 4454, 6548, 6749, 6771, 6633, 6853, 7028, 6902, 6885, 6684, 6755, 6704, 6679, 6808, 6752, 6768, 6593, 6699, 6611, 6879, 6550, 2597, 7009, 6632, 6715, 7035, 6676, 6923, 6856, 6935, 6756, 6744, 6585, 6717, 6716, 6877, 6967, 6906, 6713, 6658, 6727, 6695, 2727, 6628, 6582, 6846, 6597, 6880, 6590, 6685, 6937, 6839, 6867, 6698, 3220, 3415, 6664, 6760, 6762, 6637, 6736, 8337, 8366, 8756, 8248, 8443, 8362, 8207, 8511, 8588, 8549, 7325, 8586, 8262, 8545, 8456, 7736, 8447, 8689, 7514, 8264, 8574, 8250, 7929, 8548, 8387, 8410, 8357, 8455, 8236, 8350, 8079, 8208, 8310, 8481, 8583, 8606, 8442, 8452, 8332, 8535, 8601, 8577, 8300, 8435, 8363, 8487, 8358, 8257, 8326, 8555, 8458, 8367, 8407, 8441, 7937, 8271, 9261, 11085, 9246, 9289, 9367, 11055, 9402, 10552, 9194, 10623, 11057, 10569, 10217, 10809, 11117, 9779, 9681, 10607, 9990, 9204, 9988, 9540, 9821, 9423, 10166, 9080, 10051, 10041, 10092, 9375, 11533, 9085, 10624, 9503, 9311, 11093, 10736, 9439, 10026, 9823, 10861, 9314, 9811, 10807, 10273, 9126, 10252, 9869, 9496, 11073, 10627, 9265, 10215, 10430, 10859, 10182, 11458, 9947, 9578, 9618, 12469, 12163, 13049, 13195, 13832, 14317, 13000, 12949, 14167, 12632, 13661, 11574, 11883, 13979, 12781, 13523, 12532, 11964, 11579, 12335, 13761, 13300, 12215, 12777, 12464, 13716, 14128, 12756, 11805, 13987, 14389, 12966, 13641, 11811, 12837, 11893, 13391, 12213, 13473, 12637, 12207, 11596, 14495, 13259, 11820, 14558, 12869, 13081, 11639, 14197, 13933, 12829, 12835, 12950, 14060, 11852, 13416, 11907, 11848, 11991, 14916, 14887, 15195, 15163, 14915, 14824, 14690, 14837, 14686, 15079, 14669, 14895, 14950, 14986, 15018, 14778, 14864, 14920, 15021, 15081, 14923, 15152, 14820, 14954, 14787, 14863, 14844, 14618, 14714, 15043, 15032, 14775, 14749, 15155, 14914, 14672, 14665, 14594, 14854, 14662, 15164, 14893, 14709, 15047, 14815, 14627, 14992, 15096, 14598, 14656, 15030, 11894, 14919, 14617, 14873, 14605, 15017, 14705, 16585, 16887, 16641, 15202, 15249, 16416, 16674, 16948, 16690, 15294, 15200, 15231, 15295, 16722, 16536, 15205, 16530, 16605, 15207, 16563, 15235, 16691, 16557, 16535, 16869, 16670, 16404, 16711, 15208, 16599, 16719, 15224, 16930, 15241, 16462, 16515, 15209, 16697, 16737, 16765, 16819, 16565, 15197, 16534, 15230, 16587, 16531, 15282, 16540, 15232, 15198, 15212, 16467, 15233, 15226, 16525, 16735, 16642, 17057, 18424, 17684, 18537, 18894, 18638, 17389, 17862, 17071, 17368, 18664, 17233, 19026, 17239, 18054, 17297, 19215, 17678, 18092, 19203, 17597, 17477, 17189, 18021, 17673, 18258, 18035, 17223, 18334, 17541, 19334, 18898, 18352, 17128, 17139, 17334, 17803, 17159, 18339, 17946, 17181, 19044, 17291, 17875, 18042, 17576, 19162, 18005, 17591, 17676, 17165, 18108, 17396, 17808, 17425, 17122, 19045, 796797, 796827, 796822, 796804, 19411, 796823, 19424, 796789, 796795, 19436, 796815, 796802, 19428, 19425, 796808, 796803, 796800, 796788, 796794, 796798, 796821, 796793, 796791, 796819, 796818, 796796, 796813, 796825, 796801, 796806, 796828, 796805, 19437, 796799, 19406, 796810, 796811, 796820, 796807, 19430, 796809, 796814, 19399, 19400, 796817, 20695, 21395, 20867, 20186, 20430, 20562, 21230, 20567, 19585, 20668, 20739, 20968, 20598, 21635, 21551, 21040, 20546, 21008, 20955, 20950, 20558, 21311, 20763, 20694, 20671, 20979, 20656, 20707, 21043, 21065, 20974, 19601, 21125, 20139, 21464, 20416, 20735, 21303, 20674, 21178, 20644, 20930, 20716, 20864, 20513, 19550, 21270, 21333, 20476, 19833, 19446, 20034, 20987, 20328, 19633, 20596, 20945, 21281, 21174, 21928, 21819, 21828, 21856, 21777, 21820, 21961, 22008, 21970, 21719, 21944, 21664, 21845, 22017, 21964, 21823, 21873, 21955, 21870, 21654, 21683, 22106, 21797, 21866, 21864, 21967, 21673, 21783, 22137, 21839, 21860, 22129, 21830, 21932, 21715, 21986, 21978, 21829, 22082, 21899, 21877, 21695, 21686, 21804, 21931, 22111, 21693, 21832, 21748, 21987, 21913, 21677, 21696, 21670, 21714, 22032, 21698, 21796, 21871, 22314, 22318, 22172, 22336, 22367, 22275, 22138, 22546, 22141, 22152, 22279, 22382, 22372, 22693, 22233, 22223, 22399, 22341, 22155, 22557, 22357, 22257, 22558, 22623, 22147, 22418, 22649, 22142, 22194, 22247, 22620, 22588, 22690, 22303, 22330, 22674, 22611, 22273, 22629, 22621, 22594, 22580, 22676, 22566, 22559, 22675, 22182, 22549, 22168, 22231, 22304, 22741, 22189, 22319, 22538, 22585, 22220, 22639, 22358, 22624, 796975, 796959, 796977, 796957, 796998, 796986, 796958, 796968, 796955, 796964, 796954, 796956, 796987, 796962, 796974, 796960, 796980, 22806, 796965, 796952, 796967, 796979, 796993, 796972, 796963, 796978, 796988, 22751, 796994, 796981, 22802, 22792, 796969, 796985, 796961, 796989, 797000, 796976, 796997, 796983, 797001, 22798, 796966, 796971, 796995, 22747, 22750, 796991, 796984, 796953, 22782, 796973, 796996, 796970, 796999, 796982, 23398, 23072, 22922, 22925, 22934, 22890, 23391, 23050, 23198, 23077, 23141, 23090, 23058, 23097, 23157, 23254, 22820, 22913, 22892, 23043, 22926, 22886, 22975, 23000, 22937, 23110, 22945, 23144, 23151, 22884, 22916, 23337, 22924, 23356, 22957, 22902, 23038, 22865, 22849, 23118, 23352, 23019, 23137, 23007, 23069, 23259, 22881, 22970, 23021, 23203, 22874, 23002, 22978, 23156, 23265, 23126, 22948, 22825, 23061, 796327, 796275, 796270, 796280, 796314, 23421, 796278, 796307, 796323, 796318, 796265, 796328, 796285, 796306, 796289, 23482, 796322, 796325, 796334, 796337, 23425, 796294, 796329, 796305, 796313, 796308, 796272, 796277, 796324, 23446, 796330, 796296, 796279, 796276, 796316, 796331, 796301, 796297, 796286, 796315, 23416, 796300, 796336, 796284, 23464, 796293, 796333, 796321, 796274, 796319, 796269, 796332, 23538, 23680, 23695, 23720, 23602, 23561, 23711, 23667, 23565, 23801, 23509, 23875, 23880, 23546, 23802, 23712, 23776, 23792, 23545, 23732, 23570, 23530, 23849, 23503, 23889, 23643, 23763, 23522, 23536, 23588, 23718, 23714, 23760, 23812, 23415, 24002, 23548, 23623, 23515, 23641, 23513, 23964, 23785, 23511, 23645, 23523, 23890, 23844, 23557, 23836, 23821, 23719, 23855, 23639, 23722, 23775, 23783, 23784, 23894, 23778, 796219, 796244, 796246, 24173, 796250, 24033, 24146, 24138, 796247, 24131, 24030, 796245, 24019, 24140, 796242, 796237, 24189, 796221, 24058, 24167, 796213, 796229, 24022, 796256, 24103, 24139, 796233, 796209, 24032, 24026, 24134, 796224, 24145, 796218, 24147, 24083, 796216, 24170, 24159, 24076, 796222, 24074, 796239, 24082, 796232, 796238, 24199, 796226, 24045, 796235, 796262, 24198, 24175, 24152, 796259, 796223, 796220, 24179, 796212, 796215, 796860, 24380, 796841, 796873, 796864, 24434, 796835, 24439, 24249, 24214, 796858, 796853, 796830, 24323, 24276, 796870, 24281, 24444, 796847, 796850, 24372, 24206, 796851, 24284, 796849, 796837, 24274, 24440, 24359, 24379, 796857, 24239, 796856, 24210, 24438, 24331, 24321, 24345, 24421, 796874, 24271, 24259, 796848, 24358, 24392, 24413, 24351, 796832, 24297, 24335, 24363, 24273, 796846, 24399, 796875, 796833, 24279, 796834, 796839, 24386, 24449, 24838, 24851, 24659, 25034, 24902, 24956, 24940, 24729, 24912, 24999, 24800, 24941, 24578, 24549, 24463, 24984, 24976, 24911, 24468, 24451, 24452, 24529, 24933, 25010, 24601, 24724, 24840, 24464, 24618, 24977, 24546, 24789, 24947, 24647, 24967, 24938, 24731, 24841, 24581, 24502, 24987, 25000, 24632, 24698, 24617, 24827, 24866, 24590, 24560, 24649, 24488, 24500, 24955, 24574, 24589, 24963, 24995, 24656, 25053, 25122, 25130, 25819, 25151, 25305, 25287, 25112, 25618, 25137, 25522, 25146, 25092, 25433, 25313, 25061, 25666, 25397, 25062, 25255, 25505, 25203, 25599, 25587, 25827, 25443, 25198, 25506, 25350, 25463, 25220, 25837, 25260, 25303, 25694, 25576, 25717, 25118, 25066, 25086, 25283, 25353, 25123, 25541, 25127, 25149, 25199, 25090, 25610, 25720, 25200, 25356, 25412, 25163, 25706, 25704, 25206, 25117, 25221, 25186, 26031, 26072, 25970, 25936, 25912, 26023, 25836, 25866, 25946, 25939, 26041, 25854, 26127, 25879, 26027, 26062, 26037, 26064, 25893, 25968, 25909, 26014, 25915, 25891, 26081, 25911, 26071, 26000, 25158, 25887, 26148, 25847, 25964, 26070, 26040, 25934, 26067, 26077, 25851, 25999, 25864, 26016, 25884, 26094, 25942, 26124, 25859, 26008, 25504, 25155, 25945, 25977, 25971, 26144, 26030, 25861, 25908, 26012, 25949, 25919, 26242, 26161, 26233, 26320, 795305, 26208, 26221, 26218, 795329, 795319, 26258, 795331, 26319, 26165, 26240, 26318, 26292, 795320, 795330, 795308, 795324, 26243, 26194, 795328, 26176, 795318, 26232, 795321, 26313, 26223, 795323, 795292, 795327, 795309, 26203, 26303, 795326, 795310, 26288, 795304, 795286, 795298, 26177, 26222, 26180, 26209, 26241, 795315, 26175, 795294, 26188, 795300, 26217, 795322, 26311, 26246, 795313, 795316, 795307, 26204, 794601, 26410, 794619, 794614, 794599, 794626, 794610, 26357, 26354, 26399, 26406, 26382, 794620, 26388, 26380, 794607, 794623, 794593, 794621, 794629, 794602, 794625, 26409, 794630, 26375, 794609, 26360, 26358, 794624, 26350, 26401, 794603, 26359, 26415, 794595, 794606, 26389, 794600, 26348, 26378, 26370, 794628, 794605, 26393, 794612, 794616, 794604, 26351, 794631, 794594, 794627, 794608, 26390, 26715, 26797, 26790, 26684, 26578, 26687, 26656, 26795, 26712, 26754, 26535, 26803, 26423, 26637, 26832, 26794, 26844, 26446, 26865, 26616, 26521, 26694, 26682, 26912, 26510, 26479, 26492, 26685, 26632, 26766, 26424, 26738, 26828, 26686, 26692, 26600, 26878, 26597, 26744, 26466, 26431, 26888, 26429, 26655, 26761, 26812, 26714, 26428, 26859, 26432, 26643, 26713, 26501, 26814, 26838, 26544, 26651, 26550, 26807, 27211, 797272, 797284, 797278, 26977, 27039, 27062, 27110, 797291, 27181, 26978, 27192, 797286, 27028, 797288, 27057, 797274, 27160, 27153, 27114, 797300, 27068, 797299, 797305, 797287, 27088, 797309, 26985, 27105, 27143, 26990, 26976, 797295, 797303, 27236, 26988, 27032, 797276, 27112, 797293, 27107, 26979, 27123, 27007, 797301, 797298, 797289, 27196, 797285, 26993, 27104, 27156, 27165, 27200, 27136, 797294, 27108, 797281, 27034, 27571, 27266, 27565, 27512, 27950, 27455, 27633, 27506, 27322, 27961, 28235, 27986, 28174, 27255, 28175, 27305, 27926, 27972, 27641, 28117, 27295, 27670, 27507, 27702, 27543, 27966, 27473, 27431, 27443, 28101, 27441, 27258, 27913, 27639, 27637, 28076, 27425, 27264, 27323, 27688, 27288, 27280, 27308, 27461, 28088, 27607, 28143, 27750, 27293, 27547, 27837, 28190, 27427, 27604, 27260, 27597, 27567, 27555, 27928, 27526, 28854, 28290, 28591, 28466, 28603, 28741, 28952, 29041, 28740, 28332, 28681, 28751, 28697, 28592, 28805, 28391, 28284, 28650, 28445, 28913, 28344, 28606, 28488, 28330, 28924, 28678, 28729, 28341, 28338, 28630, 28318, 28378, 28360, 28491, 28799, 28700, 28726, 28938, 28623, 28312, 28898, 28371, 28836, 28441, 28667, 28502, 28602, 28402, 28500, 28381, 28966, 28485, 28411, 29022, 28962, 28313, 28291, 28918, 28476, 28419, 29094, 795623, 29157, 795595, 795600, 795599, 29155, 29199, 795612, 29232, 795607, 795578, 29217, 795598, 795592, 29069, 795594, 29145, 29173, 795611, 795591, 795582, 795622, 29195, 795583, 795618, 795577, 795616, 795606, 795629, 795605, 29127, 29115, 795624, 795587, 795596, 795593, 795580, 795608, 29077, 795610, 795620, 29113, 795609, 29086, 795602, 29102, 795604, 795585, 795584, 29070, 29190, 29197, 795590, 795579, 29150, 795627, 795603, 795628, 29701, 29362, 29280, 29831, 29396, 29264, 29496, 29406, 29801, 29929, 29481, 29516, 29532, 29696, 29645, 29825, 29959, 29693, 29533, 29447, 29521, 29438, 29995, 29586, 29474, 29786, 29530, 29523, 29807, 29507, 29546, 29488, 29384, 29416, 29603, 29455, 29330, 29553, 29445, 29716, 29812, 29518, 29252, 29592, 29583, 29398, 29305, 29456, 29501, 29712, 29543, 29778, 29472, 29294, 29593, 29329, 29300, 29314, 29490, 29302, 30221, 30140, 30142, 30262, 30339, 30303, 30149, 30222, 30240, 30280, 30460, 30462, 30358, 30355, 30352, 30230, 30434, 30362, 30146, 30449, 30151, 30213, 30127, 30366, 30349, 30174, 30316, 30393, 30361, 30189, 30321, 30450, 30282, 30143, 30152, 30214, 30429, 30131, 30190, 30328, 30357, 30397, 30147, 30441, 30117, 30296, 30256, 30457, 30380, 30132, 30318, 30123, 30154, 30435, 30277, 30233, 30122, 30200, 30338, 30669, 30776, 30734, 30824, 30686, 796885, 796876, 30550, 30651, 30717, 30704, 796882, 796881, 796880, 30551, 796887, 30486, 30525, 30549, 796896, 30502, 30713, 30532, 30672, 30799, 30784, 796884, 30620, 30470, 796886, 30632, 796888, 30529, 30656, 796889, 796878, 30639, 30732, 796879, 30570, 796898, 796883, 30536, 30540, 30485, 30749, 30544, 30490, 30647, 796877, 30816, 30712, 30555, 30492, 30752, 30662, 30515, 796895, 796893, 30553, 41762, 41849, 41643, 41727, 41601, 41917, 41670, 41853, 42024, 42111, 41936, 41680, 41931, 42117, 42032, 41774, 42010, 41836, 41782, 42025, 41649, 41990, 42002, 41646, 42051, 41948, 41998, 41655, 41952, 41835, 41827, 42085, 41597, 41688, 41852, 41830, 41700, 41810, 41767, 42018, 41733, 41701, 41731, 41796, 41938, 41684, 42013, 41720, 42136, 42118, 41704, 42137, 42026, 42067, 41879, 41843, 41679, 41638, 41906, 41905, 42390, 42316, 42395, 42478, 42564, 42214, 42234, 42554, 42253, 42533, 42196, 42407, 42474, 42241, 42498, 42378, 42559, 42565, 42506, 42248, 42375, 42388, 42197, 42523, 42201, 42216, 42522, 42356, 42282, 42389, 42262, 42423, 42398, 42266, 42182, 42305, 42219, 42488, 42298, 42380, 42479, 42551, 42184, 42210, 42442, 42562, 42311, 42261, 42293, 42397, 42552, 42179, 42467, 42185, 42535, 42502, 42250, 42429, 42218, 42573, 795488, 795487, 795513, 42627, 795473, 795491, 42703, 795510, 795498, 42734, 795469, 42769, 42608, 795504, 795476, 795490, 795494, 795512, 795482, 795472, 795478, 42616, 795484, 795489, 42649, 42639, 795483, 42580, 42578, 42695, 795511, 795464, 42591, 795500, 795477, 795471, 795465, 42719, 795480, 42575, 795508, 795468, 795505, 42593, 42598, 795470, 42621, 795493, 42709, 795507, 795485, 42595, 795479, 42693, 42704, 795466, 42635, 795514, 42701, 43101, 43221, 42828, 43381, 43058, 43213, 43062, 43132, 43159, 43348, 42913, 43457, 43110, 42979, 43053, 43420, 42860, 42823, 43039, 43044, 43084, 43043, 43411, 43220, 43019, 43016, 43251, 42838, 43054, 43193, 42812, 42795, 43541, 43516, 43038, 43035, 43064, 42779, 42989, 43006, 43201, 43013, 43511, 43066, 43206, 42785, 43571, 43567, 43207, 42773, 43394, 42807, 42973, 43410, 43189, 43042, 43300, 42791, 43549, 43183, 43749, 43755, 43753, 43647, 44112, 43769, 44131, 43895, 43658, 43958, 43771, 43853, 43743, 43809, 43705, 43752, 44049, 43750, 43794, 43718, 43712, 43846, 43689, 44013, 43739, 43685, 43581, 43760, 43698, 43672, 43906, 43839, 43857, 43843, 43880, 44114, 43813, 43653, 43631, 43710, 44081, 43714, 43916, 44146, 43955, 43893, 43730, 43985, 43599, 43912, 43618, 43867, 44120, 43860, 43654, 43865, 43578, 44015, 43732, 44062, 31235, 31669, 30924, 31537, 31847, 31158, 30920, 31020, 31570, 30979, 30984, 31616, 30942, 30933, 30966, 31623, 31637, 31855, 30935, 31212, 30985, 31760, 31013, 31788, 31064, 31411, 31360, 31312, 30936, 31223, 30915, 30912, 31660, 31646, 31686, 31504, 31659, 31557, 30886, 31291, 31187, 31655, 30892, 31639, 30929, 31052, 31747, 31301, 30959, 31135, 31171, 31346, 31821, 31854, 30941, 31162, 30898, 30911, 31560, 30893, 32306, 32236, 31903, 32338, 32154, 32272, 32324, 32111, 32222, 32218, 31922, 32371, 31910, 32071, 32323, 31969, 31979, 31993, 31974, 32105, 32885, 31889, 31913, 32359, 32169, 32281, 31921, 32142, 32265, 31890, 32295, 31887, 32363, 32152, 31893, 31938, 32910, 31876, 32183, 32225, 32540, 32238, 32182, 32618, 32974, 32022, 32362, 31943, 32210, 32725, 32186, 32505, 32480, 32333, 32625, 32911, 32802, 32409, 32107, 32277, 33066, 33313, 33263, 794661, 33153, 794676, 794646, 794687, 794672, 794638, 794644, 794674, 794647, 33357, 794679, 33256, 794642, 33149, 794675, 794643, 794645, 794690, 33307, 33332, 794656, 33082, 794639, 33169, 794665, 794657, 794670, 794637, 33359, 33084, 794633, 33348, 794660, 33173, 33346, 33170, 33322, 33259, 33147, 794682, 794693, 794651, 33279, 794648, 794671, 794653, 794673, 794688, 33152, 794685, 33127, 794664, 794634, 33298, 794655, 33176, 33858, 33373, 34020, 33998, 33485, 33770, 33480, 33687, 33393, 33743, 33777, 33615, 33524, 33750, 33417, 33396, 33595, 33500, 33422, 33501, 33600, 33676, 33633, 33774, 33649, 33589, 33650, 33492, 33423, 33368, 34032, 33387, 33685, 33612, 33723, 33839, 33488, 33590, 33384, 33818, 33369, 33448, 33807, 33504, 33568, 33801, 33759, 33455, 33985, 33611, 33663, 33398, 33841, 33490, 33808, 33576, 34023, 33695, 33867, 33593, 34433, 34277, 34347, 34236, 34244, 34151, 34150, 34231, 34334, 34139, 34357, 34131, 34309, 34344, 34383, 34341, 34258, 34262, 34078, 34142, 34137, 34048, 34169, 34321, 34257, 34340, 34157, 34132, 34427, 34212, 34204, 34175, 34100, 34209, 34205, 34084, 34289, 34098, 34274, 34174, 34133, 34407, 34249, 34054, 34251, 34049, 34416, 34052, 34199, 34311, 34172, 34238, 34115, 34342, 34223, 34153, 34227, 34364, 34063, 34064, 34723, 34577, 34983, 34657, 34718, 34515, 34952, 34716, 34687, 34968, 35073, 34811, 34557, 34626, 34736, 34848, 34548, 34535, 34859, 34926, 34779, 34561, 35143, 34512, 35104, 34590, 34568, 34613, 34523, 34966, 35015, 34738, 34654, 35111, 34990, 34514, 35078, 34497, 34841, 34587, 34799, 34725, 34936, 34713, 34749, 35023, 34640, 34720, 34491, 34452, 34662, 34989, 34462, 35203, 34448, 34822, 35112, 35012, 34864, 34517, 35808, 35437, 35399, 35882, 35424, 35289, 35958, 35687, 35949, 35551, 35498, 35931, 35379, 35518, 35598, 35798, 35981, 35224, 35425, 35962, 35670, 35980, 35530, 35937, 35262, 35502, 35623, 35503, 35507, 35955, 35529, 35843, 35713, 35465, 35963, 35472, 35386, 35939, 35553, 35432, 35410, 35409, 35356, 35863, 35483, 35276, 35496, 35579, 35872, 35310, 35464, 35418, 35703, 35493, 35362, 35377, 35764, 35970, 35469, 35322, 36481, 36518, 36130, 36074, 36477, 36522, 36383, 36185, 36218, 36241, 36282, 36148, 36251, 36196, 36379, 36439, 36395, 36149, 36521, 36469, 36363, 36035, 36183, 36188, 36425, 36118, 36203, 36399, 36219, 36163, 36249, 36216, 36157, 36403, 36181, 36613, 36610, 36486, 36162, 36536, 36435, 36355, 36310, 36578, 36033, 36224, 36478, 36570, 36428, 36154, 36182, 36194, 36121, 36193, 36112, 36116, 36515, 36164, 36542, 36509, 36648, 14988, 36992, 37108, 36708, 36985, 36862, 37205, 36967, 37082, 37069, 36680, 36646, 36703, 37197, 37173, 36980, 37048, 36794, 37095, 37174, 36742, 37200, 36672, 37119, 36809, 37180, 37065, 36709, 37116, 36633, 36847, 36632, 36965, 36948, 36774, 37148, 37155, 36963, 36655, 36656, 37034, 36991, 36990, 36818, 36780, 36711, 37107, 36995, 37007, 37067, 36828, 36719, 36673, 36984, 36986, 36696, 36914, 36841, 36679, 37437, 37698, 37960, 37331, 37312, 37913, 37238, 37613, 37379, 37789, 37761, 37404, 37230, 37824, 37410, 37239, 37707, 37349, 37978, 37228, 37429, 37928, 37938, 37280, 37336, 37954, 38005, 37392, 38026, 37409, 37296, 37684, 37767, 37301, 37302, 37818, 38160, 38051, 37979, 37487, 38048, 37225, 37608, 37532, 37863, 37697, 37927, 37661, 37933, 37922, 37416, 37490, 37299, 37378, 37864, 37831, 37813, 38025, 37976, 37398, 38214, 38437, 38396, 38421, 38486, 38609, 38466, 38398, 38743, 38374, 38845, 38382, 38403, 38443, 38995, 38473, 38945, 38987, 38729, 38968, 38956, 38400, 38432, 38992, 38766, 38275, 38434, 38380, 38475, 38804, 38805, 38953, 38730, 38940, 38431, 38581, 38524, 38981, 38207, 38619, 38929, 38242, 38552, 38508, 38830, 38811, 38912, 38441, 38735, 38988, 38216, 38362, 38210, 38218, 38351, 38281, 38451, 38741, 38259, 38330, 39801, 39223, 39143, 39481, 39238, 39207, 39149, 39037, 39265, 39161, 39731, 39274, 39152, 39398, 39252, 39191, 39271, 39434, 39772, 39290, 39689, 39158, 39489, 39407, 39695, 39798, 39044, 39154, 39045, 39279, 39234, 39802, 39592, 39094, 39254, 39795, 39613, 39734, 39136, 39053, 39658, 39280, 39035, 39211, 39367, 39178, 39514, 39495, 39580, 39189, 39714, 39000, 39373, 39770, 39601, 39284, 39597, 39361, 39204, 39227, 39986, 40375, 40313, 40218, 39935, 40236, 40253, 40040, 40232, 40195, 40515, 40088, 39829, 39814, 40511, 40126, 40046, 39889, 40089, 40074, 40149, 40035, 40270, 39807, 40281, 39861, 40137, 39876, 40171, 40130, 40184, 39929, 39853, 40044, 40039, 40278, 40216, 39905, 40209, 40159, 39885, 40389, 40339, 40290, 39980, 40217, 39897, 40008, 40090, 39864, 39867, 39995, 39902, 40179, 39882, 40078, 40235, 39872, 40786, 41079, 40942, 40662, 40735, 41272, 40880, 41377, 41471, 41479, 41386, 41083, 40666, 41506, 41354, 41469, 41335, 41548, 41066, 40865, 41034, 41326, 41209, 41121, 41047, 41011, 40871, 41218, 40858, 40764, 41562, 41188, 40973, 41358, 40788, 41550, 41318, 41040, 40909, 41296, 40716, 41276, 41300, 41111, 40978, 41088, 41140, 40986, 41044, 41116, 41465, 41063, 41033, 41267, 41292, 41196, 41330, 40963, 40836, 41383, 44612, 44361, 44860, 44575, 44827, 44264, 44381, 44832, 44198, 45224, 44733, 45090, 44628, 44594, 44625, 44576, 44719, 44906, 45065, 44543, 44881, 44658, 44807, 44215, 44852, 44669, 45156, 44253, 44455, 44744, 44461, 45223, 44528, 44775, 44268, 44550, 44836, 44848, 44724, 44696, 45012, 44718, 44579, 44377, 44856, 44731, 45236, 44298, 2081, 44663, 44761, 44258, 44742, 45210, 44435, 44738, 44743, 45059, 44694, 45472, 45936, 45839, 45905, 45771, 41392, 45608, 45409, 45686, 45486, 45864, 45822, 45774, 45792, 45693, 45754, 45939, 45705, 45888, 45622, 45854, 45901, 45751, 45642, 45735, 45714, 45351, 45295, 45597, 45711, 45468, 45879, 45304, 45658, 45679, 45834, 45363, 45576, 45783, 45753, 45440, 45904, 45619, 45968, 45652, 45748, 45797, 45626, 45375, 45627, 45663, 45700, 45548, 45415, 45283, 45416, 45269, 45749, 45391, 45798, 48205, 48046, 46425, 46654, 47814, 46353, 48969, 48309, 48041, 46389, 48824, 48655, 46420, 46637, 46845, 46218, 46061, 46508, 46276, 46810, 46164, 47994, 46783, 47383, 46501, 47832, 48098, 46392, 46615, 48751, 48935, 47497, 48718, 46806, 47540, 48674, 46406, 47841, 46029, 47172, 48058, 46971, 46677, 48078, 45996, 46113, 46930, 46956, 47123, 47222, 48822, 46708, 46675, 47395, 48023, 47006, 46455, 47184, 46461, 46220, 49788, 49019, 49021, 49364, 49169, 48983, 49199, 49988, 49978, 49385, 49195, 49466, 48974, 49322, 49523, 49754, 49068, 49298, 49412, 49180, 49172, 49755, 49696, 49245, 50013, 49353, 49662, 49416, 49722, 49406, 49566, 49659, 49402, 49287, 49698, 49051, 49179, 49748, 49306, 49456, 49532, 49202, 49177, 49699, 49996, 49052, 49347, 49487, 49810, 49218, 49790, 49666, 49559, 49186, 49356, 49382, 49408, 49535, 49227, 49191, 51416, 51480, 51430, 51301, 50180, 50392, 51412, 51505, 50204, 51300, 51266, 51454, 52613, 51288, 51270, 51461, 51275, 50191, 50239, 50215, 51567, 51440, 51357, 51414, 51156, 51523, 51315, 51554, 51256, 51316, 52845, 52258, 51494, 51206, 51407, 51292, 51348, 51521, 51303, 50362, 51410, 52779, 51375, 52614, 51513, 52729, 51306, 51108, 51525, 50214, 51891, 51363, 51322, 51551, 51307, 51485, 51403, 51246, 51370, 51552, 53238, 796032, 796014, 53334, 53145, 796004, 796034, 796012, 796008, 796022, 796030, 796028, 796047, 53245, 53080, 45047, 796003, 796029, 796046, 796023, 796026, 796053, 796044, 796009, 796025, 796035, 53318, 796045, 796031, 796051, 796013, 796024, 796052, 53309, 796050, 796016, 53206, 796037, 53314, 796027, 796005, 796017, 796042, 796020, 53264, 786386, 786383, 53158, 786387, 786374, 54825, 55605, 53504, 53431, 54768, 53713, 53605, 54794, 54649, 54607, 53631, 55421, 53994, 55680, 54143, 54083, 55703, 54329, 53554, 53843, 54706, 54735, 53776, 53748, 54425, 54320, 53485, 55312, 53882, 53538, 55728, 54105, 53553, 54978, 54207, 54118, 53595, 53445, 54193, 55306, 53603, 55465, 54925, 55156, 54508, 53925, 53670, 54761, 53816, 53861, 55644, 54950, 54037, 44697, 40866, 53838, 53852, 53349, 55639, 54909, 56960, 55871, 56954, 56732, 57025, 55763, 55779, 55841, 55760, 55873, 55993, 55823, 56709, 56614, 56493, 56809, 56587, 57036, 56293, 55990, 56059, 56066, 56049, 56794, 56344, 56112, 56419, 56396, 56674, 56154, 56486, 56933, 56085, 56917, 56366, 56756, 56495, 56435, 56004, 56851, 56092, 56754, 56388, 55916, 56459, 56087, 56335, 57022, 56353, 56296, 55766, 55785, 55773, 56309, 56436, 56622, 55983, 56520, 57047, 56122, 58162, 58269, 57349, 57388, 58204, 57904, 58285, 57212, 57477, 57969, 57835, 58191, 57422, 58168, 58148, 57982, 57431, 57347, 57225, 57222, 57891, 57510, 57432, 57364, 57781, 57298, 58210, 57387, 57518, 57886, 57391, 57537, 57649, 57858, 57208, 58075, 57397, 58311, 57366, 57411, 57990, 57505, 57514, 57573, 57976, 57339, 57653, 57851, 58141, 58067, 58031, 58092, 57536, 57575, 58316, 57745, 57371, 58281, 57666, 57813, 58387, 59621, 58433, 59405, 59480, 59476, 59660, 59520, 59447, 58408, 58725, 59636, 59461, 59456, 58391, 59434, 59562, 60415, 58652, 59533, 59647, 59448, 58478, 59581, 59935, 59489, 58986, 58509, 58497, 59510, 59505, 59231, 59619, 59563, 59452, 59592, 59524, 58598, 60551, 60360, 59541, 59420, 59414, 60465, 60021, 59408, 59444, 59202, 58568, 59393, 59681, 59900, 59376, 58546, 58465, 58932, 59587, 60398, 59500, 59449, 795699, 795662, 795666, 795703, 795647, 795684, 795652, 795632, 60799, 795705, 795692, 60841, 60800, 60808, 795736, 60774, 795707, 60792, 795635, 795648, 60813, 795717, 60765, 795677, 60789, 795633, 795712, 795701, 60873, 795657, 60797, 795661, 795682, 795674, 795723, 60858, 795680, 795720, 795696, 60844, 795685, 795716, 795638, 795706, 795641, 795639, 795698, 795704, 795634, 795646, 795702, 795644, 795694, 795643, 60781, 795711, 60866, 795713, 60809, 795724, 797061, 61082, 797062, 797065, 797066, 797070, 60895, 60963, 797101, 60887, 797086, 797084, 797081, 61081, 60970, 61084, 797083, 797074, 797072, 60915, 60937, 797098, 60950, 797082, 61101, 60961, 61177, 60955, 797102, 797100, 797076, 797099, 797077, 797089, 60891, 60968, 61007, 797103, 797075, 797087, 797063, 797085, 797095, 60906, 797088, 61046, 797092, 797094, 60900, 797079, 60886, 61049, 797104, 797073, 60999, 61042, 60921, 797093, 61060, 797090, 795772, 61361, 795778, 795796, 795775, 795764, 61231, 795740, 61457, 795777, 795773, 795759, 61335, 61429, 795782, 795761, 795776, 795747, 61431, 61281, 61273, 795767, 795797, 61365, 61447, 61420, 795789, 795749, 61247, 61410, 61446, 61348, 61305, 795755, 61384, 795750, 61301, 795771, 795795, 795738, 795792, 795791, 795762, 795770, 795746, 61347, 795756, 795788, 61351, 61406, 795780, 61381, 795769, 795743, 795800, 61349, 795739, 795758, 61370, 795751, 62657, 63408, 63504, 62873, 61939, 63660, 63753, 61463, 62916, 62854, 63455, 63604, 63074, 63167, 63133, 63599, 62199, 62913, 62024, 63560, 61560, 62784, 61545, 62759, 62433, 63082, 62974, 63339, 63148, 62744, 61656, 61507, 61723, 62570, 63645, 62585, 61490, 61543, 63684, 62944, 63487, 63021, 61817, 62351, 62626, 61617, 61714, 62524, 61492, 62831, 63394, 63264, 61521, 61654, 62698, 63505, 63330, 64435, 62882, 61494, 64476, 65036, 65042, 64940, 64708, 64482, 64723, 64920, 64887, 64706, 65051, 65017, 64994, 64698, 64673, 64938, 64689, 65114, 64463, 65107, 64515, 64576, 64734, 64664, 64488, 65088, 65099, 64633, 64966, 65046, 64997, 65097, 64996, 64781, 64739, 65018, 64993, 64896, 65093, 64692, 64713, 64505, 64859, 64599, 65129, 65025, 65147, 64924, 64675, 64707, 64906, 64735, 64645, 64537, 64885, 64522, 64694, 64558, 64605, 64651, 65767, 65788, 65947, 65825, 65796, 65864, 66168, 65898, 65783, 65719, 65637, 65824, 65851, 65660, 65702, 66118, 65863, 65548, 65740, 65805, 66228, 65757, 65600, 65662, 66174, 65807, 65586, 65925, 65552, 65902, 65799, 65889, 65701, 65736, 66077, 65847, 66075, 65895, 65884, 65775, 65881, 65857, 65786, 65813, 65908, 65811, 65869, 65841, 65745, 66251, 65564, 65848, 65716, 65629, 65680, 65885, 65886, 68813, 68321, 66649, 66280, 66932, 66332, 66258, 66576, 68738, 67676, 66261, 68661, 68961, 68061, 68439, 66785, 66321, 66689, 66464, 68689, 68213, 66981, 67498, 68650, 68784, 66305, 66858, 68198, 67688, 68416, 67426, 67810, 66866, 67223, 66449, 66455, 66437, 68102, 66722, 68498, 69051, 67304, 67335, 68735, 68514, 67868, 67402, 67700, 67820, 66479, 68139, 66326, 66488, 68470, 67964, 68840, 67664, 67867, 66423, 66476, 69958, 69595, 69852, 69659, 69662, 69521, 69361, 69583, 69877, 69647, 69715, 69619, 69643, 69742, 69998, 69582, 69735, 69333, 69242, 69939, 69455, 69253, 69728, 69954, 69613, 69815, 69605, 69719, 69933, 69609, 69739, 69509, 69283, 69942, 69589, 69889, 69320, 69792, 69397, 69401, 69949, 69978, 69371, 69656, 69312, 69737, 69759, 69592, 69856, 69482, 69684, 69436, 69642, 69654, 69311, 69731, 69700, 69485, 69714, 69687, 70224, 70305, 70293, 70103, 70268, 70282, 795023, 70057, 70135, 70227, 70288, 70161, 70241, 795013, 70228, 70155, 795035, 70152, 70089, 70303, 795015, 70110, 70308, 70111, 70069, 795027, 70184, 70050, 70118, 70313, 70119, 70083, 795032, 70322, 70256, 795022, 70056, 70139, 795024, 70166, 70264, 70290, 70156, 795030, 795021, 795026, 70287, 70292, 70082, 70051, 70100, 70188, 70070, 70191, 70077, 70276, 795014, 70162, 70171, 70389, 70625, 70668, 70536, 70923, 70325, 70753, 70910, 70638, 70495, 70342, 70744, 70922, 70538, 70501, 70397, 70358, 70506, 70573, 70329, 70644, 70432, 70595, 70492, 70494, 70705, 70532, 70899, 70424, 70517, 70516, 70582, 70848, 70363, 70835, 70560, 70356, 70584, 70924, 70326, 70873, 70620, 70366, 70524, 70725, 70711, 70399, 70503, 70569, 70724, 70360, 70698, 70347, 70449, 70596, 70550, 70883, 70554, 70375, 70634, 71138, 71055, 70970, 71076, 71352, 71297, 71163, 70933, 71191, 71183, 71293, 71042, 71198, 70957, 71189, 71155, 71009, 71223, 71059, 71048, 70981, 71229, 71050, 71075, 71133, 71156, 71113, 71037, 71028, 71212, 71064, 71178, 71164, 71319, 70972, 71096, 70998, 71119, 66074, 70985, 71345, 71132, 71200, 71093, 71053, 71387, 71255, 71214, 71129, 71267, 70953, 71122, 71325, 71248, 71106, 71185, 71112, 71080, 71102, 70942, 71698, 72135, 72438, 72143, 72114, 72119, 72299, 72280, 72316, 71657, 72659, 72498, 72247, 71560, 72469, 71875, 71434, 72221, 72440, 72603, 71829, 71792, 71883, 72275, 72739, 71143, 72156, 72401, 71429, 72761, 72296, 72492, 72193, 72379, 71999, 71871, 71641, 72278, 72576, 72508, 71830, 72581, 71985, 72199, 72430, 71557, 72465, 72008, 71895, 72349, 71404, 71987, 72082, 71900, 71947, 72115, 72378, 71789, 72775, 72706, 73048, 72994, 72966, 73086, 72943, 72786, 72982, 72974, 72798, 72835, 73029, 73145, 72957, 72888, 72848, 72910, 73178, 72795, 72867, 72948, 73018, 73165, 73133, 73012, 73041, 71052, 72852, 72853, 72913, 72877, 72976, 73002, 72997, 72871, 72875, 72863, 72812, 73132, 72958, 72954, 73118, 73130, 73135, 73095, 72872, 72826, 72961, 72923, 72955, 73053, 72794, 72947, 72839, 72998, 73110, 72919, 72941, 72894, 72983, 73169, 73491, 73195, 73741, 73267, 73367, 73192, 73355, 71137, 73306, 73459, 73230, 73736, 73201, 73233, 73335, 73248, 73290, 73403, 73220, 73266, 73600, 73251, 73292, 73420, 73682, 73446, 73476, 73587, 73353, 73425, 73365, 73372, 73300, 73236, 73498, 73408, 73373, 73247, 73363, 73264, 73386, 73371, 73311, 73552, 73227, 73261, 73316, 73398, 73265, 73683, 73369, 73252, 73295, 73283, 73511, 73401, 73439, 73258, 73199, 73211, 795394, 73788, 795389, 73811, 795436, 795402, 795459, 73789, 795413, 795432, 73792, 795460, 795451, 795398, 795439, 73808, 795418, 795441, 795454, 795450, 795403, 73818, 795442, 795399, 795395, 73814, 73794, 795429, 795455, 795457, 795416, 795388, 795426, 795445, 73770, 795440, 795397, 795404, 795396, 795417, 795424, 795414, 795420, 795434, 795453, 795422, 795456, 795419, 795401, 795430, 795435, 73800, 795438, 73835, 73861, 73836, 74646, 75291, 74511, 74374, 74963, 74855, 73996, 73914, 75003, 74910, 74408, 74344, 73940, 74555, 74696, 74214, 74450, 73950, 73894, 74574, 74896, 74144, 74864, 74279, 74796, 75266, 74093, 74067, 74126, 73931, 73958, 73833, 74444, 73989, 74590, 74386, 74087, 74407, 74640, 74075, 74496, 74142, 74193, 73826, 73971, 74613, 74271, 73840, 73910, 74354, 74414, 74001, 73882, 74689, 74083, 74492, 74396, 75521, 75775, 75442, 75815, 75829, 75386, 75428, 75642, 75818, 75726, 75736, 75530, 75468, 75443, 75835, 75564, 75422, 75596, 75859, 75405, 75476, 75555, 75436, 75593, 75542, 75495, 75531, 75441, 75571, 75438, 75395, 75539, 75800, 75526, 75517, 75414, 75782, 75385, 75747, 75467, 75589, 75439, 75393, 75524, 75780, 75388, 75514, 75451, 77673, 75543, 75854, 75706, 75587, 75865, 75532, 75588, 75547, 75423, 75836, 75446, 76958, 76026, 77171, 77619, 76166, 76315, 76511, 76239, 77166, 75932, 76465, 76725, 76010, 77143, 76565, 77095, 76902, 77038, 76317, 77129, 76165, 76995, 76519, 76946, 75985, 77102, 76378, 76654, 77623, 76926, 77588, 76940, 75911, 76238, 76266, 75954, 77052, 76567, 77499, 77068, 77419, 76080, 77490, 77105, 77568, 76498, 76616, 76722, 77046, 76924, 76840, 76925, 77434, 76653, 77396, 76836, 76296, 76593, 76735, 76977, 78676, 78864, 77712, 78421, 78610, 78940, 77880, 77876, 78841, 78410, 78432, 78438, 78487, 78832, 78633, 78312, 78869, 77759, 77785, 77823, 78180, 77758, 78354, 77864, 77781, 77774, 78247, 78368, 77946, 78027, 78529, 78587, 77811, 77814, 78856, 77798, 78197, 77745, 78636, 78576, 78568, 77901, 78239, 78382, 78176, 78037, 78899, 78500, 78105, 78608, 78155, 77990, 78674, 78760, 77882, 77862, 78820, 77834, 78402, 77850, 796781, 796778, 79157, 79012, 796785, 796750, 796748, 796754, 796739, 79132, 79079, 78979, 79046, 796732, 79153, 796784, 796779, 78996, 796782, 79061, 79032, 796762, 796771, 796731, 78984, 796783, 796764, 78962, 796749, 79136, 796728, 79112, 796742, 796770, 79016, 796723, 78998, 79064, 79040, 796755, 79057, 79054, 796760, 78973, 796726, 796757, 78977, 796756, 78959, 796768, 796773, 78954, 79146, 796780, 78972, 796740, 796774, 78989, 79075, 796786, 79199, 79447, 79303, 79232, 79216, 79458, 79576, 79567, 79425, 79301, 79205, 79476, 79224, 79168, 79274, 79477, 79483, 79284, 79411, 79372, 79280, 79353, 79292, 79200, 79207, 79574, 79202, 79295, 79321, 79358, 79330, 79486, 79323, 79432, 79474, 79178, 79542, 79397, 79348, 79453, 79548, 79238, 79563, 79275, 79167, 79203, 79204, 79570, 79379, 79497, 79169, 79312, 79180, 79393, 79519, 79488, 79396, 79214, 79562, 79285, 79812, 80833, 81991, 79819, 81226, 81130, 79955, 81216, 82010, 80652, 79605, 81183, 81296, 80343, 80552, 80121, 79623, 79935, 81214, 80980, 79876, 79635, 81299, 79680, 81728, 81086, 80819, 80441, 80336, 80184, 79599, 81703, 81986, 79643, 82126, 79972, 81068, 79723, 79760, 80357, 80789, 79934, 81470, 80426, 80570, 79862, 80670, 81417, 81868, 79600, 80601, 80232, 81177, 79878, 79951, 81117, 79659, 81381, 81908, 79682, 82827, 84011, 84594, 83419, 84333, 83670, 82624, 84490, 84237, 83639, 83850, 83869, 82562, 84183, 83519, 82808, 83911, 84697, 82636, 83733, 795338, 83636, 795333, 82578, 84077, 82183, 83603, 84039, 82807, 82246, 82820, 83648, 84094, 82619, 84436, 795337, 83352, 82640, 83270, 82741, 82509, 84573, 795339, 82196, 82895, 82238, 795335, 82368, 82613, 82676, 795336, 83540, 82686, 795340, 82242, 83647, 84510, 82280, 82225, 82579, 85296, 85190, 85698, 84791, 85386, 84777, 85166, 85099, 85718, 84945, 85266, 85358, 84853, 85630, 84950, 85384, 84862, 85464, 84869, 85390, 85302, 84767, 85125, 85742, 85343, 85715, 85083, 85416, 85477, 85480, 85149, 84898, 85004, 85116, 84809, 84996, 85105, 85717, 85656, 85089, 85531, 85097, 84856, 85662, 85217, 85350, 85587, 84807, 84912, 85435, 85128, 85134, 85304, 85701, 85534, 85490, 85172, 85633, 84942, 85322, 86287, 86029, 86969, 85783, 86023, 85937, 86143, 86200, 85803, 85905, 85823, 86596, 86166, 86127, 86488, 86196, 85819, 86207, 86557, 85815, 86551, 86075, 85903, 86031, 86573, 86324, 85829, 86159, 86033, 85983, 86289, 85801, 86462, 85828, 86435, 86553, 86856, 86016, 86156, 86425, 86140, 85940, 86708, 86470, 85969, 85955, 86308, 86038, 86621, 86057, 86554, 86760, 86182, 85890, 86947, 86761, 86416, 86876, 86910, 86805, 89935, 88038, 87690, 89885, 87782, 88186, 87066, 87089, 89720, 87561, 88347, 87337, 87083, 88027, 87367, 87216, 88178, 89686, 89750, 89722, 89553, 89825, 88355, 87296, 89616, 89554, 87303, 87380, 87839, 89611, 87187, 87214, 89705, 87838, 89712, 89684, 88375, 89726, 87054, 88487, 87435, 89908, 87207, 88818, 86979, 89680, 87576, 87398, 87449, 87447, 89873, 88022, 88403, 88450, 89651, 87560, 87796, 89596, 87542, 87602, 91034, 91057, 90685, 91133, 90118, 90413, 90445, 90594, 90157, 90485, 90686, 90331, 91156, 90575, 90218, 90499, 90082, 90415, 90637, 89957, 89955, 90629, 90898, 90849, 90850, 89966, 90879, 90089, 90976, 90416, 90397, 90981, 90221, 90298, 91081, 90788, 90895, 90886, 89978, 90045, 90607, 90037, 90356, 90821, 90337, 90311, 90264, 90875, 90899, 89985, 89988, 90442, 90464, 90049, 90350, 90382, 90319, 90200, 90441, 90422, 91275, 91682, 91724, 91902, 91592, 91945, 91565, 91801, 91601, 91338, 91644, 91705, 91755, 91444, 91265, 91612, 91201, 91532, 91825, 92003, 91818, 91267, 91258, 91678, 91360, 91205, 91646, 91393, 91787, 91414, 91515, 91819, 92046, 91536, 91941, 91397, 91383, 91979, 91847, 91527, 91651, 91417, 91654, 91658, 91411, 92086, 91774, 92128, 92020, 91345, 91401, 91233, 91186, 91830, 91472, 91530, 88407, 91412, 91645, 795826, 795829, 92247, 92362, 92439, 795814, 795852, 795836, 795837, 795827, 795862, 92398, 795832, 795840, 795815, 92356, 795835, 92302, 92207, 92270, 795846, 795830, 90270, 795810, 795813, 795851, 795850, 795818, 795839, 795844, 795828, 92262, 92237, 92371, 795807, 92440, 795805, 92310, 795825, 795816, 795856, 795849, 795812, 92321, 795819, 795858, 795804, 92271, 795808, 795848, 795822, 92369, 795817, 795831, 795833, 92248, 92374, 795821, 795860, 92206, 92910, 92868, 93395, 92957, 92451, 92778, 93037, 92699, 93049, 92702, 92534, 92583, 92850, 93086, 93199, 93232, 93006, 92785, 93374, 92828, 92973, 92821, 93203, 92876, 92672, 92462, 92594, 93078, 92470, 93208, 93140, 92590, 92610, 93115, 92561, 92901, 93234, 93375, 93416, 92705, 92577, 92796, 93131, 93032, 93148, 93104, 93172, 92763, 92675, 93018, 93002, 92993, 93103, 92602, 93366, 92452, 92559, 93168, 92859, 92639, 94773, 94427, 94078, 94256, 94370, 94683, 94079, 93589, 94383, 94432, 95158, 95422, 95218, 93874, 93843, 95216, 94051, 93720, 94506, 94598, 94578, 95229, 94504, 94840, 94529, 94430, 93678, 94549, 94974, 94823, 93692, 95357, 93464, 93439, 94085, 95053, 93757, 94358, 94076, 94290, 93767, 94434, 93727, 94787, 93622, 93872, 93731, 93475, 94067, 94022, 94368, 93684, 93461, 93700, 94059, 94074, 94464, 93995, 93438, 94533, 96691, 95916, 97340, 96876, 97261, 96901, 96417, 96952, 96659, 95897, 96554, 97604, 95832, 95950, 97064, 96920, 97466, 96312, 96863, 95570, 97363, 96026, 97250, 96028, 96888, 97190, 95764, 97913, 97833, 96865, 96236, 97528, 97071, 96675, 95495, 95573, 95635, 96061, 96975, 96260, 96422, 96427, 97025, 97380, 95721, 96148, 95840, 95877, 95538, 97247, 98045, 795050, 98257, 97985, 795043, 98115, 98204, 98205, 98031, 98268, 98094, 98184, 98082, 795041, 98153, 795046, 795054, 98101, 795058, 98229, 98191, 795057, 795042, 98272, 795038, 98121, 795062, 98127, 795063, 795051, 795048, 98126, 795053, 97972, 98113, 98274, 98263, 98241, 98206, 98006, 98186, 97982, 98026, 795040, 98262, 795045, 795060, 98123, 98295, 98001, 98024, 98299, 98225, 98035, 795044, 98282, 98002, 98133, 795047, 98270, 98596, 98618, 98958, 99117, 98611, 98610, 98881, 98889, 98636, 98727, 98710, 98308, 98620, 99535, 98343, 98962, 98323, 98949, 98441, 98420, 98874, 98549, 98524, 99553, 98798, 98375, 98309, 98930, 98914, 99354, 98350, 98941, 98724, 98434, 98518, 99508, 99503, 98829, 98512, 98419, 98593, 98782, 98853, 98841, 98553, 98906, 98406, 98630, 98976, 99335, 98939, 98864, 98528, 98865, 98924, 98678, 99129, 98339, 99099, 98305, 100225, 100023, 99857, 99808, 100390, 99843, 99630, 99932, 99902, 99810, 100378, 100227, 99813, 100189, 99667, 99607, 99946, 100181, 99658, 99954, 99841, 100060, 100027, 99687, 100240, 100140, 100218, 99628, 100000, 99961, 100237, 100061, 99631, 99642, 100154, 99898, 100055, 99785, 99867, 100246, 99996, 100213, 100260, 99651, 100276, 99959, 99986, 99971, 100053, 99979, 100147, 99710, 99940, 99939, 100380, 100015, 99622, 100040, 99929, 99848, 796411, 796427, 796409, 100479, 796425, 22800, 796431, 796420, 796423, 100464, 796416, 796414, 796439, 796435, 796424, 796429, 796403, 796433, 100396, 796426, 796438, 796410, 100444, 796434, 100456, 796441, 796421, 796432, 100412, 100397, 796437, 82166, 796413, 796430, 100399, 796405, 100443, 796408, 100482, 796428, 796419, 796442, 796407, 796422, 796440, 796412, 796417, 83621, 796415, 100973, 101045, 100733, 100989, 100699, 100771, 100621, 100763, 100889, 100993, 101063, 100780, 100766, 100620, 100942, 100937, 100906, 100765, 100888, 100725, 100804, 100731, 100895, 100690, 100974, 100635, 100890, 100891, 100760, 100803, 100785, 100967, 100916, 100645, 101048, 100977, 100915, 100882, 101030, 100925, 100726, 100845, 100693, 100625, 100877, 100737, 100872, 101018, 100651, 100938, 100830, 100886, 100664, 100671, 100777, 100847, 101054, 100876, 100649, 100637, 101213, 102582, 101347, 102020, 102112, 101390, 101364, 102044, 101713, 101767, 102437, 101394, 102584, 102452, 102039, 101759, 101466, 102025, 101096, 101901, 101909, 101291, 101750, 101324, 101893, 102013, 102519, 101448, 102465, 101461, 101216, 101825, 101896, 102443, 101576, 102530, 101349, 101148, 101100, 102306, 102041, 101221, 101891, 101524, 102550, 102058, 101831, 102534, 101412, 101775, 101350, 101833, 101595, 101744, 101708, 101459, 102017, 102094, 101543, 797384, 797370, 797376, 102714, 102653, 797347, 102676, 797389, 102518, 797350, 797367, 102700, 102687, 102593, 797385, 102746, 797377, 102730, 797341, 797371, 797364, 797346, 797357, 797355, 797392, 797349, 102701, 102686, 102598, 797359, 102734, 797369, 102699, 797386, 797394, 797356, 797363, 797348, 797381, 797343, 102660, 797345, 102713, 797374, 797383, 797360, 797352, 797373, 797358, 102729, 102668, 797365, 797382, 797361, 797378, 797354, 102630, 102610, 102645, 797391, 103723, 103974, 103385, 103677, 104027, 103701, 103042, 103729, 103168, 102890, 103783, 102866, 103017, 103231, 102818, 103278, 103717, 103433, 102823, 102860, 104021, 103176, 103543, 103750, 103241, 103082, 103402, 103081, 102774, 103259, 103266, 104042, 103268, 103749, 102973, 103155, 102876, 103371, 103892, 103187, 102940, 103071, 103425, 102853, 103238, 102946, 102888, 103686, 103795, 103924, 102945, 103631, 103033, 104057, 103089, 103102, 103091, 102983, 102848, 102869, 104187, 104523, 104372, 104197, 104779, 104352, 104792, 104164, 104157, 104243, 104291, 104751, 104525, 104195, 104173, 104266, 104507, 104273, 104166, 104259, 104817, 104506, 104142, 104258, 104553, 104743, 104250, 104806, 104537, 104149, 104334, 104185, 104468, 104249, 104574, 104755, 104301, 104358, 104369, 104134, 104230, 104239, 104216, 104534, 104350, 104163, 104548, 104136, 104240, 104227, 104131, 104176, 104141, 104300, 104267, 104196, 104716, 104144, 104693, 104277, 105195, 106101, 104866, 104921, 104864, 26407, 106132, 104885, 105501, 105892, 105593, 104828, 104898, 106221, 104849, 104930, 106521, 105686, 105904, 106367, 105002, 104998, 106215, 105447, 105120, 105246, 106086, 106225, 104856, 105400, 73908, 105040, 106097, 106153, 105919, 105005, 105663, 106055, 106461, 105076, 105106, 105392, 105137, 105437, 105023, 105710, 105947, 104960, 105575, 105286, 104838, 105157, 105138, 105777, 105849, 105594, 106316, 105742, 105238, 106389, 106552, 797041, 797055, 797053, 797038, 797023, 106852, 106661, 797044, 797031, 106720, 797028, 106776, 797049, 797052, 797057, 106670, 106622, 797009, 106678, 106668, 797021, 106617, 797015, 797056, 106818, 106851, 797047, 106754, 797025, 797012, 106792, 106768, 106858, 106752, 106681, 106634, 797008, 106580, 106628, 797042, 106778, 797027, 106759, 797060, 106547, 106861, 106689, 797022, 797050, 797018, 106850, 106650, 797051, 797037, 106533, 797036, 797054, 797048, 106576, 794578, 794551, 794558, 794568, 794565, 794579, 794563, 106929, 106882, 794575, 794577, 794552, 794587, 794549, 794573, 794556, 794586, 794584, 794567, 106863, 794576, 794570, 794559, 794564, 794574, 794590, 794557, 794583, 794569, 794580, 794553, 794566, 794589, 106904, 794572, 794562, 794592, 794591, 794581, 794582, 794560, 794555, 794554, 794571, 794588, 787318, 787323, 787324, 787316, 787319, 107233, 106962, 107035, 107150, 106999, 107000, 107333, 107375, 107115, 107005, 107079, 107355, 107192, 106971, 107021, 107104, 107198, 107278, 107042, 107327, 107185, 107259, 107172, 107236, 107270, 107339, 106958, 107033, 107217, 107282, 107026, 107213, 107010, 107036, 107060, 107177, 106967, 107087, 106974, 106960, 107116, 107196, 107255, 107113, 106995, 107298, 107050, 107111, 107066, 106970, 107220, 107295, 107346, 107085, 107268, 107238, 106935, 107138, 106944, 107243, 796718, 107459, 107496, 107443, 107463, 796700, 796703, 107481, 796716, 796708, 107411, 107435, 107437, 107452, 796697, 107440, 107489, 107439, 107432, 796713, 107467, 796699, 796712, 796702, 796693, 107509, 107451, 107442, 107431, 796711, 796721, 107479, 796698, 796696, 107428, 796705, 107460, 796710, 107478, 796694, 796720, 107458, 796701, 107391, 107438, 107456, 796714, 107502, 107419, 107510, 107480, 107422, 796709, 796717, 107446, 796715, 107518, 107408, 107393, 108638, 108430, 108931, 107849, 107810, 109760, 108081, 108576, 108462, 109051, 107552, 108295, 109588, 107825, 108684, 109445, 108653, 109010, 109741, 108882, 109069, 110138, 107695, 109851, 109234, 107864, 108370, 107791, 109509, 109985, 108441, 109874, 109774, 109113, 110187, 108139, 108204, 109187, 107508, 108281, 108735, 108881, 108401, 108348, 108919, 110449, 108685, 109506, 109022, 107562, 107535, 14718, 108308, 109853, 107678, 108644, 109529, 108162, 108974, 108515, 110632, 110606, 110672, 110911, 110536, 797256, 797262, 797248, 797246, 110609, 110518, 797258, 110774, 797241, 110720, 110769, 797255, 797252, 110924, 110799, 110717, 110726, 797243, 110685, 110942, 110728, 110653, 110736, 110948, 110647, 110848, 110830, 110908, 110664, 110819, 110706, 110656, 110851, 110718, 797251, 110912, 797253, 110682, 110734, 797260, 110946, 110669, 110768, 110677, 797250, 110635, 110516, 110735, 110561, 110545, 110699, 110547, 797247, 110825, 112905, 111989, 111967, 111034, 111029, 111204, 112678, 112099, 112947, 111085, 112645, 111669, 113217, 111387, 112590, 112847, 112706, 112845, 110976, 111087, 112252, 111388, 111393, 111164, 112795, 111460, 112913, 113247, 112745, 111997, 113288, 111099, 112478, 111470, 111300, 111385, 111413, 110990, 112773, 111519, 111073, 113105, 111564, 112963, 112968, 111471, 113001, 113182, 111130, 110959, 111935, 110971, 110985, 112368, 112644, 111219, 112438, 111400, 113216, 112703, 113839, 113459, 113860, 113420, 113599, 110297, 113461, 113838, 113683, 113353, 113434, 113364, 113479, 113356, 113815, 113607, 113801, 113387, 114107, 113929, 113759, 114177, 113667, 114109, 113448, 113827, 113747, 113504, 113575, 113811, 113613, 113486, 113580, 113842, 113872, 113503, 113762, 113595, 113524, 113822, 113350, 113659, 114154, 113375, 113995, 113899, 114159, 113416, 113953, 113455, 113847, 113868, 113869, 113426, 114087, 113587, 113748, 113846, 113582, 114796, 114728, 115324, 114344, 114650, 114213, 114468, 114744, 115248, 114555, 115281, 114866, 115581, 114816, 115034, 115218, 114747, 115022, 114878, 114780, 114541, 114809, 114355, 114789, 115056, 114350, 114945, 114528, 114967, 114920, 114944, 114582, 115630, 114496, 115484, 115550, 114774, 114757, 114634, 115399, 115038, 114908, 114720, 114859, 115172, 114527, 114389, 114481, 114855, 115311, 114884, 115512, 114886, 114776, 114488, 114662, 114557, 115251, 115278, 114586, 115938, 115676, 115864, 115984, 115937, 115849, 116129, 116352, 115695, 115908, 116056, 115958, 116289, 116107, 115915, 115761, 116049, 115704, 115980, 115696, 116288, 115638, 115880, 115681, 115918, 116301, 115923, 115991, 115862, 15159, 116106, 115979, 115799, 116332, 115645, 115663, 115996, 116260, 116127, 116052, 116326, 116300, 116027, 116069, 116094, 116101, 116028, 116286, 115894, 115750, 115644, 116160, 115914, 116066, 115983, 116081, 116021, 116110, 116031, 116029, 116398, 116356, 116581, 116694, 116364, 116484, 116376, 116597, 116494, 116661, 116636, 116402, 116379, 116399, 116363, 116480, 116648, 116620, 116687, 116656, 116516, 116380, 116439, 116529, 116610, 116409, 116611, 116499, 116603, 116425, 116405, 116369, 116544, 116595, 116512, 116532, 116374, 116608, 116576, 116383, 116435, 116362, 116707, 116400, 116476, 116662, 116577, 116539, 116404, 116509, 116574, 116660, 116588, 116519, 116534, 116373, 116490, 116445, 116531, 116664, 116930, 796607, 796611, 796600, 796568, 796578, 796593, 796591, 116834, 116931, 116835, 796582, 796542, 796543, 796570, 116890, 796594, 796605, 796602, 796579, 796589, 116882, 796572, 796595, 116756, 116740, 796599, 116850, 796557, 796585, 796616, 796569, 796619, 116751, 796573, 796615, 116832, 796571, 116803, 116905, 116805, 116810, 11360, 116755, 116844, 796587, 116971, 796545, 116942, 116758, 796601, 796567, 796565, 796541, 796580, 796614, 796592, 796577, 116845, 116801, 795175, 795137, 795146, 795148, 795166, 117038, 795211, 795176, 795152, 795223, 117035, 117105, 117039, 795156, 795190, 795188, 795186, 795150, 795214, 117054, 117088, 795218, 795213, 117116, 795162, 795227, 795192, 795220, 795143, 795187, 117036, 795178, 795181, 795160, 795194, 795149, 795235, 795206, 117146, 795180, 795135, 795185, 795230, 117127, 795234, 117052, 795215, 795163, 795189, 795167, 795170, 795198, 117040, 795154, 795221, 795183, 795231, 795182, 795195, 117535, 117263, 117202, 117883, 117432, 117542, 117759, 117754, 117747, 117303, 117383, 117280, 117837, 117461, 117721, 117636, 117507, 117687, 117547, 117405, 117442, 117265, 117744, 117521, 117506, 117334, 117503, 117271, 117529, 117509, 117602, 117875, 117812, 117342, 117951, 117584, 117483, 117919, 117272, 117492, 117444, 117634, 117527, 117857, 117294, 117762, 117482, 117835, 117773, 117940, 117264, 117631, 117603, 117216, 117372, 117270, 117851, 117898, 117277, 796931, 796908, 796917, 796941, 118078, 796909, 796944, 796940, 796942, 796906, 796922, 118077, 796910, 118011, 118066, 796905, 796899, 118010, 796945, 118028, 796923, 118064, 118036, 118024, 796950, 796924, 118075, 117986, 796920, 118074, 796926, 796911, 796932, 118004, 118032, 117991, 118033, 796902, 796903, 118069, 796936, 796937, 117974, 796949, 118023, 796907, 796919, 117965, 796933, 118088, 796912, 796930, 796925, 796946, 118012, 796901, 117964, 796913, 796934, 118956, 119735, 118929, 120205, 119459, 120072, 118910, 119171, 118200, 118886, 118989, 120326, 119124, 119982, 119621, 120109, 118871, 120099, 119362, 119398, 119365, 120321, 119596, 118574, 118583, 120057, 120016, 118323, 119810, 119783, 120185, 119316, 119949, 118491, 119972, 116305, 120267, 118817, 118120, 120063, 120630, 118267, 119040, 119670, 120376, 118294, 119671, 119674, 119750, 118882, 118108, 119917, 118603, 118820, 119946, 119962, 119620, 119581, 119757, 119444, 120720, 796536, 796539, 796514, 796516, 120690, 796538, 120820, 120732, 796535, 796500, 796513, 120716, 120826, 120743, 120699, 120721, 796525, 120751, 796518, 120798, 796512, 120766, 120828, 120780, 796526, 120767, 796506, 796521, 796533, 120785, 796531, 120819, 796530, 796529, 796528, 796510, 119287, 120696, 120768, 796520, 120758, 120735, 796508, 796522, 796498, 796507, 120710, 120744, 120794, 796503, 120707, 120813, 796504, 120791, 796532, 796515, 120700, 796540, 796519, 122169, 122425, 121133, 121025, 121331, 121056, 122081, 121490, 120989, 121255, 120986, 121679, 121078, 121666, 121617, 121314, 121931, 121951, 121903, 121514, 121554, 121158, 121090, 121832, 120885, 122371, 120891, 122424, 122065, 122446, 121196, 121033, 121999, 121062, 121615, 120894, 121057, 121651, 121969, 121313, 121438, 121193, 120920, 122090, 121154, 120990, 121327, 120872, 121027, 121683, 121233, 121211, 121905, 121203, 121249, 122435, 120901, 121583, 121153, 121261, 122949, 122911, 123294, 122964, 125105, 123574, 123496, 124956, 123805, 124233, 122829, 122850, 123489, 123799, 123211, 122772, 124140, 123497, 124512, 124034, 122946, 125344, 123869, 122933, 123665, 123591, 123743, 123000, 123569, 125230, 123991, 123871, 124408, 123669, 123417, 124120, 124348, 123751, 125305, 110145, 124974, 124090, 123462, 122945, 124104, 123227, 123822, 124754, 123802, 125014, 123613, 124114, 124296, 123927, 125324, 123078, 125322, 123979, 124960, 124932, 125454, 125427, 125787, 125440, 125630, 125713, 125608, 109937, 125653, 125615, 125534, 125651, 125558, 125794, 125719, 125465, 118217, 125498, 125663, 125631, 125564, 125568, 125648, 125441, 125458, 125703, 125470, 125643, 125575, 125788, 125806, 125587, 125444, 125641, 125611, 125657, 125649, 125661, 125669, 125446, 125619, 125429, 125601, 125555, 125605, 125737, 125597, 125579, 125606, 125541, 125503, 125718, 125532, 125776, 125712, 125705, 125690, 125598, 125602, 125459, 127115, 127774, 127658, 127651, 127853, 125829, 127652, 127092, 127503, 126457, 127728, 126199, 126969, 127313, 128395, 127096, 127386, 127575, 128311, 126068, 127927, 126315, 126467, 127576, 126156, 127922, 127080, 127604, 127603, 128777, 127194, 128008, 127778, 125864, 125934, 126531, 128627, 127118, 127019, 127213, 126267, 127058, 127708, 126818, 128662, 128529, 127404, 128095, 127027, 126027, 127512, 127919, 126932, 128577, 128082, 126923, 127860, 125967, 127766, 128237, 129057, 128944, 128918, 129148, 129138, 129158, 128982, 129007, 128804, 129179, 128843, 128847, 129118, 129076, 128808, 128866, 129016, 129054, 128853, 128859, 128899, 128818, 129014, 129051, 128923, 128906, 128964, 128802, 128902, 128803, 128951, 128915, 129203, 129110, 128990, 129088, 129041, 129048, 129180, 128967, 129089, 128911, 128814, 128815, 129046, 129184, 129066, 128838, 129101, 128936, 129084, 128827, 129201, 129009, 128801, 128832, 128956, 128833, 129190, 128819, 129310, 129262, 129295, 129345, 129352, 129225, 129244, 129266, 129464, 129337, 129356, 129407, 129328, 129414, 129384, 129341, 129288, 129282, 129309, 129443, 129435, 129455, 129301, 129469, 129385, 129358, 129434, 129348, 129397, 129274, 129219, 129440, 129357, 129222, 129254, 129299, 129380, 129446, 129218, 129322, 129386, 129465, 129294, 129431, 129377, 129378, 129399, 129362, 129220, 129216, 129346, 129481, 129437, 129470, 129349, 129368, 129388, 129303, 129365, 129412, 129516, 129654, 129623, 129549, 129652, 129514, 129590, 129592, 129518, 129563, 129668, 129853, 129791, 129755, 129891, 129788, 129747, 129923, 129878, 129779, 129521, 129870, 129503, 129754, 129751, 129560, 129507, 129491, 129509, 129496, 129528, 129567, 129903, 129830, 129599, 129674, 129625, 129685, 129687, 129483, 129742, 129520, 129546, 129611, 129780, 129575, 129501, 129743, 129499, 129756, 129896, 129484, 129548, 129774, 129816, 129559, 129959, 129806, 129802, 130551, 130086, 130591, 131315, 131030, 131812, 130403, 132757, 130678, 132951, 130709, 130555, 132317, 130367, 130631, 130325, 132386, 129978, 132832, 130191, 130099, 131832, 132780, 131860, 132043, 130779, 132542, 130244, 130016, 132793, 130181, 130095, 131539, 130585, 131146, 131933, 132916, 130110, 132755, 132572, 132688, 131555, 130214, 130368, 130127, 130474, 131389, 132094, 130014, 130757, 130707, 130385, 131829, 132949, 130800, 132939, 132477, 131934, 130121, 132154, 133496, 133696, 133489, 133033, 133527, 133169, 133176, 133806, 132974, 133786, 134314, 133203, 132365, 133164, 133836, 133097, 133168, 133701, 133645, 134111, 133646, 133927, 133591, 133165, 133955, 132965, 134054, 133055, 133287, 133624, 133921, 133060, 133280, 133259, 134383, 133852, 133858, 133206, 134236, 133521, 133742, 133116, 134516, 134119, 133771, 133974, 134338, 133294, 134188, 133545, 133144, 132971, 133052, 133114, 133130, 133948, 133665, 133069, 133882, 133902, 136792, 135411, 135352, 135923, 134790, 135549, 135062, 137073, 136587, 135345, 134882, 134942, 136216, 136589, 134647, 135038, 135172, 136439, 136401, 136878, 135984, 135770, 134740, 135104, 135079, 134987, 134961, 134712, 137426, 136322, 135788, 136244, 135148, 136749, 134997, 135219, 136081, 137232, 135006, 136800, 137354, 135325, 136870, 136236, 135829, 134916, 137493, 135061, 137272, 134648, 136223, 135068, 135272, 136921, 135253, 136849, 136265, 135832, 134925, 135912, 137724, 137607, 138076, 138410, 138298, 138008, 138484, 138294, 138199, 138049, 137712, 138712, 137603, 138198, 138010, 137885, 138287, 138236, 137874, 138940, 138210, 138186, 137710, 138384, 138227, 138683, 137758, 138108, 137602, 137702, 137626, 138669, 137978, 138500, 138272, 137937, 138281, 137703, 138688, 138250, 137618, 138022, 137717, 137783, 138006, 138577, 137698, 138274, 138695, 138262, 138242, 138291, 138344, 138255, 138711, 137745, 138661, 138740, 138001, 137699, 139289, 139916, 140137, 139948, 140828, 140173, 139290, 139859, 139320, 139210, 140425, 140268, 139781, 139561, 140330, 139371, 139902, 139884, 140611, 139802, 140164, 139358, 139804, 139211, 139427, 140582, 140633, 139743, 140725, 139198, 140621, 139875, 139941, 137714, 140289, 139379, 139592, 139858, 140110, 139473, 139602, 139517, 139351, 139882, 140042, 139310, 139441, 139267, 139801, 139488, 139522, 139605, 139253, 139923, 140812, 140617, 140060, 139963, 139399, 139297, 143355, 143410, 141716, 141829, 141922, 143477, 140898, 143268, 141839, 141617, 142220, 141816, 141313, 142022, 143366, 142447, 141141, 141390, 142079, 142151, 140986, 143549, 142372, 140887, 143244, 141524, 141858, 141876, 141955, 142495, 141472, 143486, 140889, 142127, 141579, 142083, 141652, 143583, 141849, 141880, 141170, 141075, 141453, 141098, 141181, 143101, 141893, 142570, 143613, 143394, 142682, 142448, 142121, 142440, 141395, 141069, 142527, 142078, 143881, 144646, 143965, 144046, 144341, 144091, 143892, 143939, 143979, 143876, 144680, 144163, 143985, 144039, 144503, 144140, 144029, 144328, 144106, 144110, 144102, 144103, 144021, 144229, 144001, 144000, 143882, 144607, 143906, 143884, 143981, 144159, 143959, 144731, 143990, 144076, 144541, 144359, 144292, 144638, 144117, 143998, 144130, 144372, 144083, 144174, 143880, 144063, 144466, 143917, 144724, 144089, 144242, 144597, 144331, 144344, 143956, 144038, 144380, 144661, 145929, 145594, 145057, 145667, 146058, 147632, 145553, 145640, 145664, 145314, 146010, 144922, 147194, 146033, 145125, 145899, 147589, 147643, 144964, 145554, 145627, 145672, 145755, 145930, 145890, 146014, 145886, 145582, 146007, 145981, 146082, 147680, 145107, 146615, 145931, 147545, 147667, 145964, 147650, 146824, 145777, 145009, 145923, 145939, 145164, 145928, 145673, 147645, 145639, 145278, 145948, 145995, 146828, 145612, 145927, 145607, 146009, 145492, 145650, 145774, 149721, 148977, 149609, 148477, 149194, 149769, 147728, 150113, 150117, 148035, 147825, 148675, 148048, 147973, 147897, 147753, 148680, 150067, 149195, 149159, 148928, 150469, 148472, 148028, 149486, 148549, 149749, 147947, 147789, 148761, 149540, 150292, 148796, 148528, 148391, 149196, 149161, 148844, 149228, 148096, 147980, 147937, 147945, 147941, 147779, 148309, 149960, 148874, 148785, 149541, 149733, 149841, 149345, 149672, 147949, 149482, 148944, 148201, 148670, 148767, 150948, 150708, 150963, 145044, 150954, 150523, 150654, 150852, 150869, 151019, 150494, 151067, 150488, 150687, 45914, 150744, 150972, 150944, 150851, 150946, 150752, 150905, 150626, 150693, 150521, 150695, 150507, 150853, 150837, 150524, 150873, 150822, 151021, 150864, 151185, 150526, 147548, 150911, 150925, 151036, 150519, 150548, 151196, 150953, 150538, 150517, 150829, 150922, 151091, 151089, 150854, 45924, 150534, 151068, 151028, 150682, 150715, 150493, 150872, 150960, 152174, 151622, 151547, 152358, 152110, 151243, 151558, 152463, 152696, 144734, 151456, 151228, 151384, 152667, 151757, 149586, 151644, 151332, 151227, 151631, 152175, 151570, 151269, 152190, 151780, 152047, 152206, 151478, 152078, 151229, 152107, 152142, 152258, 151330, 152255, 152521, 151937, 151282, 152738, 151226, 151893, 152372, 151895, 152119, 152067, 151731, 151258, 152529, 151774, 152666, 152094, 152768, 151688, 151564, 152709, 151385, 151789, 151399, 151257, 150418, 153921, 153661, 153313, 153722, 153871, 153757, 153560, 153458, 153979, 153317, 153678, 153702, 153781, 154064, 153796, 153963, 152932, 153658, 153637, 153087, 153039, 153470, 153809, 153006, 153550, 153254, 154021, 153965, 153747, 153746, 153190, 153259, 154145, 153738, 153691, 154396, 152941, 152912, 153361, 154680, 153868, 153820, 153461, 152950, 154015, 154127, 153308, 153074, 153415, 153840, 153715, 153950, 153012, 153996, 154141, 153732, 153449, 153983, 154149, 153816, 797412, 797414, 154951, 154784, 797431, 797410, 797435, 797415, 797425, 797400, 154825, 797404, 154892, 154855, 797401, 154823, 797417, 154888, 154875, 797405, 154802, 154801, 797430, 154934, 154967, 154776, 154898, 154768, 154921, 154938, 797399, 154820, 154880, 797424, 154771, 797439, 797426, 154783, 797441, 154844, 154870, 154946, 154915, 154999, 797443, 154764, 797395, 154822, 797434, 797397, 797396, 154945, 154882, 154966, 154907, 797420, 797403, 797438, 797440, 154868, 155380, 155176, 155106, 155221, 155231, 155370, 155121, 155329, 155421, 155165, 155216, 155223, 155160, 155363, 155438, 155152, 155156, 155139, 155246, 155213, 155182, 155154, 155110, 155344, 155254, 155145, 155048, 155164, 155140, 155127, 155229, 155151, 155343, 155406, 155376, 155339, 155394, 155200, 155256, 155189, 155445, 155415, 155309, 155082, 155412, 155129, 155187, 155083, 155183, 155111, 155170, 155133, 155320, 155052, 155199, 155193, 155350, 155337, 155366, 155455, 155479, 155569, 155478, 155463, 155541, 155566, 796443, 107436, 155548, 155447, 796458, 796463, 155661, 155646, 796459, 796455, 155511, 796444, 155498, 796449, 155667, 155574, 155610, 155448, 155475, 155464, 155605, 155467, 796457, 155488, 155728, 155462, 796462, 155531, 155666, 155452, 155544, 155732, 155642, 155539, 155614, 155527, 796445, 155608, 155718, 155724, 796450, 155490, 155562, 155713, 155482, 155501, 796446, 155449, 155564, 796448, 155575, 155529, 155618, 797466, 797467, 797476, 797453, 797491, 797481, 797454, 797493, 155832, 797488, 797473, 155815, 797462, 797450, 797489, 797492, 155868, 797479, 797461, 797480, 797459, 797486, 155905, 155745, 797455, 155799, 797469, 155861, 797446, 797470, 797474, 797448, 797471, 797475, 797495, 797465, 797451, 797463, 797452, 797483, 797458, 155819, 797464, 797494, 155743, 797449, 797468, 155836, 797456, 797487, 797478, 156241, 156007, 155950, 155953, 156344, 156276, 156434, 156063, 156311, 155994, 156184, 156112, 156439, 156245, 155999, 156217, 156056, 156239, 156251, 155955, 156397, 156080, 156082, 156455, 156247, 156261, 156171, 156109, 156260, 156222, 155987, 156181, 156209, 156086, 155965, 156244, 156461, 156416, 156062, 155934, 156092, 155969, 156272, 156348, 156203, 156382, 156229, 156111, 155952, 156258, 156196, 156332, 156099, 156049, 156026, 156193, 156259, 156233, 156017, 156443, 156554, 156591, 156565, 156599, 156617, 156551, 794769, 794785, 794772, 794778, 156598, 156640, 156663, 794765, 156546, 794797, 156645, 156585, 156510, 794760, 156533, 156632, 794766, 156596, 794770, 794759, 794794, 794764, 156642, 156528, 794792, 156548, 156608, 794798, 156521, 794756, 156538, 794774, 156575, 156502, 156525, 156558, 794799, 156555, 156613, 794777, 794781, 156584, 794763, 794758, 794796, 156655, 156492, 794776, 156574, 794761, 794790, 794757, 794767, 156470, 157226, 157224, 157025, 157062, 156971, 156921, 156875, 156800, 157173, 156751, 156777, 156987, 156897, 157219, 156727, 156963, 156954, 157162, 156708, 157252, 157265, 156785, 157185, 156885, 157158, 157096, 156968, 156965, 156974, 157202, 157324, 157019, 156967, 156944, 157170, 158151, 157005, 158198, 157063, 156943, 157038, 157082, 157013, 156988, 157102, 157176, 157030, 156742, 157004, 156780, 157179, 156781, 156765, 156686, 156668, 156919, 156798, 157237, 157205, 158397, 158319, 158484, 158376, 158467, 158717, 158721, 158412, 158681, 158271, 158304, 158313, 158144, 158576, 158492, 158679, 158488, 158268, 158399, 158250, 158534, 158675, 158321, 21117, 158539, 158494, 158437, 158283, 158684, 158459, 158422, 158315, 158480, 158500, 158427, 158791, 158344, 158284, 158564, 158355, 158452, 158519, 158403, 158419, 158688, 158579, 158744, 158704, 158800, 158727, 158453, 158423, 158588, 158740, 158285, 158819, 158696, 158601, 158522, 158420, 159237, 159180, 158830, 159495, 159081, 158978, 159450, 159095, 159037, 159193, 158963, 159334, 159265, 159145, 159079, 159101, 159032, 159012, 159232, 158849, 158835, 158829, 159033, 159225, 159042, 159286, 159477, 159072, 159279, 159382, 159087, 159186, 159203, 159119, 159202, 159084, 158958, 159045, 158894, 158886, 158933, 159420, 158947, 158864, 159147, 159206, 158932, 159028, 159036, 158991, 159284, 159078, 159341, 158993, 158823, 159075, 158908, 158889, 158955, 156418, 159625, 794974, 159588, 159693, 794972, 159573, 794976, 795000, 794986, 794977, 159531, 159709, 794981, 794988, 159634, 794971, 795012, 159584, 795009, 159686, 794989, 795008, 794985, 159712, 159632, 794993, 794991, 159595, 159624, 794998, 159655, 159628, 159668, 794982, 794979, 794973, 159635, 159532, 159570, 794994, 794970, 159677, 794992, 795007, 159620, 159602, 159707, 794969, 159583, 159571, 795004, 794984, 159581, 159694, 159576, 794990, 159597, 159639, 159580, 159739, 797118, 797115, 159736, 797171, 159787, 797134, 159897, 159871, 159737, 159957, 159744, 797119, 797137, 797150, 159912, 159861, 797152, 797160, 797154, 797135, 797129, 797132, 797125, 797157, 797124, 159740, 159818, 159863, 159783, 797109, 159722, 159895, 797133, 797108, 797114, 797138, 159996, 797144, 797163, 159998, 159749, 159963, 797121, 797107, 159860, 797122, 797141, 797128, 159764, 797113, 159974, 159753, 797142, 797146, 159887, 797143, 159883, 159735, 159839, 160352, 160376, 160228, 160758, 160200, 160438, 160686, 160512, 160057, 160584, 160371, 160592, 160773, 160569, 160695, 160102, 160639, 160202, 160547, 160287, 160749, 160603, 160010, 160037, 160764, 160404, 160111, 160354, 160308, 160353, 160539, 160361, 160173, 160440, 160365, 160375, 110906, 160237, 160110, 160836, 160668, 160370, 160247, 160896, 160406, 160808, 160073, 160014, 160245, 160342, 160537, 160654, 160369, 160363, 160898, 160106, 160482, 160031, 160803, 160334, 161189, 161533, 161404, 161168, 161557, 161534, 161169, 161216, 161220, 161520, 161619, 104004, 161517, 161707, 161512, 161438, 161511, 161665, 161154, 161684, 161158, 161644, 161667, 161213, 161656, 161636, 161558, 161162, 161194, 161681, 161427, 161462, 161621, 161716, 161507, 161654, 161524, 161622, 161510, 161161, 161686, 161523, 161214, 161714, 161635, 161726, 161615, 161407, 161416, 161418, 161542, 161724, 161176, 161708, 161399, 161682, 161539, 161400, 161207, 161890, 162005, 162095, 161785, 161880, 162086, 161816, 161783, 161878, 161871, 161875, 161858, 161774, 161873, 161813, 161795, 161787, 162088, 162029, 161861, 161741, 161758, 161999, 161883, 161802, 161869, 161804, 161760, 161997, 161856, 162057, 161766, 161739, 161896, 161862, 161996, 162013, 162085, 162064, 161888, 161984, 161810, 162030, 162062, 161860, 161900, 161991, 161844, 161894, 162021, 161889, 161909, 161772, 162027, 162018, 162026, 162051, 162044, 162014, 161790, 162426, 162224, 162389, 103959, 162364, 162416, 162343, 162375, 162388, 162411, 162409, 162354, 162325, 157106, 162383, 162218, 162223, 162229, 162377, 162405, 162330, 162352, 162418, 162448, 162439, 162326, 162379, 162447, 162407, 162324, 162417, 162314, 162366, 162428, 162393, 162437, 162392, 162385, 162342, 162341, 162432, 162378, 162356, 26880, 162401, 162425, 162339, 162345, 162372, 162440, 93363, 162398, 162403, 162396, 162309, 162394, 162307, 162415, 162310, 162219, 139008, 162920, 162928, 163197, 163087, 163062, 162701, 163052, 163159, 162629, 162912, 163133, 162913, 163177, 163012, 162659, 162657, 162658, 163036, 163172, 163055, 163167, 162915, 162909, 162950, 163171, 162948, 162949, 163061, 162955, 163005, 162539, 163147, 162980, 162993, 163075, 162979, 162936, 163132, 162628, 163149, 163057, 163089, 162965, 163093, 162923, 163169, 162972, 162958, 162941, 163108, 162959, 163130, 163121, 163079, 162976, 163131, 163037, 162971, 163157, 797219, 163305, 797199, 797206, 797215, 797201, 797210, 163417, 797226, 163265, 797198, 797183, 797186, 163353, 797189, 797191, 163406, 797232, 163302, 797176, 163269, 797212, 797230, 163420, 163219, 163535, 797223, 797203, 797217, 797222, 797211, 163244, 797197, 797235, 163524, 163339, 163227, 797209, 797204, 797220, 163201, 163200, 797233, 163294, 797202, 163271, 163399, 797179, 797180, 163380, 797177, 797214, 163451, 797194, 163412, 797195, 163331, 163455, 797196, 797200, 163813, 164279, 164061, 163858, 164001, 163749, 163801, 164060, 164148, 164308, 163847, 163607, 163911, 163587, 163622, 164233, 164354, 163944, 164114, 163975, 163856, 163735, 163728, 163615, 163957, 163990, 163978, 163859, 163927, 164078, 164184, 163921, 163784, 163868, 164231, 163854, 164056, 163872, 164024, 164221, 163776, 163629, 164152, 163672, 163750, 164352, 164324, 163669, 163638, 163996, 164040, 164356, 164023, 164066, 164125, 164109, 164247, 164090, 163860, 163696, 164469, 164470, 794813, 794812, 164496, 794837, 164464, 794819, 794841, 164558, 794821, 794833, 794807, 164462, 794840, 794849, 794800, 164362, 794817, 794839, 794818, 164605, 164379, 164437, 164476, 794836, 794828, 164509, 164589, 794805, 164529, 794847, 794845, 794855, 164368, 164516, 794850, 794842, 794803, 794846, 794825, 164456, 164460, 164370, 794848, 164591, 164432, 794827, 794820, 164487, 164544, 794801, 164541, 794844, 794810, 794830, 794808, 164465, 794809, 164704, 164915, 164633, 164641, 164801, 164891, 164627, 164672, 164837, 164911, 164710, 165057, 164883, 164897, 165213, 165040, 164779, 164928, 165173, 164807, 164895, 164864, 164622, 164662, 164892, 164631, 164137, 164674, 165199, 164743, 164872, 164930, 22097, 165123, 164944, 164846, 164833, 164640, 164794, 164709, 164739, 164806, 164982, 165095, 164869, 164650, 165041, 164630, 165106, 164991, 164639, 164635, 164923, 164925, 164620, 90165, 164826, 165016, 164708, 164824, 795886, 795892, 165358, 795919, 165369, 795865, 795912, 795875, 165228, 165336, 795867, 165389, 795903, 165230, 795882, 165247, 165405, 165304, 795917, 795885, 165363, 165271, 795878, 795872, 795909, 165324, 795868, 795888, 165268, 165240, 165436, 165298, 165360, 165313, 165278, 795884, 795874, 165332, 165426, 165349, 165441, 795905, 795897, 795904, 795899, 165290, 165404, 795893, 165318, 165342, 165305, 795895, 165269, 795907, 795889, 165339, 165351, 795869, 795883, 166266, 165535, 166382, 165817, 165958, 166211, 165919, 165693, 165827, 165498, 165567, 165782, 165960, 166097, 165532, 165921, 165709, 159690, 165774, 165599, 165448, 166150, 165900, 165862, 165646, 165474, 165682, 165965, 165673, 166121, 165471, 166184, 165484, 165534, 165832, 165674, 165783, 166087, 165807, 166098, 165455, 165884, 165647, 165696, 165661, 165689, 165478, 166406, 166401, 165467, 165462, 165940, 166389, 166197, 165801, 166388, 165507, 166081, 165543, 166520, 795372, 166595, 166500, 166467, 166429, 795380, 166515, 166427, 166535, 795386, 795347, 166440, 166560, 795362, 795363, 166608, 166538, 166530, 166494, 166489, 795384, 166586, 166432, 795381, 166549, 166546, 795370, 795358, 166493, 166575, 795373, 166596, 166469, 795343, 795352, 166537, 795345, 795387, 166436, 166476, 795342, 795365, 795355, 166598, 166531, 166447, 795374, 166491, 795353, 166559, 795379, 166524, 795367, 166567, 795377, 166564, 166434, 166574, 795376, 166770, 166853, 166897, 166927, 166752, 166831, 166713, 166736, 166997, 166764, 166704, 166680, 166905, 166732, 166847, 166727, 166720, 166833, 166690, 166709, 166708, 166852, 166710, 166987, 166820, 166985, 166946, 166816, 93378, 166679, 166885, 166828, 166892, 166914, 166692, 166702, 166798, 166637, 166749, 166875, 166738, 166747, 166926, 166783, 166639, 166896, 166762, 166986, 166922, 167001, 166794, 166871, 166942, 166725, 166963, 166829, 166917, 166785, 166754, 166834, 167117, 167146, 167103, 167497, 167326, 167190, 167429, 167191, 167198, 167242, 167224, 167065, 167044, 167385, 167283, 167461, 167280, 167454, 167534, 167346, 167357, 167071, 167475, 167250, 167403, 167258, 167331, 167123, 167008, 167347, 167355, 167411, 167266, 167419, 167389, 167213, 167234, 167045, 167457, 167293, 167226, 167195, 167455, 167096, 167452, 167186, 167259, 167428, 167268, 167039, 167350, 167149, 167078, 167324, 167285, 167274, 167494, 166444, 167053, 167101, 167660, 168314, 167998, 167545, 168228, 167615, 168196, 168082, 168126, 167626, 168263, 168381, 167641, 168376, 167589, 167991, 168185, 167687, 168384, 168029, 167614, 167610, 167974, 168166, 168002, 168013, 168600, 167876, 168424, 168259, 168119, 166929, 167952, 167949, 167588, 167585, 167595, 167964, 168372, 167960, 167647, 167948, 168439, 168052, 167607, 167578, 167584, 168004, 168189, 168566, 168040, 168437, 167984, 167732, 167987, 167640, 167658, 167587, 168445, 168012, 170297, 169527, 170474, 168786, 169918, 169429, 169473, 169452, 170857, 169411, 169626, 168857, 170501, 169670, 170352, 170894, 169922, 169319, 169837, 169354, 169885, 170042, 169487, 169175, 170219, 168740, 168686, 169954, 169284, 169318, 170243, 169781, 168751, 169042, 169256, 168709, 170281, 169676, 168968, 170604, 170499, 170610, 170867, 168725, 168829, 170429, 169571, 170620, 169426, 169490, 169663, 169595, 170080, 170319, 170073, 170081, 170311, 169575, 168943, 170276, 171176, 171639, 171215, 171548, 171523, 171330, 171869, 171239, 171678, 171989, 171525, 172197, 171110, 172080, 171657, 98396, 171649, 171386, 171477, 171104, 171150, 171452, 159442, 171380, 171287, 172064, 171635, 172119, 172061, 171933, 172104, 171374, 171975, 171117, 172409, 170981, 170980, 171627, 171588, 171671, 171501, 171147, 171922, 171668, 170983, 171107, 170597, 171040, 172456, 171152, 171551, 172340, 171274, 171282, 171742, 171035, 171936, 171641, 171382, 171263, 172622, 173081, 173022, 172547, 172744, 172542, 173359, 172902, 165306, 172465, 173123, 172618, 172818, 172549, 172550, 173056, 173210, 173095, 173281, 172585, 173400, 173290, 172602, 172573, 172755, 172682, 173350, 173140, 172771, 172709, 172729, 172735, 172724, 172783, 172534, 172597, 91950, 172577, 172615, 172982, 173071, 173080, 172559, 172909, 173383, 172544, 172689, 173261, 173097, 172603, 172536, 172931, 172913, 172609, 172705, 173279, 172745, 172768, 172610, 172695, 173475, 173425, 174196, 173838, 174122, 173816, 174138, 173788, 174578, 174123, 173418, 173867, 173447, 173536, 174104, 174340, 174213, 174556, 173419, 173865, 173440, 173434, 174412, 173830, 174106, 173422, 174318, 174210, 174650, 173690, 174607, 173443, 174118, 173899, 173510, 173970, 173929, 173939, 173829, 173606, 174636, 174183, 173607, 174372, 174554, 173913, 174539, 174595, 174097, 174221, 173921, 174125, 174121, 173857, 174594, 173444, 174622, 174643, 173686, 174149, 794869, 174683, 794866, 794874, 794888, 794857, 174745, 794886, 174746, 174724, 174680, 174739, 794892, 794858, 794891, 174705, 174685, 174715, 174692, 794863, 794898, 794868, 174717, 794885, 794881, 794884, 794877, 794896, 794883, 794864, 174696, 174728, 794856, 794890, 174741, 174699, 174691, 794882, 794859, 794860, 794893, 794895, 794865, 794894, 794876, 794872, 794870, 794887, 794880, 794861, 794900, 794875, 174678, 174689, 794899, 794871, 174884, 175154, 174997, 174796, 174937, 163552, 175126, 174847, 174786, 174761, 174799, 174977, 174980, 174973, 175118, 174805, 172338, 174802, 174772, 174854, 174760, 174883, 174933, 174900, 175092, 175003, 174824, 174913, 174798, 175079, 175006, 174851, 175015, 175089, 174914, 174840, 174775, 174949, 168561, 174757, 174999, 174962, 175084, 175058, 174763, 174807, 167714, 174771, 174891, 156530, 174968, 175163, 174764, 175050, 174810, 174903, 174993, 174800, 175168, 175571, 175618, 175750, 175328, 175532, 175389, 175175, 175505, 175278, 175859, 175290, 175417, 175259, 175443, 175449, 175347, 175464, 175491, 175623, 175304, 175573, 175285, 175183, 175269, 175249, 175420, 175361, 175924, 117820, 175261, 175181, 175169, 175958, 175876, 175645, 175234, 175780, 175770, 175253, 175619, 175676, 175595, 175559, 175726, 175769, 175320, 175179, 175578, 175295, 175262, 175779, 175937, 175368, 175637, 175256, 175268, 175600, 175626, 175374, 175186, 795533, 795550, 175977, 176037, 795566, 795515, 795534, 176042, 795570, 795528, 795546, 795554, 795545, 176111, 176118, 176096, 176062, 176075, 795560, 795575, 795573, 176120, 795571, 795518, 176053, 795561, 176150, 176068, 176079, 176130, 795555, 795547, 176006, 175969, 795537, 795568, 795553, 795551, 92460, 795520, 176055, 795559, 176093, 176045, 176086, 795532, 176036, 175971, 176144, 795540, 176073, 175978, 795523, 795524, 795522, 176010, 795565, 795557, 176069, 176429, 176947, 176616, 176676, 176437, 176414, 176452, 176888, 176674, 176364, 176421, 176189, 176337, 176391, 176855, 176236, 176282, 176204, 176360, 176388, 176444, 176954, 176460, 176247, 176367, 176212, 176456, 176526, 176320, 176675, 176891, 176559, 176800, 176856, 176346, 176655, 176218, 176542, 176292, 176591, 176336, 176366, 176490, 176365, 176202, 176586, 176538, 176733, 176864, 176821, 176541, 176849, 176383, 176301, 176201, 176409, 176485, 176402, 176182, 176471, 177023, 176988, 177078, 177311, 177343, 177305, 177075, 177345, 177149, 177187, 177003, 177002, 177293, 177286, 177214, 177274, 177027, 177199, 177272, 177070, 176961, 176984, 177304, 177129, 177173, 177331, 177120, 177114, 177291, 177143, 177213, 177172, 177364, 177346, 177110, 177273, 177096, 177121, 177063, 176978, 176986, 177152, 177008, 177080, 176972, 177243, 177239, 177358, 177148, 177167, 177283, 177141, 177007, 177045, 177116, 177162, 177137, 176970, 177059, 177074, 795271, 795285, 177479, 177455, 795258, 795255, 795238, 177515, 795240, 177557, 177062, 795265, 795250, 177397, 795269, 177403, 177503, 177539, 795262, 795248, 177509, 177385, 795281, 795242, 177457, 795251, 795279, 177551, 177526, 795274, 177604, 177523, 795277, 795244, 177519, 795241, 176977, 795280, 795245, 795270, 177388, 177449, 177583, 177285, 177380, 795259, 177462, 177558, 795257, 795247, 177444, 795252, 177379, 795283, 177596, 795263, 795261, 795284, 795246, 795264, 796680, 177986, 796652, 796651, 177972, 796672, 796660, 177816, 177684, 796625, 177642, 177661, 177845, 796647, 177915, 177635, 796633, 796646, 796661, 796638, 796632, 177702, 177914, 177630, 177887, 177864, 177821, 796630, 796623, 796645, 177784, 796642, 796683, 796682, 177901, 796678, 796649, 796687, 796636, 796655, 796639, 796634, 796666, 177955, 177709, 177969, 177944, 178009, 177747, 796627, 796653, 796692, 177676, 177823, 177621, 177724, 177858, 177942, 796658, 796654, 179170, 179071, 178570, 179215, 179394, 178345, 178891, 179149, 178830, 178818, 178629, 178654, 178230, 178878, 179724, 179569, 178202, 178929, 178737, 179715, 179710, 179183, 179391, 178321, 178960, 178723, 178385, 178892, 178141, 178370, 178795, 178500, 178190, 179305, 178788, 179017, 178719, 179310, 179007, 178058, 178888, 179114, 178732, 178191, 178743, 179123, 178139, 178049, 178163, 178164, 178971, 178643, 179707, 179559, 179098, 178627, 178779, 178857, 178921, 178308, 179912, 179885, 179891, 179908, 179902, 179838, 179932, 179850, 179919, 179874, 179847, 179905, 179833, 179882, 179827, 179927, 179830, 179831, 179870, 179828, 179832, 179933, 179909, 179876, 179918, 796157, 796147, 796175, 796143, 796144, 796172, 796170, 796169, 796165, 796158, 796146, 796166, 796182, 796168, 796180, 796150, 796149, 796187, 796151, 796148, 796153, 796185, 796163, 796191, 796186, 180024, 180307, 180400, 180460, 180519, 179976, 180746, 180072, 180253, 180078, 179956, 180258, 180208, 180347, 180179, 180419, 180300, 180012, 180461, 180398, 179965, 179960, 180094, 180612, 180177, 180443, 180324, 179979, 180034, 180006, 180345, 180306, 180480, 180286, 180236, 180388, 180589, 180249, 180523, 180038, 180096, 179959, 180054, 179969, 180343, 180205, 180392, 180170, 180246, 180446, 180521, 180439, 180455, 179948, 180138, 180030, 180026, 180076, 180168, 179971, 180879, 182242, 180858, 180961, 180772, 181765, 182320, 180760, 181131, 182335, 182303, 181969, 181958, 180756, 180783, 181830, 180975, 181587, 181913, 180814, 181062, 181122, 180755, 180751, 182031, 180768, 180946, 182154, 182317, 182253, 180949, 181248, 181182, 180866, 180994, 180936, 180788, 182334, 181887, 181010, 182336, 181891, 180941, 181907, 180938, 182235, 180948, 181363, 180766, 180803, 181616, 180757, 180956, 181188, 180827, 181092, 180775, 181420, 182116, 180780, 182541, 794696, 794695, 182340, 182592, 794755, 794753, 182540, 182451, 794697, 794740, 794718, 182459, 182493, 794712, 794705, 182683, 182647, 794700, 794701, 794708, 794710, 794713, 182395, 794724, 794711, 794737, 182376, 794721, 794720, 182435, 182519, 794733, 794719, 794736, 182502, 182408, 182373, 182374, 794727, 794722, 794704, 182599, 182452, 794743, 182347, 794752, 794707, 794699, 182520, 794734, 794725, 794739, 794709, 182377, 794728, 182371, 794726, 183414, 183383, 182728, 182803, 183395, 182721, 183701, 183007, 183777, 183455, 183255, 183454, 183010, 183297, 183029, 183337, 183096, 182815, 182806, 183280, 183446, 182788, 182834, 183141, 182832, 183229, 182724, 182702, 183515, 183234, 183086, 183358, 182863, 183322, 183710, 183662, 183132, 182784, 183288, 183427, 182811, 183004, 182703, 182715, 183271, 183246, 183435, 183144, 182787, 182925, 183401, 183688, 182903, 182732, 183524, 182538, 183571, 183290, 183403, 183385, 184484, 183933, 184648, 184098, 184538, 184051, 183934, 183975, 184545, 183940, 184131, 184046, 184368, 184120, 184622, 184636, 184048, 183968, 184418, 184243, 184061, 184528, 184144, 184314, 184170, 184164, 183920, 183913, 184520, 184396, 184285, 184343, 183953, 184401, 184430, 183907, 184346, 184375, 184240, 183922, 183964, 184537, 184478, 184532, 184567, 184584, 184139, 184263, 184413, 184096, 184326, 183926, 184002, 184692, 184364, 184656, 184446, 184408, 184534, 184385, 185072, 185202, 184699, 185142, 184810, 184981, 184999, 185127, 185400, 184932, 185212, 184870, 185130, 185332, 184989, 184878, 184707, 185339, 184919, 185425, 184760, 184902, 185230, 184834, 185366, 184898, 185063, 185247, 184928, 184816, 184895, 184892, 185049, 185046, 185080, 185021, 185190, 184715, 185474, 184918, 184733, 184901, 185139, 185358, 185288, 185256, 185013, 184908, 185170, 185216, 184956, 185113, 185169, 184765, 185069, 184771, 184756, 184906, 185251, 184839, 185645, 185680, 185797, 185634, 186083, 185871, 185993, 185582, 185745, 186012, 185696, 185893, 185795, 185798, 186014, 185817, 185563, 185859, 185691, 185514, 185492, 185556, 186017, 185626, 185903, 185950, 185589, 185826, 186028, 186034, 186033, 185670, 186066, 186067, 186003, 185899, 185560, 185901, 185515, 185630, 185873, 186023, 185951, 185633, 185898, 186015, 185637, 185627, 185902, 185506, 185733, 185532, 185895, 185927, 185591, 185788, 185956, 186068, 185501, 185648, 186455, 186506, 186109, 186742, 186871, 187086, 186525, 186527, 186702, 186683, 186377, 186526, 186212, 186713, 186566, 186848, 186356, 186722, 186436, 186286, 186645, 186165, 186928, 186129, 186510, 186154, 186313, 186409, 186296, 186390, 186517, 186818, 186830, 186230, 186309, 186587, 186294, 186570, 186919, 186421, 186324, 186431, 186942, 186464, 186561, 186237, 186332, 186972, 186089, 186562, 186675, 186916, 186153, 186365, 187009, 186654, 186581, 186369, 186347, 186443, 188047, 187448, 187493, 187547, 187973, 188006, 187330, 187848, 187192, 187160, 187120, 187708, 187098, 187224, 187374, 187477, 188036, 187397, 187157, 187911, 187194, 188076, 187489, 187399, 187899, 187406, 187723, 187815, 187946, 187243, 187762, 188046, 187100, 187226, 187760, 187368, 187240, 187133, 187466, 187230, 187102, 187111, 187355, 188016, 187604, 187492, 187383, 187552, 187331, 187095, 187251, 187647, 187832, 187376, 187109, 187101, 188077, 187273, 187177, 188188, 188235, 188126, 188533, 188275, 188802, 188852, 188363, 188460, 188280, 188376, 188797, 188778, 188374, 188530, 188201, 188252, 188195, 188426, 188270, 188370, 188540, 188657, 188260, 188276, 188123, 188241, 188107, 188158, 188446, 188776, 188205, 188111, 188764, 188549, 188108, 188812, 188699, 188318, 188710, 188371, 188214, 188579, 188654, 188483, 188100, 188390, 188788, 188329, 188434, 188443, 188676, 188512, 188404, 188323, 188565, 188213, 188796, 188193, 188367, 189289, 189167, 189046, 189162, 189021, 188968, 188895, 189175, 188958, 189075, 188942, 188897, 189181, 189331, 189145, 189397, 187656, 188998, 189245, 189256, 189328, 189159, 189227, 189006, 188933, 189127, 189153, 189207, 189112, 189346, 188941, 189045, 189121, 188995, 189034, 189152, 188969, 189213, 188952, 189141, 188960, 189340, 188944, 188988, 189037, 188966, 188947, 189426, 189161, 189094, 189443, 189204, 189283, 189101, 188964, 188974, 189042, 189405, 188951, 188931, 189838, 189670, 189750, 190052, 189500, 190099, 189533, 189597, 189816, 190376, 190311, 189635, 190123, 189510, 190068, 190390, 189683, 189504, 189514, 189990, 189508, 189501, 189543, 189675, 189637, 189689, 189521, 190044, 189578, 190366, 190049, 189549, 190025, 189692, 190135, 190104, 189686, 189985, 190139, 189563, 189509, 189850, 189569, 189596, 189507, 189558, 189834, 189999, 189805, 189545, 189475, 190342, 190091, 190093, 189843, 189531, 190061, 189861, 190152, 190379, 190521, 190606, 190576, 190703, 190578, 190572, 190401, 190556, 190986, 190904, 190524, 190720, 190655, 190547, 190869, 190527, 190403, 190582, 190592, 190567, 190698, 190513, 190427, 190563, 190446, 190708, 190535, 190398, 190967, 190958, 190584, 190440, 190646, 190400, 190678, 190665, 190402, 190900, 190990, 190663, 190525, 190639, 190414, 190594, 190503, 190573, 190609, 190690, 190430, 190531, 190489, 190989, 190569, 190571, 190501, 190805, 190597, 190570, 190902, 190407]\n"
     ]
    }
   ],
   "execution_count": 65
  },
  {
   "metadata": {
    "ExecuteTime": {
     "end_time": "2025-01-04T14:06:31.758689Z",
     "start_time": "2025-01-04T14:06:31.751725Z"
    }
   },
   "cell_type": "code",
   "source": "print(len(res101[\"labels\"]))",
   "id": "42a968d708179520",
   "outputs": [
    {
     "name": "stdout",
     "output_type": "stream",
     "text": [
      "11788\n"
     ]
    }
   ],
   "execution_count": 10
  },
  {
   "metadata": {
    "ExecuteTime": {
     "end_time": "2025-01-04T14:11:46.554702Z",
     "start_time": "2025-01-04T14:11:46.534472Z"
    }
   },
   "cell_type": "code",
   "source": "labelsTensor = torch.tensor(res101[\"labels\"])",
   "id": "793a98817bc2f4a0",
   "outputs": [],
   "execution_count": 24
  },
  {
   "metadata": {
    "ExecuteTime": {
     "end_time": "2025-01-04T14:11:46.972077Z",
     "start_time": "2025-01-04T14:11:46.966605Z"
    }
   },
   "cell_type": "code",
   "source": "labelsTensor.shape",
   "id": "639a8e335878e60d",
   "outputs": [
    {
     "data": {
      "text/plain": [
       "torch.Size([11788, 1])"
      ]
     },
     "execution_count": 25,
     "metadata": {},
     "output_type": "execute_result"
    }
   ],
   "execution_count": 25
  },
  {
   "metadata": {
    "ExecuteTime": {
     "end_time": "2025-01-04T14:11:47.513709Z",
     "start_time": "2025-01-04T14:11:47.508798Z"
    }
   },
   "cell_type": "code",
   "source": [
    "print(torch.max(labelsTensor))\n",
    "print(torch.min(labelsTensor))\n"
   ],
   "id": "ff40ea20acbe523f",
   "outputs": [
    {
     "name": "stdout",
     "output_type": "stream",
     "text": [
      "tensor(200, dtype=torch.uint8)\n",
      "tensor(1, dtype=torch.uint8)\n"
     ]
    }
   ],
   "execution_count": 26
  },
  {
   "metadata": {},
   "cell_type": "code",
   "outputs": [],
   "execution_count": null,
   "source": "",
   "id": "bee1555dba2388bd"
  },
  {
   "metadata": {},
   "cell_type": "code",
   "outputs": [],
   "execution_count": null,
   "source": "",
   "id": "b9ce202e49bc7f0d"
  },
  {
   "metadata": {},
   "cell_type": "code",
   "outputs": [],
   "execution_count": null,
   "source": "",
   "id": "b6fac967c7b2b1c1"
  },
  {
   "metadata": {},
   "cell_type": "code",
   "outputs": [
    {
     "name": "stdout",
     "output_type": "stream",
     "text": [
      "dict_keys(['__header__', '__version__', '__globals__', 'image_files', 'features', 'labels'])\n"
     ]
    }
   ],
   "execution_count": 5,
   "source": "print(res101.keys())",
   "id": "2d41093ae13c2148"
  },
  {
   "metadata": {
    "ExecuteTime": {
     "end_time": "2025-01-04T14:09:05.757648Z",
     "start_time": "2025-01-04T14:09:05.749016Z"
    }
   },
   "cell_type": "code",
   "source": "print(res101[\"features\"])",
   "id": "98881b11c9ea591d",
   "outputs": [
    {
     "name": "stdout",
     "output_type": "stream",
     "text": [
      "[[0.40892997 0.41969657 0.18802039 ... 0.30434826 0.35864624 0.65450728]\n",
      " [0.25413808 0.30752203 0.08614247 ... 0.19108224 0.13533165 0.20017533]\n",
      " [2.12168241 0.77530569 2.11704683 ... 0.11788042 0.06038139 0.00543019]\n",
      " ...\n",
      " [0.11358754 0.21275087 0.04323977 ... 0.35180986 0.54067051 0.23211631]\n",
      " [0.04199803 0.14942844 0.19070306 ... 0.         0.35444796 0.03051368]\n",
      " [0.12280495 0.34912837 0.         ... 0.04952463 0.03132629 0.        ]]\n"
     ]
    }
   ],
   "execution_count": 15
  },
  {
   "metadata": {
    "ExecuteTime": {
     "end_time": "2025-01-04T14:09:48.151380Z",
     "start_time": "2025-01-04T14:09:48.144447Z"
    }
   },
   "cell_type": "code",
   "source": "print(len(res101[\"features\"]))",
   "id": "5662712a4e7941b6",
   "outputs": [
    {
     "name": "stdout",
     "output_type": "stream",
     "text": [
      "2048\n"
     ]
    }
   ],
   "execution_count": 16
  },
  {
   "metadata": {
    "ExecuteTime": {
     "end_time": "2025-01-04T14:12:16.545400Z",
     "start_time": "2025-01-04T14:12:16.417599Z"
    }
   },
   "cell_type": "code",
   "source": "featuresTensor = torch.tensor(res101[\"features\"])",
   "id": "5cd22b9ef30850c1",
   "outputs": [],
   "execution_count": 27
  },
  {
   "metadata": {
    "ExecuteTime": {
     "end_time": "2025-01-04T14:12:17.102257Z",
     "start_time": "2025-01-04T14:12:17.098949Z"
    }
   },
   "cell_type": "code",
   "source": "featuresTensor.shape",
   "id": "de0e41a543587069",
   "outputs": [
    {
     "data": {
      "text/plain": [
       "torch.Size([2048, 11788])"
      ]
     },
     "execution_count": 28,
     "metadata": {},
     "output_type": "execute_result"
    }
   ],
   "execution_count": 28
  },
  {
   "metadata": {
    "ExecuteTime": {
     "end_time": "2025-01-04T14:12:18.055011Z",
     "start_time": "2025-01-04T14:12:17.649306Z"
    }
   },
   "cell_type": "code",
   "source": [
    "print(torch.max(featuresTensor))\n",
    "print(torch.min(featuresTensor))\n"
   ],
   "id": "1d2e58a76efc2b39",
   "outputs": [
    {
     "name": "stdout",
     "output_type": "stream",
     "text": [
      "tensor(35.9458, dtype=torch.float64)\n",
      "tensor(0., dtype=torch.float64)\n"
     ]
    }
   ],
   "execution_count": 29
  },
  {
   "metadata": {
    "ExecuteTime": {
     "end_time": "2025-01-04T14:12:19.145774Z",
     "start_time": "2025-01-04T14:12:19.140622Z"
    }
   },
   "cell_type": "code",
   "source": "print(featuresTensor[:, 0])",
   "id": "814e37fe5855da0b",
   "outputs": [
    {
     "name": "stdout",
     "output_type": "stream",
     "text": [
      "tensor([0.4089, 0.2541, 2.1217,  ..., 0.1136, 0.0420, 0.1228],\n",
      "       dtype=torch.float64)\n"
     ]
    }
   ],
   "execution_count": 30
  },
  {
   "metadata": {
    "ExecuteTime": {
     "end_time": "2025-01-04T14:12:19.721121Z",
     "start_time": "2025-01-04T14:12:19.717801Z"
    }
   },
   "cell_type": "code",
   "source": "featuresTensor[:, 1].shape",
   "id": "b19b61e65f91779e",
   "outputs": [
    {
     "data": {
      "text/plain": [
       "torch.Size([2048])"
      ]
     },
     "execution_count": 31,
     "metadata": {},
     "output_type": "execute_result"
    }
   ],
   "execution_count": 31
  },
  {
   "metadata": {},
   "cell_type": "code",
   "outputs": [],
   "execution_count": null,
   "source": "",
   "id": "c63bf17c6977790e"
  },
  {
   "metadata": {},
   "cell_type": "code",
   "outputs": [],
   "execution_count": null,
   "source": "",
   "id": "8da0826b5b95f136"
  },
  {
   "metadata": {},
   "cell_type": "code",
   "outputs": [],
   "execution_count": null,
   "source": "",
   "id": "43b41f9578b01d63"
  },
  {
   "metadata": {},
   "cell_type": "code",
   "outputs": [
    {
     "name": "stdout",
     "output_type": "stream",
     "text": [
      "dict_keys(['__header__', '__version__', '__globals__', 'image_files', 'features', 'labels'])\n"
     ]
    }
   ],
   "execution_count": 5,
   "source": "print(res101.keys())",
   "id": "fe78b7819b065fe4"
  },
  {
   "metadata": {
    "ExecuteTime": {
     "end_time": "2025-01-04T14:11:03.044625Z",
     "start_time": "2025-01-04T14:11:03.032811Z"
    }
   },
   "cell_type": "code",
   "source": "print(res101[\"image_files\"])",
   "id": "df6ff090ca5d3862",
   "outputs": [
    {
     "name": "stdout",
     "output_type": "stream",
     "text": [
      "[[array(['/BS/Deep_Fragments/work/MSc/CUB_200_2011/CUB_200_2011/images/001.Black_footed_Albatross/Black_Footed_Albatross_0001_796111.jpg'],\n",
      "        dtype='<U126')                                                                                                                     ]\n",
      " [array(['/BS/Deep_Fragments/work/MSc/CUB_200_2011/CUB_200_2011/images/001.Black_footed_Albatross/Black_Footed_Albatross_0002_55.jpg'],\n",
      "        dtype='<U122')                                                                                                                 ]\n",
      " [array(['/BS/Deep_Fragments/work/MSc/CUB_200_2011/CUB_200_2011/images/001.Black_footed_Albatross/Black_Footed_Albatross_0003_796136.jpg'],\n",
      "        dtype='<U126')                                                                                                                     ]\n",
      " ...\n",
      " [array(['/BS/Deep_Fragments/work/MSc/CUB_200_2011/CUB_200_2011/images/200.Common_Yellowthroat/Common_Yellowthroat_0122_190570.jpg'],\n",
      "        dtype='<U120')                                                                                                               ]\n",
      " [array(['/BS/Deep_Fragments/work/MSc/CUB_200_2011/CUB_200_2011/images/200.Common_Yellowthroat/Common_Yellowthroat_0125_190902.jpg'],\n",
      "        dtype='<U120')                                                                                                               ]\n",
      " [array(['/BS/Deep_Fragments/work/MSc/CUB_200_2011/CUB_200_2011/images/200.Common_Yellowthroat/Common_Yellowthroat_0126_190407.jpg'],\n",
      "        dtype='<U120')                                                                                                               ]]\n"
     ]
    }
   ],
   "execution_count": 22
  },
  {
   "metadata": {
    "ExecuteTime": {
     "end_time": "2025-01-04T14:11:32.664149Z",
     "start_time": "2025-01-04T14:11:32.661470Z"
    }
   },
   "cell_type": "code",
   "source": "print(len(res101[\"image_files\"]))",
   "id": "9c4986b64e652b4f",
   "outputs": [
    {
     "name": "stdout",
     "output_type": "stream",
     "text": [
      "11788\n"
     ]
    }
   ],
   "execution_count": 23
  },
  {
   "metadata": {
    "ExecuteTime": {
     "end_time": "2025-01-04T14:47:12.124678Z",
     "start_time": "2025-01-04T14:47:12.120364Z"
    }
   },
   "cell_type": "code",
   "source": "print(res101[\"image_files\"][0][0][0])",
   "id": "ba4c79212833c895",
   "outputs": [
    {
     "name": "stdout",
     "output_type": "stream",
     "text": [
      "/BS/Deep_Fragments/work/MSc/CUB_200_2011/CUB_200_2011/images/001.Black_footed_Albatross/Black_Footed_Albatross_0001_796111.jpg\n"
     ]
    }
   ],
   "execution_count": 50
  },
  {
   "metadata": {
    "ExecuteTime": {
     "end_time": "2025-01-04T14:50:17.662677Z",
     "start_time": "2025-01-04T14:50:17.658182Z"
    }
   },
   "cell_type": "code",
   "source": [
    "filePath = res101[\"image_files\"][2][0][0]\n",
    "imageNumber = int(filePath.split(\"_\")[-1].split(\".\")[0])\n",
    "print(imageNumber)"
   ],
   "id": "83a2b2d69af810fc",
   "outputs": [
    {
     "name": "stdout",
     "output_type": "stream",
     "text": [
      "796136\n"
     ]
    }
   ],
   "execution_count": 56
  },
  {
   "metadata": {
    "ExecuteTime": {
     "end_time": "2025-01-04T14:54:44.667454Z",
     "start_time": "2025-01-04T14:54:44.630239Z"
    }
   },
   "cell_type": "code",
   "source": [
    "imageNumbers = []\n",
    "for i in range(len(res101[\"image_files\"])):\n",
    "    filePath = res101[\"image_files\"][i][0][0]\n",
    "    imageNumber = int(filePath.split(\"_\")[-1].split(\".\")[0])\n",
    "    imageNumbers.append(imageNumber)\n",
    "    \n",
    "print(len(imageNumbers))\n",
    "print(imageNumbers[0:3], imageNumbers[-3:])"
   ],
   "id": "c8a5361fe3651389",
   "outputs": [
    {
     "name": "stdout",
     "output_type": "stream",
     "text": [
      "11788\n",
      "[796111, 55, 796136] [190570, 190902, 190407]\n"
     ]
    }
   ],
   "execution_count": 60
  },
  {
   "metadata": {
    "ExecuteTime": {
     "end_time": "2025-01-04T14:45:55.838830Z",
     "start_time": "2025-01-04T14:45:55.831516Z"
    }
   },
   "cell_type": "code",
   "source": "print(type(res101[\"image_files\"][0][0][0]))",
   "id": "82ffeb01df3a3095",
   "outputs": [
    {
     "name": "stdout",
     "output_type": "stream",
     "text": [
      "<class 'numpy.str_'>\n"
     ]
    }
   ],
   "execution_count": 46
  },
  {
   "metadata": {},
   "cell_type": "code",
   "outputs": [],
   "execution_count": 17,
   "source": "labelsTensor = torch.tensor(res101[\"features\"])",
   "id": "52e87e389bf548f6"
  },
  {
   "metadata": {},
   "cell_type": "code",
   "outputs": [
    {
     "data": {
      "text/plain": [
       "torch.Size([2048, 11788])"
      ]
     },
     "execution_count": 18,
     "metadata": {},
     "output_type": "execute_result"
    }
   ],
   "execution_count": 18,
   "source": "labelsTensor.shape",
   "id": "1316d624719c86ae"
  },
  {
   "metadata": {},
   "cell_type": "code",
   "outputs": [
    {
     "name": "stdout",
     "output_type": "stream",
     "text": [
      "tensor(35.9458, dtype=torch.float64)\n",
      "tensor(0., dtype=torch.float64)\n"
     ]
    }
   ],
   "execution_count": 19,
   "source": [
    "print(torch.max(labelsTensor))\n",
    "print(torch.min(labelsTensor))\n"
   ],
   "id": "137437aa19441d69"
  },
  {
   "metadata": {},
   "cell_type": "code",
   "outputs": [
    {
     "name": "stdout",
     "output_type": "stream",
     "text": [
      "tensor([0.4089, 0.2541, 2.1217,  ..., 0.1136, 0.0420, 0.1228],\n",
      "       dtype=torch.float64)\n"
     ]
    }
   ],
   "execution_count": 20,
   "source": "print(labelsTensor[:, 0])",
   "id": "4bf65d08d4d030f"
  },
  {
   "metadata": {},
   "cell_type": "code",
   "outputs": [
    {
     "data": {
      "text/plain": [
       "torch.Size([2048])"
      ]
     },
     "execution_count": 21,
     "metadata": {},
     "output_type": "execute_result"
    }
   ],
   "execution_count": 21,
   "source": "labelsTensor[:, 1].shape",
   "id": "cd09b392ed65cd2d"
  },
  {
   "metadata": {},
   "cell_type": "code",
   "outputs": [],
   "execution_count": null,
   "source": "",
   "id": "606c38d5baf09fe2"
  }
 ],
 "metadata": {
  "kernelspec": {
   "display_name": "Python 3",
   "language": "python",
   "name": "python3"
  },
  "language_info": {
   "codemirror_mode": {
    "name": "ipython",
    "version": 2
   },
   "file_extension": ".py",
   "mimetype": "text/x-python",
   "name": "python",
   "nbconvert_exporter": "python",
   "pygments_lexer": "ipython2",
   "version": "2.7.6"
  }
 },
 "nbformat": 4,
 "nbformat_minor": 5
}
