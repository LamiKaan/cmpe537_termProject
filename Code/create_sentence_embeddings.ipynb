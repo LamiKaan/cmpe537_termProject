{
 "cells": [
  {
   "cell_type": "code",
   "id": "initial_id",
   "metadata": {
    "collapsed": true,
    "ExecuteTime": {
     "end_time": "2025-01-09T20:15:20.576235Z",
     "start_time": "2025-01-09T20:15:14.138893Z"
    }
   },
   "source": [
    "import torch\n",
    "import torchvision\n",
    "import torchvision.transforms as transforms\n",
    "import torchvision.models as models\n",
    "from torch.utils.data import Dataset, DataLoader, TensorDataset\n",
    "import numpy as np\n",
    "import scipy.io as sio\n",
    "from torch.utils.data import TensorDataset\n",
    "from sentence_transformers import SentenceTransformer\n",
    "import pickle"
   ],
   "outputs": [],
   "execution_count": 1
  },
  {
   "metadata": {
    "ExecuteTime": {
     "end_time": "2025-01-09T20:15:25.549957Z",
     "start_time": "2025-01-09T20:15:21.806960Z"
    }
   },
   "cell_type": "code",
   "source": [
    "with open(\"/Users/lkk/Documents/BOUN CMPE/CMPE 537-Computer Vision/Term Project/Code/Datasets/CUB_Paper/produced/dataset_info2.pkl\", 'rb') as f:\n",
    "    dataset_info = pickle.load(f)"
   ],
   "id": "aba3961010450838",
   "outputs": [],
   "execution_count": 2
  },
  {
   "metadata": {
    "ExecuteTime": {
     "end_time": "2025-01-09T20:15:26.364678Z",
     "start_time": "2025-01-09T20:15:26.355753Z"
    }
   },
   "cell_type": "code",
   "source": "dataset_info.keys()",
   "id": "4805850b46d476f",
   "outputs": [
    {
     "data": {
      "text/plain": [
       "dict_keys(['__header__', '__version__', '__globals__', 'image_files', 'features', 'labels', 'imageNumbers', 'labelNames', 'image_tensors_256', 'image_tensors_128', 'image_tensors_64', 'sentence_descriptions', 'st_embeddings_agg', 'st_embeddings_avg'])"
      ]
     },
     "execution_count": 3,
     "metadata": {},
     "output_type": "execute_result"
    }
   ],
   "execution_count": 3
  },
  {
   "metadata": {},
   "cell_type": "code",
   "outputs": [],
   "execution_count": null,
   "source": "",
   "id": "ba2df3f84afba27c"
  },
  {
   "metadata": {
    "ExecuteTime": {
     "end_time": "2025-01-09T15:21:50.971004Z",
     "start_time": "2025-01-09T15:21:50.968015Z"
    }
   },
   "cell_type": "code",
   "source": "sentence_descriptions = dataset_info['sentence_descriptions']",
   "id": "e6c4825db1f1445b",
   "outputs": [],
   "execution_count": 16
  },
  {
   "metadata": {
    "ExecuteTime": {
     "end_time": "2025-01-09T15:21:52.690096Z",
     "start_time": "2025-01-09T15:21:52.687292Z"
    }
   },
   "cell_type": "code",
   "source": "np.info(sentence_descriptions)",
   "id": "1305a24bce34935e",
   "outputs": [
    {
     "name": "stdout",
     "output_type": "stream",
     "text": [
      "class:  ndarray\n",
      "shape:  (11788, 10, 1)\n",
      "strides:  (14600, 1460, 1460)\n",
      "itemsize:  1460\n",
      "aligned:  True\n",
      "contiguous:  True\n",
      "fortran:  False\n",
      "data pointer: 0x58338c020\n",
      "byteorder:  little\n",
      "byteswap:  False\n",
      "type: <U365\n"
     ]
    }
   ],
   "execution_count": 17
  },
  {
   "metadata": {
    "ExecuteTime": {
     "end_time": "2025-01-09T15:37:27.631896Z",
     "start_time": "2025-01-09T15:37:27.630073Z"
    }
   },
   "cell_type": "code",
   "source": "print(type(sentence_descriptions[0][0]))",
   "id": "a41e32d965a004a5",
   "outputs": [
    {
     "name": "stdout",
     "output_type": "stream",
     "text": [
      "<class 'numpy.ndarray'>\n"
     ]
    }
   ],
   "execution_count": 27
  },
  {
   "metadata": {
    "ExecuteTime": {
     "end_time": "2025-01-09T15:37:39.917543Z",
     "start_time": "2025-01-09T15:37:39.913790Z"
    }
   },
   "cell_type": "code",
   "source": "print(sentence_descriptions[0][0][0])",
   "id": "fd5f4a0273bbe021",
   "outputs": [
    {
     "name": "stdout",
     "output_type": "stream",
     "text": [
      "the medium sized bird has a dark grey color , a black downward curved beak , and long wings .\n"
     ]
    }
   ],
   "execution_count": 28
  },
  {
   "metadata": {
    "ExecuteTime": {
     "end_time": "2025-01-09T15:38:34.281432Z",
     "start_time": "2025-01-09T15:38:34.276900Z"
    }
   },
   "cell_type": "code",
   "source": "sd2 = sentence_descriptions.reshape(-1)",
   "id": "45215da97a438255",
   "outputs": [],
   "execution_count": 29
  },
  {
   "metadata": {
    "ExecuteTime": {
     "end_time": "2025-01-09T15:38:39.975921Z",
     "start_time": "2025-01-09T15:38:39.972757Z"
    }
   },
   "cell_type": "code",
   "source": "np.info(sd2)",
   "id": "89fa5fd5e10ba66d",
   "outputs": [
    {
     "name": "stdout",
     "output_type": "stream",
     "text": [
      "class:  ndarray\n",
      "shape:  (117880,)\n",
      "strides:  (1460,)\n",
      "itemsize:  1460\n",
      "aligned:  True\n",
      "contiguous:  True\n",
      "fortran:  True\n",
      "data pointer: 0x58338c020\n",
      "byteorder:  little\n",
      "byteswap:  False\n",
      "type: <U365\n"
     ]
    }
   ],
   "execution_count": 30
  },
  {
   "metadata": {
    "ExecuteTime": {
     "end_time": "2025-01-09T15:23:57.771937Z",
     "start_time": "2025-01-09T15:23:34.713867Z"
    }
   },
   "cell_type": "code",
   "source": [
    "# 1. Load a pretrained Sentence Transformer model\n",
    "model = SentenceTransformer(\"all-MiniLM-L6-v2\")"
   ],
   "id": "ae2acfde72672e3e",
   "outputs": [
    {
     "data": {
      "text/plain": [
       "modules.json:   0%|          | 0.00/349 [00:00<?, ?B/s]"
      ],
      "application/vnd.jupyter.widget-view+json": {
       "version_major": 2,
       "version_minor": 0,
       "model_id": "b8ea927077304b448a06f211f4c291a1"
      }
     },
     "metadata": {},
     "output_type": "display_data"
    },
    {
     "data": {
      "text/plain": [
       "config_sentence_transformers.json:   0%|          | 0.00/116 [00:00<?, ?B/s]"
      ],
      "application/vnd.jupyter.widget-view+json": {
       "version_major": 2,
       "version_minor": 0,
       "model_id": "24ce9a7987b1467799b7567501f9ca1c"
      }
     },
     "metadata": {},
     "output_type": "display_data"
    },
    {
     "data": {
      "text/plain": [
       "README.md:   0%|          | 0.00/10.7k [00:00<?, ?B/s]"
      ],
      "application/vnd.jupyter.widget-view+json": {
       "version_major": 2,
       "version_minor": 0,
       "model_id": "23cb19c3d032410f8a64f847acc8887d"
      }
     },
     "metadata": {},
     "output_type": "display_data"
    },
    {
     "data": {
      "text/plain": [
       "sentence_bert_config.json:   0%|          | 0.00/53.0 [00:00<?, ?B/s]"
      ],
      "application/vnd.jupyter.widget-view+json": {
       "version_major": 2,
       "version_minor": 0,
       "model_id": "f4c7c7360689487ab359b7581abc9574"
      }
     },
     "metadata": {},
     "output_type": "display_data"
    },
    {
     "data": {
      "text/plain": [
       "config.json:   0%|          | 0.00/612 [00:00<?, ?B/s]"
      ],
      "application/vnd.jupyter.widget-view+json": {
       "version_major": 2,
       "version_minor": 0,
       "model_id": "ecb0f9243c0c4c25a0f58563b3113077"
      }
     },
     "metadata": {},
     "output_type": "display_data"
    },
    {
     "data": {
      "text/plain": [
       "model.safetensors:   0%|          | 0.00/90.9M [00:00<?, ?B/s]"
      ],
      "application/vnd.jupyter.widget-view+json": {
       "version_major": 2,
       "version_minor": 0,
       "model_id": "151562c51ec44e18afd2542bc6da3d12"
      }
     },
     "metadata": {},
     "output_type": "display_data"
    },
    {
     "data": {
      "text/plain": [
       "tokenizer_config.json:   0%|          | 0.00/350 [00:00<?, ?B/s]"
      ],
      "application/vnd.jupyter.widget-view+json": {
       "version_major": 2,
       "version_minor": 0,
       "model_id": "3a192f617e77449db88e0abd23838012"
      }
     },
     "metadata": {},
     "output_type": "display_data"
    },
    {
     "data": {
      "text/plain": [
       "vocab.txt:   0%|          | 0.00/232k [00:00<?, ?B/s]"
      ],
      "application/vnd.jupyter.widget-view+json": {
       "version_major": 2,
       "version_minor": 0,
       "model_id": "62e6e7081203454a839e73e8c6404e74"
      }
     },
     "metadata": {},
     "output_type": "display_data"
    },
    {
     "data": {
      "text/plain": [
       "tokenizer.json:   0%|          | 0.00/466k [00:00<?, ?B/s]"
      ],
      "application/vnd.jupyter.widget-view+json": {
       "version_major": 2,
       "version_minor": 0,
       "model_id": "dbad8a181cd34a71973ef53a7bce4ba2"
      }
     },
     "metadata": {},
     "output_type": "display_data"
    },
    {
     "data": {
      "text/plain": [
       "special_tokens_map.json:   0%|          | 0.00/112 [00:00<?, ?B/s]"
      ],
      "application/vnd.jupyter.widget-view+json": {
       "version_major": 2,
       "version_minor": 0,
       "model_id": "8b241cadc63242f59f0b518f630c847d"
      }
     },
     "metadata": {},
     "output_type": "display_data"
    },
    {
     "data": {
      "text/plain": [
       "1_Pooling/config.json:   0%|          | 0.00/190 [00:00<?, ?B/s]"
      ],
      "application/vnd.jupyter.widget-view+json": {
       "version_major": 2,
       "version_minor": 0,
       "model_id": "c6b3c1287cdb49208e5bad5990fac1a7"
      }
     },
     "metadata": {},
     "output_type": "display_data"
    }
   ],
   "execution_count": 19
  },
  {
   "metadata": {
    "ExecuteTime": {
     "end_time": "2025-01-09T15:31:00.777362Z",
     "start_time": "2025-01-09T15:31:00.610016Z"
    }
   },
   "cell_type": "code",
   "source": "st_embeddings = model.encode(sentence_descriptions)",
   "id": "f5c64235a8d590a3",
   "outputs": [
    {
     "ename": "IndexError",
     "evalue": "index 1 is out of bounds for axis 0 with size 1",
     "output_type": "error",
     "traceback": [
      "\u001B[0;31m---------------------------------------------------------------------------\u001B[0m",
      "\u001B[0;31mIndexError\u001B[0m                                Traceback (most recent call last)",
      "Cell \u001B[0;32mIn[23], line 1\u001B[0m\n\u001B[0;32m----> 1\u001B[0m st_embeddings \u001B[38;5;241m=\u001B[39m \u001B[43mmodel\u001B[49m\u001B[38;5;241;43m.\u001B[39;49m\u001B[43mencode\u001B[49m\u001B[43m(\u001B[49m\u001B[43msentence_descriptions\u001B[49m\u001B[43m[\u001B[49m\u001B[38;5;241;43m0\u001B[39;49m\u001B[43m]\u001B[49m\u001B[43m)\u001B[49m\n",
      "File \u001B[0;32m~/Documents/BOUN CMPE/CMPE 537-Computer Vision/Term Project/Code/venv/lib/python3.11/site-packages/sentence_transformers/SentenceTransformer.py:591\u001B[0m, in \u001B[0;36mSentenceTransformer.encode\u001B[0;34m(self, sentences, prompt_name, prompt, batch_size, show_progress_bar, output_value, precision, convert_to_numpy, convert_to_tensor, device, normalize_embeddings, **kwargs)\u001B[0m\n\u001B[1;32m    589\u001B[0m \u001B[38;5;28;01mfor\u001B[39;00m start_index \u001B[38;5;129;01min\u001B[39;00m trange(\u001B[38;5;241m0\u001B[39m, \u001B[38;5;28mlen\u001B[39m(sentences), batch_size, desc\u001B[38;5;241m=\u001B[39m\u001B[38;5;124m\"\u001B[39m\u001B[38;5;124mBatches\u001B[39m\u001B[38;5;124m\"\u001B[39m, disable\u001B[38;5;241m=\u001B[39m\u001B[38;5;129;01mnot\u001B[39;00m show_progress_bar):\n\u001B[1;32m    590\u001B[0m     sentences_batch \u001B[38;5;241m=\u001B[39m sentences_sorted[start_index : start_index \u001B[38;5;241m+\u001B[39m batch_size]\n\u001B[0;32m--> 591\u001B[0m     features \u001B[38;5;241m=\u001B[39m \u001B[38;5;28;43mself\u001B[39;49m\u001B[38;5;241;43m.\u001B[39;49m\u001B[43mtokenize\u001B[49m\u001B[43m(\u001B[49m\u001B[43msentences_batch\u001B[49m\u001B[43m)\u001B[49m\n\u001B[1;32m    592\u001B[0m     \u001B[38;5;28;01mif\u001B[39;00m \u001B[38;5;28mself\u001B[39m\u001B[38;5;241m.\u001B[39mdevice\u001B[38;5;241m.\u001B[39mtype \u001B[38;5;241m==\u001B[39m \u001B[38;5;124m\"\u001B[39m\u001B[38;5;124mhpu\u001B[39m\u001B[38;5;124m\"\u001B[39m:\n\u001B[1;32m    593\u001B[0m         \u001B[38;5;28;01mif\u001B[39;00m \u001B[38;5;124m\"\u001B[39m\u001B[38;5;124minput_ids\u001B[39m\u001B[38;5;124m\"\u001B[39m \u001B[38;5;129;01min\u001B[39;00m features:\n",
      "File \u001B[0;32m~/Documents/BOUN CMPE/CMPE 537-Computer Vision/Term Project/Code/venv/lib/python3.11/site-packages/sentence_transformers/SentenceTransformer.py:1050\u001B[0m, in \u001B[0;36mSentenceTransformer.tokenize\u001B[0;34m(self, texts)\u001B[0m\n\u001B[1;32m   1039\u001B[0m \u001B[38;5;28;01mdef\u001B[39;00m \u001B[38;5;21mtokenize\u001B[39m(\u001B[38;5;28mself\u001B[39m, texts: \u001B[38;5;28mlist\u001B[39m[\u001B[38;5;28mstr\u001B[39m] \u001B[38;5;241m|\u001B[39m \u001B[38;5;28mlist\u001B[39m[\u001B[38;5;28mdict\u001B[39m] \u001B[38;5;241m|\u001B[39m \u001B[38;5;28mlist\u001B[39m[\u001B[38;5;28mtuple\u001B[39m[\u001B[38;5;28mstr\u001B[39m, \u001B[38;5;28mstr\u001B[39m]]) \u001B[38;5;241m-\u001B[39m\u001B[38;5;241m>\u001B[39m \u001B[38;5;28mdict\u001B[39m[\u001B[38;5;28mstr\u001B[39m, Tensor]:\n\u001B[1;32m   1040\u001B[0m \u001B[38;5;250m    \u001B[39m\u001B[38;5;124;03m\"\"\"\u001B[39;00m\n\u001B[1;32m   1041\u001B[0m \u001B[38;5;124;03m    Tokenizes the texts.\u001B[39;00m\n\u001B[1;32m   1042\u001B[0m \n\u001B[0;32m   (...)\u001B[0m\n\u001B[1;32m   1048\u001B[0m \u001B[38;5;124;03m            \"attention_mask\", and \"token_type_ids\".\u001B[39;00m\n\u001B[1;32m   1049\u001B[0m \u001B[38;5;124;03m    \"\"\"\u001B[39;00m\n\u001B[0;32m-> 1050\u001B[0m     \u001B[38;5;28;01mreturn\u001B[39;00m \u001B[38;5;28;43mself\u001B[39;49m\u001B[38;5;241;43m.\u001B[39;49m\u001B[43m_first_module\u001B[49m\u001B[43m(\u001B[49m\u001B[43m)\u001B[49m\u001B[38;5;241;43m.\u001B[39;49m\u001B[43mtokenize\u001B[49m\u001B[43m(\u001B[49m\u001B[43mtexts\u001B[49m\u001B[43m)\u001B[49m\n",
      "File \u001B[0;32m~/Documents/BOUN CMPE/CMPE 537-Computer Vision/Term Project/Code/venv/lib/python3.11/site-packages/sentence_transformers/models/Transformer.py:446\u001B[0m, in \u001B[0;36mTransformer.tokenize\u001B[0;34m(self, texts, padding)\u001B[0m\n\u001B[1;32m    444\u001B[0m     \u001B[38;5;28;01mfor\u001B[39;00m text_tuple \u001B[38;5;129;01min\u001B[39;00m texts:\n\u001B[1;32m    445\u001B[0m         batch1\u001B[38;5;241m.\u001B[39mappend(text_tuple[\u001B[38;5;241m0\u001B[39m])\n\u001B[0;32m--> 446\u001B[0m         batch2\u001B[38;5;241m.\u001B[39mappend(\u001B[43mtext_tuple\u001B[49m\u001B[43m[\u001B[49m\u001B[38;5;241;43m1\u001B[39;49m\u001B[43m]\u001B[49m)\n\u001B[1;32m    447\u001B[0m     to_tokenize \u001B[38;5;241m=\u001B[39m [batch1, batch2]\n\u001B[1;32m    449\u001B[0m \u001B[38;5;66;03m# strip\u001B[39;00m\n",
      "\u001B[0;31mIndexError\u001B[0m: index 1 is out of bounds for axis 0 with size 1"
     ]
    }
   ],
   "execution_count": 23
  },
  {
   "metadata": {
    "ExecuteTime": {
     "end_time": "2025-01-09T16:13:57.679685Z",
     "start_time": "2025-01-09T16:12:28.519607Z"
    }
   },
   "cell_type": "code",
   "source": "st_embeddings2 = model.encode(sd2)",
   "id": "9c017587cc65afed",
   "outputs": [],
   "execution_count": 39
  },
  {
   "metadata": {
    "ExecuteTime": {
     "end_time": "2025-01-09T16:18:58.970663Z",
     "start_time": "2025-01-09T16:18:58.961954Z"
    }
   },
   "cell_type": "code",
   "source": "st_embeddings_each_sentence = st_embeddings2.reshape((-1, 10, 384))",
   "id": "dcc34082b9b349ca",
   "outputs": [],
   "execution_count": 41
  },
  {
   "metadata": {
    "ExecuteTime": {
     "end_time": "2025-01-09T16:57:38.972632Z",
     "start_time": "2025-01-09T16:57:38.862226Z"
    }
   },
   "cell_type": "code",
   "source": "st_embeddings_each_sentence = st_embeddings_each_sentence.mean(axis=1)",
   "id": "354479a310e0f5fa",
   "outputs": [],
   "execution_count": 44
  },
  {
   "metadata": {
    "ExecuteTime": {
     "end_time": "2025-01-09T15:25:01.602620Z",
     "start_time": "2025-01-09T15:25:01.599446Z"
    }
   },
   "cell_type": "code",
   "source": "print(type(st_embeddings))",
   "id": "e81b8d1b3bcc2153",
   "outputs": [
    {
     "name": "stdout",
     "output_type": "stream",
     "text": [
      "<class 'numpy.ndarray'>\n"
     ]
    }
   ],
   "execution_count": 21
  },
  {
   "metadata": {
    "ExecuteTime": {
     "end_time": "2025-01-09T17:12:27.913674Z",
     "start_time": "2025-01-09T17:12:27.900994Z"
    }
   },
   "cell_type": "code",
   "source": [
    "dataset_info[\"st_embeddings_agg\"] = st_embeddings\n",
    "dataset_info[\"st_embeddings_avg\"] = st_embeddings_each_sentence"
   ],
   "id": "401357fd2ec7c03c",
   "outputs": [],
   "execution_count": 46
  },
  {
   "metadata": {
    "ExecuteTime": {
     "end_time": "2025-01-09T17:14:04.528028Z",
     "start_time": "2025-01-09T17:13:49.527092Z"
    }
   },
   "cell_type": "code",
   "source": [
    "with open(\"/Users/lkk/Documents/BOUN CMPE/CMPE 537-Computer Vision/Term Project/Code/Datasets/CUB_Paper/produced/dataset_info2.pkl\", 'wb') as f:\n",
    "    pickle.dump(dataset_info, f)"
   ],
   "id": "4c42f555eabb3320",
   "outputs": [],
   "execution_count": 48
  },
  {
   "metadata": {
    "ExecuteTime": {
     "end_time": "2025-01-09T16:57:41.980557Z",
     "start_time": "2025-01-09T16:57:41.977332Z"
    }
   },
   "cell_type": "code",
   "source": "np.info(st_embeddings_each_sentence)",
   "id": "d1fb84f7c2683099",
   "outputs": [
    {
     "name": "stdout",
     "output_type": "stream",
     "text": [
      "class:  ndarray\n",
      "shape:  (11788, 384)\n",
      "strides:  (1536, 4)\n",
      "itemsize:  4\n",
      "aligned:  True\n",
      "contiguous:  True\n",
      "fortran:  False\n",
      "data pointer: 0x47f000000\n",
      "byteorder:  little\n",
      "byteswap:  False\n",
      "type: float32\n"
     ]
    }
   ],
   "execution_count": 45
  },
  {
   "metadata": {
    "ExecuteTime": {
     "end_time": "2025-01-09T16:15:16.929625Z",
     "start_time": "2025-01-09T16:15:16.920296Z"
    }
   },
   "cell_type": "code",
   "source": "np.info(st_embeddings2)",
   "id": "109accd9a0053b48",
   "outputs": [
    {
     "name": "stdout",
     "output_type": "stream",
     "text": [
      "class:  ndarray\n",
      "shape:  (117880, 384)\n",
      "strides:  (1536, 4)\n",
      "itemsize:  4\n",
      "aligned:  True\n",
      "contiguous:  True\n",
      "fortran:  False\n",
      "data pointer: 0x48b5b0000\n",
      "byteorder:  little\n",
      "byteswap:  False\n",
      "type: float32\n"
     ]
    }
   ],
   "execution_count": 40
  },
  {
   "metadata": {
    "ExecuteTime": {
     "end_time": "2025-01-09T15:40:55.745414Z",
     "start_time": "2025-01-09T15:40:55.741661Z"
    }
   },
   "cell_type": "code",
   "source": "print(st_embeddings)",
   "id": "7f22abb7b8ac143d",
   "outputs": [
    {
     "name": "stdout",
     "output_type": "stream",
     "text": [
      "[[ 0.0754656   0.06040749 -0.00322583 ...  0.02558239 -0.04074651\n",
      "   0.03636308]\n",
      " [ 0.06060755  0.08097228 -0.00439912 ...  0.05789215 -0.03230649\n",
      "   0.01717704]\n",
      " [ 0.07071184  0.08784859  0.00772347 ...  0.02182928 -0.07949143\n",
      "   0.03584824]\n",
      " ...\n",
      " [ 0.07118085  0.0487118   0.02142552 ...  0.06075798 -0.04808564\n",
      "   0.06421276]\n",
      " [ 0.06528826  0.04926039  0.02577721 ...  0.06115411 -0.03953181\n",
      "   0.04877804]\n",
      " [ 0.07719209  0.0688199   0.02022184 ...  0.0440927  -0.05098625\n",
      "   0.0351223 ]]\n"
     ]
    }
   ],
   "execution_count": 33
  }
 ],
 "metadata": {
  "kernelspec": {
   "display_name": "Python 3",
   "language": "python",
   "name": "python3"
  },
  "language_info": {
   "codemirror_mode": {
    "name": "ipython",
    "version": 2
   },
   "file_extension": ".py",
   "mimetype": "text/x-python",
   "name": "python",
   "nbconvert_exporter": "python",
   "pygments_lexer": "ipython2",
   "version": "2.7.6"
  }
 },
 "nbformat": 4,
 "nbformat_minor": 5
}
