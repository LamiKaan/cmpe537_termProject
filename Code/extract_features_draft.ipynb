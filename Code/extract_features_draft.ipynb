{
 "cells": [
  {
   "cell_type": "code",
   "id": "initial_id",
   "metadata": {
    "collapsed": true,
    "ExecuteTime": {
     "end_time": "2025-01-09T18:17:02.471487Z",
     "start_time": "2025-01-09T18:17:02.468882Z"
    }
   },
   "source": [
    "import torch\n",
    "import torchvision\n",
    "import torchvision.transforms as transforms\n",
    "import torchvision.models as models\n",
    "from torch.utils.data import Dataset, DataLoader, TensorDataset\n",
    "import numpy as np\n",
    "import scipy.io as sio\n",
    "from torch.utils.data import TensorDataset\n",
    "import pickle"
   ],
   "outputs": [],
   "execution_count": 7
  },
  {
   "metadata": {
    "ExecuteTime": {
     "end_time": "2025-01-09T18:16:09.318129Z",
     "start_time": "2025-01-09T18:16:09.313197Z"
    }
   },
   "cell_type": "code",
   "source": [
    "def set_device():\n",
    "    \"\"\"\n",
    "    Sets the PyTorch device to CUDA, MPS, or CPU based on system availability,\n",
    "    in that priority order. Returns the device and configuration details.\n",
    "\n",
    "    Returns:\n",
    "        device (torch.device): The selected device for computation.\n",
    "        config (dict): Dictionary with details about the device and backend.\n",
    "    \"\"\"\n",
    "    if torch.cuda.is_available():\n",
    "        device = torch.device(\"cuda\")\n",
    "        config = {\n",
    "            \"backend\": \"CUDA\",\n",
    "            \"device_name\": torch.cuda.get_device_name(device),\n",
    "            \"num_devices\": torch.cuda.device_count(),\n",
    "            \"version\": torch.version.cuda,\n",
    "        }\n",
    "    elif torch.backends.mps.is_available():\n",
    "        device = torch.device(\"mps\")\n",
    "        config = {\n",
    "            \"backend\": \"MPS (Metal Performance Shaders)\",\n",
    "            \"device_name\": \"Apple GPU\",\n",
    "            \"torch_version\": torch.__version__,\n",
    "        }\n",
    "    else:\n",
    "        device = torch.device(\"cpu\")\n",
    "        config = {\n",
    "            \"backend\": \"CPU\",\n",
    "            \"device_name\": \"Generic CPU\",\n",
    "            \"torch_version\": torch.__version__,\n",
    "        }\n",
    "\n",
    "    # print(f\"Using device: {config['device_name']} ({config['backend']})\")\n",
    "    return device, config"
   ],
   "id": "5a8da8798696ecf4",
   "outputs": [],
   "execution_count": 2
  },
  {
   "metadata": {
    "ExecuteTime": {
     "end_time": "2025-01-09T18:16:23.687429Z",
     "start_time": "2025-01-09T18:16:23.649775Z"
    }
   },
   "cell_type": "code",
   "source": "device, config = set_device()",
   "id": "4e02d2b4b7ee6a54",
   "outputs": [],
   "execution_count": 3
  },
  {
   "metadata": {
    "ExecuteTime": {
     "end_time": "2025-01-09T18:16:26.237112Z",
     "start_time": "2025-01-09T18:16:24.289587Z"
    }
   },
   "cell_type": "code",
   "source": "dataset_info = sio.loadmat(\"/Users/lkk/Documents/BOUN CMPE/CMPE 537-Computer Vision/Term Project/Code/Datasets/CUB_Paper/produced/dataset_draft.mat\")",
   "id": "c22b60ef5cbc296",
   "outputs": [],
   "execution_count": 4
  },
  {
   "metadata": {
    "ExecuteTime": {
     "end_time": "2025-01-09T18:16:28.091286Z",
     "start_time": "2025-01-09T18:16:28.085383Z"
    }
   },
   "cell_type": "code",
   "source": "dataset_info.keys()",
   "id": "f23fc5f9222f3ecf",
   "outputs": [
    {
     "data": {
      "text/plain": [
       "dict_keys(['__header__', '__version__', '__globals__', 'image_files', 'features', 'labels', 'imageNumbers', 'labelNames', 'image_tensors_256', 'image_tensors_128', 'image_tensors_64', 'sentence_descriptions'])"
      ]
     },
     "execution_count": 5,
     "metadata": {},
     "output_type": "execute_result"
    }
   ],
   "execution_count": 5
  },
  {
   "metadata": {
    "ExecuteTime": {
     "end_time": "2025-01-09T18:16:52.426238Z",
     "start_time": "2025-01-09T18:16:52.423895Z"
    }
   },
   "cell_type": "code",
   "source": "image_tensors_256 = dataset_info['image_tensors_256']",
   "id": "a900d0e4e84b369c",
   "outputs": [],
   "execution_count": 6
  },
  {
   "metadata": {
    "ExecuteTime": {
     "end_time": "2025-01-09T18:17:21.106852Z",
     "start_time": "2025-01-09T18:17:21.104543Z"
    }
   },
   "cell_type": "code",
   "source": "np.info(image_tensors_256)",
   "id": "c493b776e71481b7",
   "outputs": [
    {
     "name": "stdout",
     "output_type": "stream",
     "text": [
      "class:  ndarray\n",
      "shape:  (11788, 3, 256, 256)\n",
      "strides:  (1, 11788, 35364, 9053184)\n",
      "itemsize:  1\n",
      "aligned:  True\n",
      "contiguous:  False\n",
      "fortran:  True\n",
      "data pointer: 0x310000020\n",
      "byteorder:  little\n",
      "byteswap:  False\n",
      "type: uint8\n"
     ]
    }
   ],
   "execution_count": 9
  },
  {
   "metadata": {
    "ExecuteTime": {
     "end_time": "2025-01-09T18:19:04.495108Z",
     "start_time": "2025-01-09T18:19:02.578917Z"
    }
   },
   "cell_type": "code",
   "source": [
    "with open(\"/Users/lkk/Documents/BOUN CMPE/CMPE 537-Computer Vision/Term Project/Code/Datasets/CUB_Paper/produced/image_tensors_256.pkl\", 'wb') as f:\n",
    "    pickle.dump(image_tensors_256, f)"
   ],
   "id": "a622cb2a808ebb8e",
   "outputs": [],
   "execution_count": 11
  },
  {
   "metadata": {},
   "cell_type": "code",
   "outputs": [],
   "execution_count": null,
   "source": "",
   "id": "628a60679009f331"
  },
  {
   "metadata": {},
   "cell_type": "code",
   "outputs": [],
   "execution_count": null,
   "source": "",
   "id": "3ccb1b38ddac90e6"
  },
  {
   "metadata": {
    "ExecuteTime": {
     "end_time": "2025-01-09T09:22:13.968048Z",
     "start_time": "2025-01-09T09:22:13.957944Z"
    }
   },
   "cell_type": "code",
   "source": [
    "base_keys = [\"__header__\", \"__version__\", \"__globals__\", \"image_files\", \"features\", \"labels\"]\n",
    "dataset_base = {key: dataset_info[key] for key in base_keys}"
   ],
   "id": "1d4a5be265dce2ee",
   "outputs": [],
   "execution_count": 69
  },
  {
   "metadata": {
    "ExecuteTime": {
     "end_time": "2025-01-09T08:03:25.156421Z",
     "start_time": "2025-01-09T08:03:24.110944Z"
    }
   },
   "cell_type": "code",
   "source": [
    "image_tensors = torch.tensor(dataset_info['image_tensors_256'])\n",
    "print(image_tensors.shape)\n",
    "print(image_tensors.dtype)\n",
    "print(image_tensors.device)"
   ],
   "id": "5ad4cd37cf15d7f",
   "outputs": [
    {
     "name": "stdout",
     "output_type": "stream",
     "text": [
      "torch.Size([11788, 3, 256, 256])\n",
      "torch.uint8\n",
      "cpu\n"
     ]
    }
   ],
   "execution_count": 23
  },
  {
   "metadata": {},
   "cell_type": "markdown",
   "source": "### CONVNEXT",
   "id": "2e8a4f9ca68f5bd9"
  },
  {
   "metadata": {
    "ExecuteTime": {
     "end_time": "2025-01-09T08:03:29.015144Z",
     "start_time": "2025-01-09T08:03:29.010405Z"
    }
   },
   "cell_type": "code",
   "source": "from torchvision.models import ConvNeXt, ConvNeXt_Tiny_Weights",
   "id": "dfc721a9999ae4d3",
   "outputs": [],
   "execution_count": 24
  },
  {
   "metadata": {
    "ExecuteTime": {
     "end_time": "2025-01-09T08:03:39.262817Z",
     "start_time": "2025-01-09T08:03:39.257440Z"
    }
   },
   "cell_type": "code",
   "source": "convnext_transform = ConvNeXt_Tiny_Weights.DEFAULT.transforms()",
   "id": "9bbf58c79b1fa2",
   "outputs": [],
   "execution_count": 25
  },
  {
   "metadata": {
    "ExecuteTime": {
     "end_time": "2025-01-09T08:03:56.415039Z",
     "start_time": "2025-01-09T08:03:40.676895Z"
    }
   },
   "cell_type": "code",
   "source": [
    "convnext_images = []\n",
    "for image in image_tensors:\n",
    "    trans_image = convnext_transform(image)\n",
    "    convnext_images.append(trans_image)"
   ],
   "id": "40eb3bb5c10753d9",
   "outputs": [],
   "execution_count": 26
  },
  {
   "metadata": {
    "ExecuteTime": {
     "end_time": "2025-01-09T08:04:02.597790Z",
     "start_time": "2025-01-09T08:04:02.594312Z"
    }
   },
   "cell_type": "code",
   "source": [
    "print(len(convnext_images))\n",
    "print(convnext_images[0].shape)\n",
    "print(convnext_images[0].dtype)\n",
    "print(convnext_images[0].device)"
   ],
   "id": "41a286a26db40907",
   "outputs": [
    {
     "name": "stdout",
     "output_type": "stream",
     "text": [
      "11788\n",
      "torch.Size([3, 224, 224])\n",
      "torch.float32\n",
      "cpu\n"
     ]
    }
   ],
   "execution_count": 27
  },
  {
   "metadata": {
    "ExecuteTime": {
     "end_time": "2025-01-09T08:04:19.316963Z",
     "start_time": "2025-01-09T08:04:07.214719Z"
    }
   },
   "cell_type": "code",
   "source": [
    "convnext_images = torch.stack(convnext_images, dim=0)\n",
    "print(convnext_images.shape)\n",
    "print(convnext_images.dtype)\n",
    "print(convnext_images.device)"
   ],
   "id": "3cba4fa7151da7dd",
   "outputs": [
    {
     "name": "stdout",
     "output_type": "stream",
     "text": [
      "torch.Size([11788, 3, 224, 224])\n",
      "torch.float32\n",
      "cpu\n"
     ]
    }
   ],
   "execution_count": 28
  },
  {
   "metadata": {
    "ExecuteTime": {
     "end_time": "2025-01-09T08:04:27.098231Z",
     "start_time": "2025-01-09T08:04:27.083722Z"
    }
   },
   "cell_type": "code",
   "source": "convnext_images[0]",
   "id": "11cb63849b021e9c",
   "outputs": [
    {
     "data": {
      "text/plain": [
       "tensor([[[0.8618, 0.8618, 0.8618,  ..., 0.8961, 0.9132, 0.9132],\n",
       "         [0.8961, 0.8961, 0.8789,  ..., 0.9132, 0.9303, 0.9303],\n",
       "         [0.8789, 0.8618, 0.8618,  ..., 0.9303, 0.9474, 0.9646],\n",
       "         ...,\n",
       "         [0.7419, 0.7419, 0.7591,  ..., 0.8276, 0.8789, 0.8961],\n",
       "         [0.7933, 0.7933, 0.8104,  ..., 0.9132, 0.8961, 0.8618],\n",
       "         [0.8447, 0.8447, 0.8447,  ..., 0.8789, 0.8104, 0.7419]],\n",
       "\n",
       "        [[1.0805, 1.0805, 1.0805,  ..., 1.1506, 1.1681, 1.1681],\n",
       "         [1.1155, 1.1155, 1.0980,  ..., 1.1681, 1.1856, 1.1856],\n",
       "         [1.0980, 1.0805, 1.0805,  ..., 1.1856, 1.2031, 1.2206],\n",
       "         ...,\n",
       "         [0.9580, 0.9580, 0.9755,  ..., 1.0805, 1.1155, 1.1506],\n",
       "         [1.0105, 1.0105, 1.0280,  ..., 1.1681, 1.1506, 1.1155],\n",
       "         [1.0630, 1.0630, 1.0630,  ..., 1.1506, 1.0805, 1.0105]],\n",
       "\n",
       "        [[1.2805, 1.2805, 1.2805,  ..., 1.3328, 1.3502, 1.3502],\n",
       "         [1.3154, 1.3154, 1.2980,  ..., 1.3502, 1.3677, 1.3677],\n",
       "         [1.2980, 1.2805, 1.2805,  ..., 1.3677, 1.3851, 1.4025],\n",
       "         ...,\n",
       "         [1.1934, 1.1934, 1.2108,  ..., 1.2631, 1.2980, 1.3328],\n",
       "         [1.2457, 1.2457, 1.2631,  ..., 1.3502, 1.3328, 1.2980],\n",
       "         [1.2805, 1.2805, 1.2805,  ..., 1.3154, 1.2631, 1.1934]]])"
      ]
     },
     "execution_count": 29,
     "metadata": {},
     "output_type": "execute_result"
    }
   ],
   "execution_count": 29
  },
  {
   "metadata": {
    "ExecuteTime": {
     "end_time": "2025-01-09T08:04:54.697014Z",
     "start_time": "2025-01-09T08:04:54.681961Z"
    }
   },
   "cell_type": "code",
   "source": [
    "convnext_dataset = TensorDataset(convnext_images)\n",
    "convnext_dataloader = DataLoader(convnext_dataset, batch_size=32, shuffle=False)"
   ],
   "id": "cd6665dee5e545ea",
   "outputs": [],
   "execution_count": 30
  },
  {
   "metadata": {
    "ExecuteTime": {
     "end_time": "2025-01-09T08:17:05.452411Z",
     "start_time": "2025-01-09T08:17:04.825025Z"
    }
   },
   "cell_type": "code",
   "source": "convnext_model = torchvision.models.convnext_tiny(weights=ConvNeXt_Tiny_Weights.DEFAULT)",
   "id": "b4022a7196bf0b1b",
   "outputs": [],
   "execution_count": 40
  },
  {
   "metadata": {
    "ExecuteTime": {
     "end_time": "2025-01-09T08:18:12.243266Z",
     "start_time": "2025-01-09T08:18:12.240293Z"
    }
   },
   "cell_type": "code",
   "source": [
    "convnext_feature_extractor = torch.nn.Sequential(\n",
    "    *list(convnext_model.children())[:-1],  # Keep everything except the classifier block\n",
    "    list(convnext_model.children())[-1][0]  # Add only the LayerNorm2d layer from the classifier block\n",
    ")"
   ],
   "id": "6af908de265630dc",
   "outputs": [],
   "execution_count": 42
  },
  {
   "metadata": {
    "ExecuteTime": {
     "end_time": "2025-01-09T08:18:13.892451Z",
     "start_time": "2025-01-09T08:18:13.887129Z"
    }
   },
   "cell_type": "code",
   "source": "convnext_feature_extractor.eval()",
   "id": "b37f0bea331c16ed",
   "outputs": [
    {
     "data": {
      "text/plain": [
       "Sequential(\n",
       "  (0): Sequential(\n",
       "    (0): Conv2dNormActivation(\n",
       "      (0): Conv2d(3, 96, kernel_size=(4, 4), stride=(4, 4))\n",
       "      (1): LayerNorm2d((96,), eps=1e-06, elementwise_affine=True)\n",
       "    )\n",
       "    (1): Sequential(\n",
       "      (0): CNBlock(\n",
       "        (block): Sequential(\n",
       "          (0): Conv2d(96, 96, kernel_size=(7, 7), stride=(1, 1), padding=(3, 3), groups=96)\n",
       "          (1): Permute()\n",
       "          (2): LayerNorm((96,), eps=1e-06, elementwise_affine=True)\n",
       "          (3): Linear(in_features=96, out_features=384, bias=True)\n",
       "          (4): GELU(approximate='none')\n",
       "          (5): Linear(in_features=384, out_features=96, bias=True)\n",
       "          (6): Permute()\n",
       "        )\n",
       "        (stochastic_depth): StochasticDepth(p=0.0, mode=row)\n",
       "      )\n",
       "      (1): CNBlock(\n",
       "        (block): Sequential(\n",
       "          (0): Conv2d(96, 96, kernel_size=(7, 7), stride=(1, 1), padding=(3, 3), groups=96)\n",
       "          (1): Permute()\n",
       "          (2): LayerNorm((96,), eps=1e-06, elementwise_affine=True)\n",
       "          (3): Linear(in_features=96, out_features=384, bias=True)\n",
       "          (4): GELU(approximate='none')\n",
       "          (5): Linear(in_features=384, out_features=96, bias=True)\n",
       "          (6): Permute()\n",
       "        )\n",
       "        (stochastic_depth): StochasticDepth(p=0.0058823529411764705, mode=row)\n",
       "      )\n",
       "      (2): CNBlock(\n",
       "        (block): Sequential(\n",
       "          (0): Conv2d(96, 96, kernel_size=(7, 7), stride=(1, 1), padding=(3, 3), groups=96)\n",
       "          (1): Permute()\n",
       "          (2): LayerNorm((96,), eps=1e-06, elementwise_affine=True)\n",
       "          (3): Linear(in_features=96, out_features=384, bias=True)\n",
       "          (4): GELU(approximate='none')\n",
       "          (5): Linear(in_features=384, out_features=96, bias=True)\n",
       "          (6): Permute()\n",
       "        )\n",
       "        (stochastic_depth): StochasticDepth(p=0.011764705882352941, mode=row)\n",
       "      )\n",
       "    )\n",
       "    (2): Sequential(\n",
       "      (0): LayerNorm2d((96,), eps=1e-06, elementwise_affine=True)\n",
       "      (1): Conv2d(96, 192, kernel_size=(2, 2), stride=(2, 2))\n",
       "    )\n",
       "    (3): Sequential(\n",
       "      (0): CNBlock(\n",
       "        (block): Sequential(\n",
       "          (0): Conv2d(192, 192, kernel_size=(7, 7), stride=(1, 1), padding=(3, 3), groups=192)\n",
       "          (1): Permute()\n",
       "          (2): LayerNorm((192,), eps=1e-06, elementwise_affine=True)\n",
       "          (3): Linear(in_features=192, out_features=768, bias=True)\n",
       "          (4): GELU(approximate='none')\n",
       "          (5): Linear(in_features=768, out_features=192, bias=True)\n",
       "          (6): Permute()\n",
       "        )\n",
       "        (stochastic_depth): StochasticDepth(p=0.017647058823529415, mode=row)\n",
       "      )\n",
       "      (1): CNBlock(\n",
       "        (block): Sequential(\n",
       "          (0): Conv2d(192, 192, kernel_size=(7, 7), stride=(1, 1), padding=(3, 3), groups=192)\n",
       "          (1): Permute()\n",
       "          (2): LayerNorm((192,), eps=1e-06, elementwise_affine=True)\n",
       "          (3): Linear(in_features=192, out_features=768, bias=True)\n",
       "          (4): GELU(approximate='none')\n",
       "          (5): Linear(in_features=768, out_features=192, bias=True)\n",
       "          (6): Permute()\n",
       "        )\n",
       "        (stochastic_depth): StochasticDepth(p=0.023529411764705882, mode=row)\n",
       "      )\n",
       "      (2): CNBlock(\n",
       "        (block): Sequential(\n",
       "          (0): Conv2d(192, 192, kernel_size=(7, 7), stride=(1, 1), padding=(3, 3), groups=192)\n",
       "          (1): Permute()\n",
       "          (2): LayerNorm((192,), eps=1e-06, elementwise_affine=True)\n",
       "          (3): Linear(in_features=192, out_features=768, bias=True)\n",
       "          (4): GELU(approximate='none')\n",
       "          (5): Linear(in_features=768, out_features=192, bias=True)\n",
       "          (6): Permute()\n",
       "        )\n",
       "        (stochastic_depth): StochasticDepth(p=0.029411764705882353, mode=row)\n",
       "      )\n",
       "    )\n",
       "    (4): Sequential(\n",
       "      (0): LayerNorm2d((192,), eps=1e-06, elementwise_affine=True)\n",
       "      (1): Conv2d(192, 384, kernel_size=(2, 2), stride=(2, 2))\n",
       "    )\n",
       "    (5): Sequential(\n",
       "      (0): CNBlock(\n",
       "        (block): Sequential(\n",
       "          (0): Conv2d(384, 384, kernel_size=(7, 7), stride=(1, 1), padding=(3, 3), groups=384)\n",
       "          (1): Permute()\n",
       "          (2): LayerNorm((384,), eps=1e-06, elementwise_affine=True)\n",
       "          (3): Linear(in_features=384, out_features=1536, bias=True)\n",
       "          (4): GELU(approximate='none')\n",
       "          (5): Linear(in_features=1536, out_features=384, bias=True)\n",
       "          (6): Permute()\n",
       "        )\n",
       "        (stochastic_depth): StochasticDepth(p=0.03529411764705883, mode=row)\n",
       "      )\n",
       "      (1): CNBlock(\n",
       "        (block): Sequential(\n",
       "          (0): Conv2d(384, 384, kernel_size=(7, 7), stride=(1, 1), padding=(3, 3), groups=384)\n",
       "          (1): Permute()\n",
       "          (2): LayerNorm((384,), eps=1e-06, elementwise_affine=True)\n",
       "          (3): Linear(in_features=384, out_features=1536, bias=True)\n",
       "          (4): GELU(approximate='none')\n",
       "          (5): Linear(in_features=1536, out_features=384, bias=True)\n",
       "          (6): Permute()\n",
       "        )\n",
       "        (stochastic_depth): StochasticDepth(p=0.0411764705882353, mode=row)\n",
       "      )\n",
       "      (2): CNBlock(\n",
       "        (block): Sequential(\n",
       "          (0): Conv2d(384, 384, kernel_size=(7, 7), stride=(1, 1), padding=(3, 3), groups=384)\n",
       "          (1): Permute()\n",
       "          (2): LayerNorm((384,), eps=1e-06, elementwise_affine=True)\n",
       "          (3): Linear(in_features=384, out_features=1536, bias=True)\n",
       "          (4): GELU(approximate='none')\n",
       "          (5): Linear(in_features=1536, out_features=384, bias=True)\n",
       "          (6): Permute()\n",
       "        )\n",
       "        (stochastic_depth): StochasticDepth(p=0.047058823529411764, mode=row)\n",
       "      )\n",
       "      (3): CNBlock(\n",
       "        (block): Sequential(\n",
       "          (0): Conv2d(384, 384, kernel_size=(7, 7), stride=(1, 1), padding=(3, 3), groups=384)\n",
       "          (1): Permute()\n",
       "          (2): LayerNorm((384,), eps=1e-06, elementwise_affine=True)\n",
       "          (3): Linear(in_features=384, out_features=1536, bias=True)\n",
       "          (4): GELU(approximate='none')\n",
       "          (5): Linear(in_features=1536, out_features=384, bias=True)\n",
       "          (6): Permute()\n",
       "        )\n",
       "        (stochastic_depth): StochasticDepth(p=0.052941176470588235, mode=row)\n",
       "      )\n",
       "      (4): CNBlock(\n",
       "        (block): Sequential(\n",
       "          (0): Conv2d(384, 384, kernel_size=(7, 7), stride=(1, 1), padding=(3, 3), groups=384)\n",
       "          (1): Permute()\n",
       "          (2): LayerNorm((384,), eps=1e-06, elementwise_affine=True)\n",
       "          (3): Linear(in_features=384, out_features=1536, bias=True)\n",
       "          (4): GELU(approximate='none')\n",
       "          (5): Linear(in_features=1536, out_features=384, bias=True)\n",
       "          (6): Permute()\n",
       "        )\n",
       "        (stochastic_depth): StochasticDepth(p=0.058823529411764705, mode=row)\n",
       "      )\n",
       "      (5): CNBlock(\n",
       "        (block): Sequential(\n",
       "          (0): Conv2d(384, 384, kernel_size=(7, 7), stride=(1, 1), padding=(3, 3), groups=384)\n",
       "          (1): Permute()\n",
       "          (2): LayerNorm((384,), eps=1e-06, elementwise_affine=True)\n",
       "          (3): Linear(in_features=384, out_features=1536, bias=True)\n",
       "          (4): GELU(approximate='none')\n",
       "          (5): Linear(in_features=1536, out_features=384, bias=True)\n",
       "          (6): Permute()\n",
       "        )\n",
       "        (stochastic_depth): StochasticDepth(p=0.06470588235294118, mode=row)\n",
       "      )\n",
       "      (6): CNBlock(\n",
       "        (block): Sequential(\n",
       "          (0): Conv2d(384, 384, kernel_size=(7, 7), stride=(1, 1), padding=(3, 3), groups=384)\n",
       "          (1): Permute()\n",
       "          (2): LayerNorm((384,), eps=1e-06, elementwise_affine=True)\n",
       "          (3): Linear(in_features=384, out_features=1536, bias=True)\n",
       "          (4): GELU(approximate='none')\n",
       "          (5): Linear(in_features=1536, out_features=384, bias=True)\n",
       "          (6): Permute()\n",
       "        )\n",
       "        (stochastic_depth): StochasticDepth(p=0.07058823529411766, mode=row)\n",
       "      )\n",
       "      (7): CNBlock(\n",
       "        (block): Sequential(\n",
       "          (0): Conv2d(384, 384, kernel_size=(7, 7), stride=(1, 1), padding=(3, 3), groups=384)\n",
       "          (1): Permute()\n",
       "          (2): LayerNorm((384,), eps=1e-06, elementwise_affine=True)\n",
       "          (3): Linear(in_features=384, out_features=1536, bias=True)\n",
       "          (4): GELU(approximate='none')\n",
       "          (5): Linear(in_features=1536, out_features=384, bias=True)\n",
       "          (6): Permute()\n",
       "        )\n",
       "        (stochastic_depth): StochasticDepth(p=0.07647058823529412, mode=row)\n",
       "      )\n",
       "      (8): CNBlock(\n",
       "        (block): Sequential(\n",
       "          (0): Conv2d(384, 384, kernel_size=(7, 7), stride=(1, 1), padding=(3, 3), groups=384)\n",
       "          (1): Permute()\n",
       "          (2): LayerNorm((384,), eps=1e-06, elementwise_affine=True)\n",
       "          (3): Linear(in_features=384, out_features=1536, bias=True)\n",
       "          (4): GELU(approximate='none')\n",
       "          (5): Linear(in_features=1536, out_features=384, bias=True)\n",
       "          (6): Permute()\n",
       "        )\n",
       "        (stochastic_depth): StochasticDepth(p=0.0823529411764706, mode=row)\n",
       "      )\n",
       "    )\n",
       "    (6): Sequential(\n",
       "      (0): LayerNorm2d((384,), eps=1e-06, elementwise_affine=True)\n",
       "      (1): Conv2d(384, 768, kernel_size=(2, 2), stride=(2, 2))\n",
       "    )\n",
       "    (7): Sequential(\n",
       "      (0): CNBlock(\n",
       "        (block): Sequential(\n",
       "          (0): Conv2d(768, 768, kernel_size=(7, 7), stride=(1, 1), padding=(3, 3), groups=768)\n",
       "          (1): Permute()\n",
       "          (2): LayerNorm((768,), eps=1e-06, elementwise_affine=True)\n",
       "          (3): Linear(in_features=768, out_features=3072, bias=True)\n",
       "          (4): GELU(approximate='none')\n",
       "          (5): Linear(in_features=3072, out_features=768, bias=True)\n",
       "          (6): Permute()\n",
       "        )\n",
       "        (stochastic_depth): StochasticDepth(p=0.08823529411764706, mode=row)\n",
       "      )\n",
       "      (1): CNBlock(\n",
       "        (block): Sequential(\n",
       "          (0): Conv2d(768, 768, kernel_size=(7, 7), stride=(1, 1), padding=(3, 3), groups=768)\n",
       "          (1): Permute()\n",
       "          (2): LayerNorm((768,), eps=1e-06, elementwise_affine=True)\n",
       "          (3): Linear(in_features=768, out_features=3072, bias=True)\n",
       "          (4): GELU(approximate='none')\n",
       "          (5): Linear(in_features=3072, out_features=768, bias=True)\n",
       "          (6): Permute()\n",
       "        )\n",
       "        (stochastic_depth): StochasticDepth(p=0.09411764705882353, mode=row)\n",
       "      )\n",
       "      (2): CNBlock(\n",
       "        (block): Sequential(\n",
       "          (0): Conv2d(768, 768, kernel_size=(7, 7), stride=(1, 1), padding=(3, 3), groups=768)\n",
       "          (1): Permute()\n",
       "          (2): LayerNorm((768,), eps=1e-06, elementwise_affine=True)\n",
       "          (3): Linear(in_features=768, out_features=3072, bias=True)\n",
       "          (4): GELU(approximate='none')\n",
       "          (5): Linear(in_features=3072, out_features=768, bias=True)\n",
       "          (6): Permute()\n",
       "        )\n",
       "        (stochastic_depth): StochasticDepth(p=0.1, mode=row)\n",
       "      )\n",
       "    )\n",
       "  )\n",
       "  (1): AdaptiveAvgPool2d(output_size=1)\n",
       "  (2): LayerNorm2d((768,), eps=1e-06, elementwise_affine=True)\n",
       ")"
      ]
     },
     "execution_count": 43,
     "metadata": {},
     "output_type": "execute_result"
    }
   ],
   "execution_count": 43
  },
  {
   "metadata": {
    "ExecuteTime": {
     "end_time": "2025-01-09T08:33:10.298622Z",
     "start_time": "2025-01-09T08:21:15.673920Z"
    }
   },
   "cell_type": "code",
   "source": [
    "convnext_features = []\n",
    "with torch.no_grad():\n",
    "    for batch in convnext_dataloader:\n",
    "        image_batch = batch[0]\n",
    "        batch_features = convnext_feature_extractor(image_batch)\n",
    "        convnext_features.append(batch_features)"
   ],
   "id": "6a88eadf03d1fee9",
   "outputs": [],
   "execution_count": 44
  },
  {
   "metadata": {
    "ExecuteTime": {
     "end_time": "2025-01-09T08:48:54.066862Z",
     "start_time": "2025-01-09T08:48:54.037668Z"
    }
   },
   "cell_type": "code",
   "source": "convnext_features = torch.cat(convnext_features, dim=0)",
   "id": "8b03dc9d85ee9a90",
   "outputs": [],
   "execution_count": 55
  },
  {
   "metadata": {
    "ExecuteTime": {
     "end_time": "2025-01-09T08:50:13.541618Z",
     "start_time": "2025-01-09T08:50:13.536357Z"
    }
   },
   "cell_type": "code",
   "source": "convnext_features = torch.squeeze(convnext_features)",
   "id": "84173e1952364a0f",
   "outputs": [],
   "execution_count": 58
  },
  {
   "metadata": {
    "ExecuteTime": {
     "end_time": "2025-01-09T08:51:49.452978Z",
     "start_time": "2025-01-09T08:51:49.451053Z"
    }
   },
   "cell_type": "code",
   "source": [
    "print(type(dataset_info[\"features\"]))\n",
    "print(dataset_info[\"features\"].shape)\n",
    "print(dataset_info[\"features\"].dtype)"
   ],
   "id": "f2cfda14ddfd42ae",
   "outputs": [
    {
     "name": "stdout",
     "output_type": "stream",
     "text": [
      "<class 'numpy.ndarray'>\n",
      "(2048, 11788)\n",
      "float64\n"
     ]
    }
   ],
   "execution_count": 61
  },
  {
   "metadata": {
    "ExecuteTime": {
     "end_time": "2025-01-09T08:49:58.454530Z",
     "start_time": "2025-01-09T08:49:58.445794Z"
    }
   },
   "cell_type": "code",
   "source": "print(torch.squeeze(convnext_features).shape)",
   "id": "801a020fee95bda3",
   "outputs": [
    {
     "name": "stdout",
     "output_type": "stream",
     "text": [
      "torch.Size([11788, 768])\n"
     ]
    }
   ],
   "execution_count": 57
  },
  {
   "metadata": {
    "ExecuteTime": {
     "end_time": "2025-01-09T09:05:30.585740Z",
     "start_time": "2025-01-09T09:05:30.580315Z"
    }
   },
   "cell_type": "code",
   "source": "features = convnext_features.numpy()",
   "id": "76e37af9b81df2d6",
   "outputs": [],
   "execution_count": 65
  },
  {
   "metadata": {
    "ExecuteTime": {
     "end_time": "2025-01-09T09:09:34.748577Z",
     "start_time": "2025-01-09T09:09:34.745123Z"
    }
   },
   "cell_type": "code",
   "source": "np.info(features)",
   "id": "f8eb7fcd28721254",
   "outputs": [
    {
     "name": "stdout",
     "output_type": "stream",
     "text": [
      "class:  ndarray\n",
      "shape:  (768, 11788)\n",
      "strides:  (8, 6144)\n",
      "itemsize:  8\n",
      "aligned:  True\n",
      "contiguous:  False\n",
      "fortran:  True\n",
      "data pointer: 0x580828000\n",
      "byteorder:  little\n",
      "byteswap:  False\n",
      "type: float64\n"
     ]
    }
   ],
   "execution_count": 68
  },
  {
   "metadata": {
    "ExecuteTime": {
     "end_time": "2025-01-09T09:09:30.512475Z",
     "start_time": "2025-01-09T09:09:30.455474Z"
    }
   },
   "cell_type": "code",
   "source": "features = features.astype(np.float64).transpose()",
   "id": "29960d1a173bb34a",
   "outputs": [],
   "execution_count": 67
  },
  {
   "metadata": {
    "ExecuteTime": {
     "end_time": "2025-01-09T09:25:20.579787Z",
     "start_time": "2025-01-09T09:25:20.574869Z"
    }
   },
   "cell_type": "code",
   "source": [
    "convnext_dataset = dataset_base.copy()\n",
    "convnext_dataset[\"features\"] = features"
   ],
   "id": "b7abb07a24279b8d",
   "outputs": [],
   "execution_count": 71
  },
  {
   "metadata": {
    "ExecuteTime": {
     "end_time": "2025-01-09T09:26:07.493591Z",
     "start_time": "2025-01-09T09:26:07.489108Z"
    }
   },
   "cell_type": "code",
   "source": "convnext_dataset.keys()",
   "id": "dc2c06d306f98fed",
   "outputs": [
    {
     "data": {
      "text/plain": [
       "dict_keys(['__header__', '__version__', '__globals__', 'image_files', 'features', 'labels'])"
      ]
     },
     "execution_count": 73,
     "metadata": {},
     "output_type": "execute_result"
    }
   ],
   "execution_count": 73
  },
  {
   "metadata": {
    "ExecuteTime": {
     "end_time": "2025-01-09T09:33:43.735549Z",
     "start_time": "2025-01-09T09:33:43.332105Z"
    }
   },
   "cell_type": "code",
   "source": "sio.savemat(\"/Users/lkk/Documents/BOUN CMPE/CMPE 537-Computer Vision/Term Project/Code/Datasets/CUB_Paper/convnext.mat\", convnext_dataset)",
   "id": "10115da29a459d72",
   "outputs": [],
   "execution_count": 74
  },
  {
   "metadata": {},
   "cell_type": "code",
   "outputs": [],
   "execution_count": null,
   "source": "",
   "id": "fb5f1cb1124fc1e6"
  },
  {
   "metadata": {},
   "cell_type": "code",
   "outputs": [],
   "execution_count": null,
   "source": "",
   "id": "4c4d5f4bbb0440e1"
  },
  {
   "metadata": {},
   "cell_type": "code",
   "outputs": [],
   "execution_count": null,
   "source": "",
   "id": "264965a63435557f"
  },
  {
   "metadata": {},
   "cell_type": "code",
   "outputs": [],
   "execution_count": null,
   "source": "",
   "id": "ffd65bd3dc5ad18c"
  },
  {
   "metadata": {},
   "cell_type": "code",
   "outputs": [],
   "execution_count": null,
   "source": "",
   "id": "a2182581eb5378cc"
  },
  {
   "metadata": {},
   "cell_type": "code",
   "outputs": [],
   "execution_count": null,
   "source": "",
   "id": "dbec7a9651077fc4"
  },
  {
   "metadata": {
    "ExecuteTime": {
     "end_time": "2025-01-09T09:35:04.544697Z",
     "start_time": "2025-01-09T09:35:04.538772Z"
    }
   },
   "cell_type": "code",
   "source": "convnext_features[0]",
   "id": "48faf248bdf2bc4b",
   "outputs": [
    {
     "data": {
      "text/plain": [
       "tensor([ 4.5726e-01,  1.4883e-01, -9.6176e-02, -6.8534e-01, -6.6053e-02,\n",
       "        -4.7127e-01, -3.4878e-01,  5.2725e-02,  7.1465e-05,  2.9067e-01,\n",
       "         1.1392e-01,  3.5608e-01, -3.4380e-01, -8.0767e-02,  4.4609e-01,\n",
       "         4.4047e-01,  3.7574e-01, -2.0576e-01, -2.5488e-01,  6.8414e-01,\n",
       "         7.9678e-02, -2.3107e-01,  3.5366e-01,  7.9906e-01, -1.1060e+00,\n",
       "         3.9207e-02, -1.0121e-01,  1.9065e-01,  5.1355e-01,  3.7845e-01,\n",
       "         2.2630e-01,  4.4053e-01,  1.1746e-01,  7.8322e-01,  4.1385e-01,\n",
       "         4.3613e-01,  2.5520e-01, -2.1951e-01, -8.9570e-02, -1.5697e-01,\n",
       "         3.3415e-01, -4.1315e-01, -4.0601e-02,  6.3488e-01,  3.5650e-01,\n",
       "         3.6608e-01, -3.3946e-01, -5.0042e-02, -1.5461e-01, -3.8677e-01,\n",
       "        -8.0369e-01, -1.1937e-02, -6.4231e-01, -1.1751e-01, -2.4048e-01,\n",
       "        -1.2101e-01, -2.2544e-01, -7.0509e-03, -4.4976e-01, -4.9131e-01,\n",
       "        -5.1578e-01, -2.4659e-01,  1.9713e-02, -3.3780e-01, -2.7405e-02,\n",
       "        -3.4229e-01, -7.1477e-01,  9.9296e-01, -6.2233e-01, -4.5550e-02,\n",
       "        -6.3381e-02, -1.3416e-01,  2.4972e-01,  2.0472e-01, -9.4918e-03,\n",
       "        -2.7556e-01,  5.6593e-02, -6.7379e-01,  7.5464e-02, -4.4488e-01,\n",
       "         6.2195e-02,  3.2432e-01,  3.6125e-01, -8.6602e-02, -2.5015e-01,\n",
       "         5.0025e-01,  7.4997e-01, -5.3674e-01, -4.7974e-01, -7.1742e-02,\n",
       "        -5.2033e-01, -2.2235e-01,  2.1922e-01,  7.2659e-02,  1.9068e-01,\n",
       "        -4.6957e-02, -7.1440e-02, -2.1381e-01, -1.5759e-01, -5.8774e-01,\n",
       "         2.1928e-01,  4.7504e-02,  1.7420e-01, -3.7664e-01, -4.4219e-01,\n",
       "        -2.2674e-02,  3.2742e-01, -4.9348e-02, -3.2659e-02,  7.5008e-02,\n",
       "        -1.2069e-01, -2.7653e-01,  2.1203e-01, -4.9729e-02, -5.6298e-01,\n",
       "        -1.4366e-01, -6.3824e-02, -5.4046e-01,  3.6129e-01, -4.5482e-02,\n",
       "         5.5521e-01, -1.5234e-01,  3.1439e-01,  3.2578e-01,  1.0510e-01,\n",
       "        -5.8204e-02,  9.9654e-01, -3.3808e-01,  5.2045e-01, -5.6915e-01,\n",
       "        -7.6847e-02,  1.7555e-02,  1.4345e-01, -3.7830e-01, -5.0799e-01,\n",
       "         5.1691e-01, -4.1772e-01,  1.7457e-01, -6.9028e-02,  2.3257e-01,\n",
       "        -4.1090e-01, -2.5902e-01, -2.5965e-01, -1.8897e-01,  2.7922e-01,\n",
       "        -7.2142e-02, -1.0862e-01, -2.1295e-01,  4.4447e-01, -2.0052e-01,\n",
       "         2.9110e-01,  3.1977e-01, -2.0970e-01, -1.7296e-01,  3.3641e-01,\n",
       "         1.9037e-01,  2.3191e-01,  1.8972e-01,  5.4970e-01, -3.6643e-01,\n",
       "         1.3802e-01, -3.9967e-01, -2.3014e-01, -2.1024e-01,  8.1719e-01,\n",
       "         4.1153e-01, -1.0774e-01, -5.0103e-01,  4.1114e-01, -2.6871e-01,\n",
       "        -2.2425e-01, -2.0656e-01, -3.0422e-01,  3.9615e-01, -6.6674e-01,\n",
       "         4.7672e-02, -5.1475e-03, -2.6410e-01, -3.0509e-01,  1.3261e-01,\n",
       "        -3.2401e-01, -2.5280e-01,  1.2943e-01, -2.4021e-01, -4.3361e-01,\n",
       "         2.2346e-01,  3.7021e-01, -2.5193e-01,  2.8793e-01, -5.3530e-01,\n",
       "         3.2945e-02, -8.8192e-02, -6.2940e-01,  5.4248e-01, -3.9113e-01,\n",
       "        -5.7495e-01, -4.2049e-01, -3.9910e-01,  9.9004e-02,  3.8694e-02,\n",
       "         2.5847e-01, -4.1326e-01, -5.3386e-01, -3.0722e-01,  2.4142e-01,\n",
       "         1.0833e-01, -2.4191e-01, -1.5068e-01, -1.7581e-01,  8.7068e-02,\n",
       "         2.3081e-01, -4.4673e-03,  7.0805e-01, -3.5099e-01,  2.0895e-01,\n",
       "         2.6761e-01, -4.7272e-02, -3.4171e-02, -2.0049e-01,  4.0386e-01,\n",
       "         2.3682e-02, -6.7094e-02,  1.9817e-01, -1.1552e-01,  1.9333e-01,\n",
       "         6.3318e-01, -1.8461e-01,  3.9011e-01,  3.2100e-01, -1.5073e-01,\n",
       "        -2.3194e-01,  9.9491e-02, -5.6245e-01,  5.2788e-01,  4.5257e-01,\n",
       "        -1.0161e-01, -6.6249e-01,  6.7116e-02,  5.7794e-01, -7.6985e-01,\n",
       "         3.4690e-01, -3.8021e-01, -2.4960e-01,  1.9956e-01,  2.1165e-01,\n",
       "         2.3141e-02, -4.5925e-01,  1.4615e-02, -1.6509e-01, -8.5536e-02,\n",
       "        -3.2514e-02, -1.4558e-01,  4.9485e-01,  5.3676e-01,  2.1672e-01,\n",
       "        -1.9044e-02,  5.8806e-01, -3.4240e-01, -4.4094e-01, -1.5935e-01,\n",
       "         5.2283e-01,  2.7745e-01, -1.9904e-01,  5.0640e-01,  1.7119e-01,\n",
       "        -4.9029e-01, -1.8073e-04,  1.2052e-01, -3.0396e-01, -9.5041e-02,\n",
       "        -4.0379e-01, -4.2588e-01, -3.1993e-01,  2.6022e-01,  4.2417e-02,\n",
       "         4.7942e-01,  1.6643e-01,  6.9440e-02,  4.1389e-02,  4.8546e-01,\n",
       "        -8.8897e-02,  1.9293e-01, -4.9342e-01,  1.7358e-01, -7.7309e-01,\n",
       "         7.0155e-02, -2.7466e-02, -1.0488e-01,  4.5639e-01,  1.6224e-01,\n",
       "         3.1278e-02,  4.3763e-01, -1.6094e-01, -1.5727e-01,  3.5341e-01,\n",
       "         2.9560e-01, -6.1238e-02,  2.5005e-01, -2.9648e-01,  1.7237e-01,\n",
       "        -1.0041e-01, -3.1796e-02,  4.8689e-01,  2.0748e-01,  8.4542e-02,\n",
       "        -2.4443e-01, -3.4273e-01,  6.1519e-02, -3.7184e-01, -6.5862e-01,\n",
       "        -3.2584e-02, -2.5642e-01, -9.4392e-02,  3.7450e-01,  8.1247e-01,\n",
       "        -5.6272e-01,  4.3677e-01, -1.9834e-01,  1.2688e-01, -1.4044e-01,\n",
       "         6.2643e-01, -1.3353e-01,  4.9024e-02, -7.2639e-02,  1.9771e-01,\n",
       "        -4.1303e-01,  2.7267e-01,  1.3505e-01,  3.8124e-01, -2.2013e-01,\n",
       "         1.8233e-01, -3.7282e-02, -4.0246e-02, -2.7220e-01,  1.8517e-02,\n",
       "        -8.3489e-02, -4.4583e-01,  1.4863e-01,  4.5588e-02,  3.1827e-01,\n",
       "        -4.0454e-01,  3.9271e-01, -2.0939e-01,  3.4766e-01, -3.2946e-02,\n",
       "         3.5546e-01,  3.7024e-01,  1.8710e-01, -3.3781e-01,  2.0841e-02,\n",
       "         1.0407e-01, -1.0696e-01,  2.7437e-01,  1.9753e-01, -3.9601e-01,\n",
       "         7.3126e-01,  1.4517e-01, -1.4630e-02,  5.4834e-01,  1.1039e-01,\n",
       "         9.2316e-02, -2.7263e-01, -3.7355e-01,  1.1248e-01,  1.4356e-01,\n",
       "         2.6222e-02,  6.1289e-01,  7.7412e-02, -4.7302e-01, -7.2522e-02,\n",
       "        -2.8189e-01,  1.7240e-01, -2.9529e-01, -3.7208e-02,  3.0022e-01,\n",
       "        -2.0271e-01,  6.1025e-01,  1.3191e-01, -2.8181e-01, -1.1268e-01,\n",
       "         1.9168e-02,  6.3485e-01, -2.2411e-01, -2.9515e-01, -1.2204e-01,\n",
       "        -1.2609e-01, -6.6707e-02, -6.5653e-01, -2.8081e-01,  2.4257e-01,\n",
       "        -1.7468e-01,  2.1155e-01,  1.8604e-01, -2.0801e-01, -3.6633e-01,\n",
       "        -4.5713e-02, -3.2937e-01, -3.5996e-02,  7.7200e-02,  2.2860e-01,\n",
       "         4.5386e-01,  1.3729e+00,  9.9296e-01,  8.9325e-02, -5.1415e-01,\n",
       "         1.2117e-01,  4.7876e-01,  7.2673e-01, -5.2519e-02, -3.8058e-01,\n",
       "         3.0130e-02, -3.2988e-01,  1.1150e-01, -4.8286e-01,  5.6213e-02,\n",
       "        -1.1832e-01, -4.5728e-02,  1.9820e-01,  3.4681e-01,  5.0163e-01,\n",
       "        -4.0925e-01,  4.7121e-01, -1.4806e-02, -2.4837e-01, -4.7434e-02,\n",
       "         4.4022e-01,  3.8433e-01,  3.3574e-01, -2.2879e-01,  1.0893e+00,\n",
       "        -4.6137e-01, -3.0533e-01,  3.1641e-01,  3.8341e-02, -4.6995e-02,\n",
       "        -4.4792e-01,  3.3625e-02, -5.8995e-01, -2.8827e-01,  1.0395e-01,\n",
       "        -2.6746e-01,  4.6820e-01, -3.1220e-01,  2.7847e-01,  2.1096e-02,\n",
       "         4.7724e-01,  1.6526e-01, -1.2248e-01,  4.0025e-01,  8.5962e-03,\n",
       "         4.3844e-01, -6.7685e-01, -3.3133e-01,  4.6388e-01, -7.8342e-01,\n",
       "         1.8068e-01, -4.1538e-01, -1.5632e-01,  8.0618e-02, -2.5151e-01,\n",
       "         1.3420e-01, -4.9830e-02,  5.6575e-03, -5.2978e-01, -1.1528e-01,\n",
       "        -2.0074e-01,  8.1967e-01, -7.3813e-03, -3.4420e-01,  3.3104e-01,\n",
       "         2.5343e-01,  3.5474e-01, -1.1022e-01,  1.7313e-02, -1.0469e+00,\n",
       "         7.2666e-02,  2.6929e-01,  1.0821e-01, -1.2927e-01,  2.6580e-02,\n",
       "         1.1344e-01, -6.4118e-02,  7.2489e-02,  2.9757e-01, -1.4687e-01,\n",
       "         2.4203e-02, -1.9332e-01,  1.1591e-01,  1.3944e-01, -1.9960e-01,\n",
       "         1.5833e-01,  1.0680e+00,  5.8180e-01,  3.4627e-02,  5.2766e-01,\n",
       "         9.1532e-01, -7.1674e-01, -2.6219e-01, -8.2634e-01, -2.7379e-01,\n",
       "        -2.9165e-01,  1.2680e-01,  9.9759e-02,  3.7689e-02,  3.9297e-01,\n",
       "        -7.1313e-02, -1.0727e-02, -5.8197e-01, -7.2725e-02,  9.3361e-01,\n",
       "         2.2574e-01,  3.2431e-02,  4.7131e-01, -4.8831e-01, -2.8449e-01,\n",
       "        -2.7780e-01,  1.9257e-01,  1.2092e-01, -1.1398e-01, -9.9799e-02,\n",
       "        -1.1101e-01,  2.9114e-01,  6.4609e-02, -4.4975e-01, -1.7686e-02,\n",
       "         1.4263e-01,  5.1879e-01, -3.5394e-01, -1.6695e-01,  8.6930e-03,\n",
       "        -1.6498e-01,  1.3414e-01,  2.2711e-01,  3.1084e-02, -2.2172e-01,\n",
       "        -6.4703e-02,  1.8665e-01, -2.5856e-01, -6.7577e-02,  6.6766e-01,\n",
       "         6.7314e-02,  2.2036e-01,  6.6915e-01,  8.7564e-02,  5.7264e-01,\n",
       "        -8.2655e-02,  3.3473e-01, -1.6321e-01, -3.1832e-01, -1.9346e-01,\n",
       "         1.0340e-01, -3.8106e-01,  2.4475e-02,  1.3744e-01, -1.7115e-01,\n",
       "        -4.9966e-01,  7.2387e-02,  3.2360e-01,  4.1937e-01, -3.0506e-01,\n",
       "        -6.3970e-01, -9.6923e-01, -1.3706e-01, -1.9170e-01,  1.2944e-01,\n",
       "        -1.0965e-01,  1.8370e-01, -3.6712e-01,  3.6215e-01,  1.3470e-01,\n",
       "        -3.8789e-01, -1.5178e-01, -5.1967e-01, -1.4335e-01,  1.8390e-01,\n",
       "         1.1590e-01,  3.2928e-01,  4.3781e-01, -2.6515e-01,  7.3846e-02,\n",
       "        -3.7074e-01, -1.9252e-01,  1.1417e-01,  4.9709e-01,  1.4225e-02,\n",
       "         1.3639e-01, -2.7438e-01, -3.4420e-02, -3.8443e-01,  3.8429e-01,\n",
       "         2.3201e-01,  4.5665e-01, -9.3898e-02,  1.2941e-01, -4.0832e-01,\n",
       "         3.0786e-02,  3.6472e-01,  6.4152e-02,  2.3524e-01,  3.6078e-02,\n",
       "        -1.0432e-01, -4.6760e-01,  4.7739e-02, -1.1997e+00, -2.3442e-02,\n",
       "         1.1858e-01,  2.6124e-02, -4.6296e-02,  6.5457e-01,  5.3680e-01,\n",
       "         2.8918e-01,  2.7903e-03,  2.2015e-01, -3.2542e-01,  4.7111e-02,\n",
       "         2.3251e-02, -7.9435e-02,  6.1603e-01, -6.4889e-01, -2.3747e-03,\n",
       "        -4.2273e-01,  3.1480e-01, -6.8305e-01, -2.7892e-02,  1.0749e-01,\n",
       "        -3.5961e-01,  2.7848e-01,  2.3136e-01, -2.6688e-01, -1.9244e-01,\n",
       "        -3.2546e-01,  2.0251e-01,  4.4956e-01,  1.1415e-01,  1.8162e-01,\n",
       "         3.7467e-02,  4.0716e-01,  3.1707e-01, -9.5475e-02, -4.7784e-01,\n",
       "        -1.8096e-01, -6.6111e-02,  1.6441e-01, -4.3772e-01,  3.6213e-01,\n",
       "        -1.0959e-01, -7.0346e-02, -2.1969e-02,  3.1770e-01,  1.3313e-01,\n",
       "         8.6446e-02, -7.7370e-01,  2.8653e-01,  7.0691e-01,  5.1985e-01,\n",
       "         4.3847e-01, -2.4524e-01,  2.2708e-01,  3.1393e-01,  5.2734e-02,\n",
       "        -7.2485e-01,  3.7982e-01, -2.4657e-01,  1.2216e-01,  4.5290e-01,\n",
       "         5.7396e-01, -9.9155e-02, -5.9574e-02, -4.1500e-01, -1.1431e-02,\n",
       "         1.0456e-02, -5.6036e-02,  2.9914e-01,  3.0446e-01,  1.4117e-01,\n",
       "         6.6840e-02, -5.0855e-01,  4.2117e-01, -1.9909e-02, -6.6298e-01,\n",
       "         1.3475e-01, -6.1248e-01, -3.2736e-01, -2.8160e-01,  5.8960e-02,\n",
       "        -6.9898e-01, -2.5908e-01,  6.8222e-01, -3.6778e-01,  4.9386e-01,\n",
       "        -4.2100e-01,  4.7380e-01,  8.6374e-03, -7.0753e-01, -7.4147e-02,\n",
       "         4.5675e-01, -4.6179e-03,  5.8233e-01, -3.1886e-01, -4.8625e-01,\n",
       "        -2.1749e-01, -3.4698e-01,  2.8027e-01,  2.4137e-01, -5.1933e-01,\n",
       "        -1.7088e-01,  4.9846e-01,  1.2404e-01,  5.1212e-01,  1.0598e-01,\n",
       "        -3.9656e-01, -1.4590e-01,  3.9107e-01, -2.8980e-01,  1.8314e-01,\n",
       "        -6.5515e-01, -9.9663e-02, -8.9139e-02,  6.7764e-01,  9.9090e-01,\n",
       "        -1.2669e-01,  2.9690e-01, -3.0499e-01,  2.0165e-01, -1.1033e-01,\n",
       "        -8.9314e-02, -1.1288e-02, -1.5164e-01,  2.7388e-01,  3.1028e-01,\n",
       "         1.0242e-01,  2.1330e-01,  1.3606e-01, -1.1343e-01, -1.8706e-01,\n",
       "         1.0822e-01,  2.2930e-01,  6.0863e-01, -3.9268e-02, -6.7177e-02,\n",
       "        -3.7759e-01,  2.8389e-01,  1.1196e+00,  5.7443e-01,  2.1323e-01,\n",
       "         1.0041e-02, -2.8181e-01, -5.4156e-02,  2.1011e-02, -1.3468e+00,\n",
       "        -4.8264e-01, -1.6178e-01, -1.0383e-01, -2.7178e-01,  2.5438e-01,\n",
       "         3.5452e-01, -5.9787e-01, -5.0209e-01, -3.6631e-01, -4.4711e-01,\n",
       "        -7.0054e-02, -2.5070e-01, -5.8050e-01,  1.0494e-01,  2.9486e-01,\n",
       "        -2.3242e-01,  8.6230e-02,  3.6187e-01])"
      ]
     },
     "execution_count": 77,
     "metadata": {},
     "output_type": "execute_result"
    }
   ],
   "execution_count": 77
  },
  {
   "metadata": {
    "ExecuteTime": {
     "end_time": "2025-01-09T09:36:08.794461Z",
     "start_time": "2025-01-09T09:36:08.756498Z"
    }
   },
   "cell_type": "code",
   "source": "conv_copy = torch.tensor(convnext_features)",
   "id": "6f371942a1b5159d",
   "outputs": [
    {
     "name": "stderr",
     "output_type": "stream",
     "text": [
      "/var/folders/w_/qpdjg8096dl3n3gz3wz38ksc0000gn/T/ipykernel_1855/450583057.py:1: UserWarning: To copy construct from a tensor, it is recommended to use sourceTensor.clone().detach() or sourceTensor.clone().detach().requires_grad_(True), rather than torch.tensor(sourceTensor).\n",
      "  conv_copy = torch.tensor(convnext_features)\n"
     ]
    }
   ],
   "execution_count": 78
  },
  {
   "metadata": {
    "ExecuteTime": {
     "end_time": "2025-01-09T09:36:49.317537Z",
     "start_time": "2025-01-09T09:36:49.314950Z"
    }
   },
   "cell_type": "code",
   "source": [
    "print(conv_copy.shape)\n",
    "print(conv_copy.dtype)\n",
    "print(conv_copy.device)\n",
    "print(conv_copy[0])"
   ],
   "id": "84678dc7c05beb46",
   "outputs": [
    {
     "name": "stdout",
     "output_type": "stream",
     "text": [
      "torch.Size([11788, 768])\n",
      "torch.float32\n",
      "cpu\n"
     ]
    }
   ],
   "execution_count": 80
  },
  {
   "metadata": {
    "ExecuteTime": {
     "end_time": "2025-01-09T09:39:44.175952Z",
     "start_time": "2025-01-09T09:39:44.014512Z"
    }
   },
   "cell_type": "code",
   "source": "conv_copy = conv_copy.to(device)",
   "id": "10692d155725f4ea",
   "outputs": [],
   "execution_count": 84
  },
  {
   "metadata": {
    "ExecuteTime": {
     "end_time": "2025-01-09T09:39:47.052472Z",
     "start_time": "2025-01-09T09:39:46.740062Z"
    }
   },
   "cell_type": "code",
   "source": [
    "print(conv_copy.shape)\n",
    "print(conv_copy.dtype)\n",
    "print(conv_copy.device)\n",
    "print(conv_copy[0])"
   ],
   "id": "435d3b9897f64967",
   "outputs": [
    {
     "name": "stdout",
     "output_type": "stream",
     "text": [
      "torch.Size([11788, 768])\n",
      "torch.float32\n",
      "mps:0\n",
      "tensor([ 4.5726e-01,  1.4883e-01, -9.6176e-02, -6.8534e-01, -6.6053e-02,\n",
      "        -4.7127e-01, -3.4878e-01,  5.2725e-02,  7.1465e-05,  2.9067e-01,\n",
      "         1.1392e-01,  3.5608e-01, -3.4380e-01, -8.0767e-02,  4.4609e-01,\n",
      "         4.4047e-01,  3.7574e-01, -2.0576e-01, -2.5488e-01,  6.8414e-01,\n",
      "         7.9678e-02, -2.3107e-01,  3.5366e-01,  7.9906e-01, -1.1060e+00,\n",
      "         3.9207e-02, -1.0121e-01,  1.9065e-01,  5.1355e-01,  3.7845e-01,\n",
      "         2.2630e-01,  4.4053e-01,  1.1746e-01,  7.8322e-01,  4.1385e-01,\n",
      "         4.3613e-01,  2.5520e-01, -2.1951e-01, -8.9570e-02, -1.5697e-01,\n",
      "         3.3415e-01, -4.1315e-01, -4.0601e-02,  6.3488e-01,  3.5650e-01,\n",
      "         3.6608e-01, -3.3946e-01, -5.0042e-02, -1.5461e-01, -3.8677e-01,\n",
      "        -8.0369e-01, -1.1937e-02, -6.4231e-01, -1.1751e-01, -2.4048e-01,\n",
      "        -1.2101e-01, -2.2544e-01, -7.0509e-03, -4.4976e-01, -4.9131e-01,\n",
      "        -5.1578e-01, -2.4659e-01,  1.9713e-02, -3.3780e-01, -2.7405e-02,\n",
      "        -3.4229e-01, -7.1477e-01,  9.9296e-01, -6.2233e-01, -4.5550e-02,\n",
      "        -6.3381e-02, -1.3416e-01,  2.4972e-01,  2.0472e-01, -9.4918e-03,\n",
      "        -2.7556e-01,  5.6593e-02, -6.7379e-01,  7.5464e-02, -4.4488e-01,\n",
      "         6.2195e-02,  3.2432e-01,  3.6125e-01, -8.6602e-02, -2.5015e-01,\n",
      "         5.0025e-01,  7.4997e-01, -5.3674e-01, -4.7974e-01, -7.1742e-02,\n",
      "        -5.2033e-01, -2.2235e-01,  2.1922e-01,  7.2659e-02,  1.9068e-01,\n",
      "        -4.6957e-02, -7.1440e-02, -2.1381e-01, -1.5759e-01, -5.8774e-01,\n",
      "         2.1928e-01,  4.7504e-02,  1.7420e-01, -3.7664e-01, -4.4219e-01,\n",
      "        -2.2674e-02,  3.2742e-01, -4.9348e-02, -3.2659e-02,  7.5008e-02,\n",
      "        -1.2069e-01, -2.7653e-01,  2.1203e-01, -4.9729e-02, -5.6298e-01,\n",
      "        -1.4366e-01, -6.3824e-02, -5.4046e-01,  3.6129e-01, -4.5482e-02,\n",
      "         5.5521e-01, -1.5234e-01,  3.1439e-01,  3.2578e-01,  1.0510e-01,\n",
      "        -5.8204e-02,  9.9654e-01, -3.3808e-01,  5.2045e-01, -5.6915e-01,\n",
      "        -7.6847e-02,  1.7555e-02,  1.4345e-01, -3.7830e-01, -5.0799e-01,\n",
      "         5.1691e-01, -4.1772e-01,  1.7457e-01, -6.9028e-02,  2.3257e-01,\n",
      "        -4.1090e-01, -2.5902e-01, -2.5965e-01, -1.8897e-01,  2.7922e-01,\n",
      "        -7.2142e-02, -1.0862e-01, -2.1295e-01,  4.4447e-01, -2.0052e-01,\n",
      "         2.9110e-01,  3.1977e-01, -2.0970e-01, -1.7296e-01,  3.3641e-01,\n",
      "         1.9037e-01,  2.3191e-01,  1.8972e-01,  5.4970e-01, -3.6643e-01,\n",
      "         1.3802e-01, -3.9967e-01, -2.3014e-01, -2.1024e-01,  8.1719e-01,\n",
      "         4.1153e-01, -1.0774e-01, -5.0103e-01,  4.1114e-01, -2.6871e-01,\n",
      "        -2.2425e-01, -2.0656e-01, -3.0422e-01,  3.9615e-01, -6.6674e-01,\n",
      "         4.7672e-02, -5.1475e-03, -2.6410e-01, -3.0509e-01,  1.3261e-01,\n",
      "        -3.2401e-01, -2.5280e-01,  1.2943e-01, -2.4021e-01, -4.3361e-01,\n",
      "         2.2346e-01,  3.7021e-01, -2.5193e-01,  2.8793e-01, -5.3530e-01,\n",
      "         3.2945e-02, -8.8192e-02, -6.2940e-01,  5.4248e-01, -3.9113e-01,\n",
      "        -5.7495e-01, -4.2049e-01, -3.9910e-01,  9.9004e-02,  3.8694e-02,\n",
      "         2.5847e-01, -4.1326e-01, -5.3386e-01, -3.0722e-01,  2.4142e-01,\n",
      "         1.0833e-01, -2.4191e-01, -1.5068e-01, -1.7581e-01,  8.7068e-02,\n",
      "         2.3081e-01, -4.4673e-03,  7.0805e-01, -3.5099e-01,  2.0895e-01,\n",
      "         2.6761e-01, -4.7272e-02, -3.4171e-02, -2.0049e-01,  4.0386e-01,\n",
      "         2.3682e-02, -6.7094e-02,  1.9817e-01, -1.1552e-01,  1.9333e-01,\n",
      "         6.3318e-01, -1.8461e-01,  3.9011e-01,  3.2100e-01, -1.5073e-01,\n",
      "        -2.3194e-01,  9.9491e-02, -5.6245e-01,  5.2788e-01,  4.5257e-01,\n",
      "        -1.0161e-01, -6.6249e-01,  6.7116e-02,  5.7794e-01, -7.6985e-01,\n",
      "         3.4690e-01, -3.8021e-01, -2.4960e-01,  1.9956e-01,  2.1165e-01,\n",
      "         2.3141e-02, -4.5925e-01,  1.4615e-02, -1.6509e-01, -8.5536e-02,\n",
      "        -3.2514e-02, -1.4558e-01,  4.9485e-01,  5.3676e-01,  2.1672e-01,\n",
      "        -1.9044e-02,  5.8806e-01, -3.4240e-01, -4.4094e-01, -1.5935e-01,\n",
      "         5.2283e-01,  2.7745e-01, -1.9904e-01,  5.0640e-01,  1.7119e-01,\n",
      "        -4.9029e-01, -1.8073e-04,  1.2052e-01, -3.0396e-01, -9.5041e-02,\n",
      "        -4.0379e-01, -4.2588e-01, -3.1993e-01,  2.6022e-01,  4.2417e-02,\n",
      "         4.7942e-01,  1.6643e-01,  6.9440e-02,  4.1389e-02,  4.8546e-01,\n",
      "        -8.8897e-02,  1.9293e-01, -4.9342e-01,  1.7358e-01, -7.7309e-01,\n",
      "         7.0155e-02, -2.7466e-02, -1.0488e-01,  4.5639e-01,  1.6224e-01,\n",
      "         3.1278e-02,  4.3763e-01, -1.6094e-01, -1.5727e-01,  3.5341e-01,\n",
      "         2.9560e-01, -6.1238e-02,  2.5005e-01, -2.9648e-01,  1.7237e-01,\n",
      "        -1.0041e-01, -3.1796e-02,  4.8689e-01,  2.0748e-01,  8.4542e-02,\n",
      "        -2.4443e-01, -3.4273e-01,  6.1519e-02, -3.7184e-01, -6.5862e-01,\n",
      "        -3.2584e-02, -2.5642e-01, -9.4392e-02,  3.7450e-01,  8.1247e-01,\n",
      "        -5.6272e-01,  4.3677e-01, -1.9834e-01,  1.2688e-01, -1.4044e-01,\n",
      "         6.2643e-01, -1.3353e-01,  4.9024e-02, -7.2639e-02,  1.9771e-01,\n",
      "        -4.1303e-01,  2.7267e-01,  1.3505e-01,  3.8124e-01, -2.2013e-01,\n",
      "         1.8233e-01, -3.7282e-02, -4.0246e-02, -2.7220e-01,  1.8517e-02,\n",
      "        -8.3489e-02, -4.4583e-01,  1.4863e-01,  4.5588e-02,  3.1827e-01,\n",
      "        -4.0454e-01,  3.9271e-01, -2.0939e-01,  3.4766e-01, -3.2946e-02,\n",
      "         3.5546e-01,  3.7024e-01,  1.8710e-01, -3.3781e-01,  2.0841e-02,\n",
      "         1.0407e-01, -1.0696e-01,  2.7437e-01,  1.9753e-01, -3.9601e-01,\n",
      "         7.3126e-01,  1.4517e-01, -1.4630e-02,  5.4834e-01,  1.1039e-01,\n",
      "         9.2316e-02, -2.7263e-01, -3.7355e-01,  1.1248e-01,  1.4356e-01,\n",
      "         2.6222e-02,  6.1289e-01,  7.7412e-02, -4.7302e-01, -7.2522e-02,\n",
      "        -2.8189e-01,  1.7240e-01, -2.9529e-01, -3.7208e-02,  3.0022e-01,\n",
      "        -2.0271e-01,  6.1025e-01,  1.3191e-01, -2.8181e-01, -1.1268e-01,\n",
      "         1.9168e-02,  6.3485e-01, -2.2411e-01, -2.9515e-01, -1.2204e-01,\n",
      "        -1.2609e-01, -6.6707e-02, -6.5653e-01, -2.8081e-01,  2.4257e-01,\n",
      "        -1.7468e-01,  2.1155e-01,  1.8604e-01, -2.0801e-01, -3.6633e-01,\n",
      "        -4.5713e-02, -3.2937e-01, -3.5996e-02,  7.7200e-02,  2.2860e-01,\n",
      "         4.5386e-01,  1.3729e+00,  9.9296e-01,  8.9325e-02, -5.1415e-01,\n",
      "         1.2117e-01,  4.7876e-01,  7.2673e-01, -5.2519e-02, -3.8058e-01,\n",
      "         3.0130e-02, -3.2988e-01,  1.1150e-01, -4.8286e-01,  5.6213e-02,\n",
      "        -1.1832e-01, -4.5728e-02,  1.9820e-01,  3.4681e-01,  5.0163e-01,\n",
      "        -4.0925e-01,  4.7121e-01, -1.4806e-02, -2.4837e-01, -4.7434e-02,\n",
      "         4.4022e-01,  3.8433e-01,  3.3574e-01, -2.2879e-01,  1.0893e+00,\n",
      "        -4.6137e-01, -3.0533e-01,  3.1641e-01,  3.8341e-02, -4.6995e-02,\n",
      "        -4.4792e-01,  3.3625e-02, -5.8995e-01, -2.8827e-01,  1.0395e-01,\n",
      "        -2.6746e-01,  4.6820e-01, -3.1220e-01,  2.7847e-01,  2.1096e-02,\n",
      "         4.7724e-01,  1.6526e-01, -1.2248e-01,  4.0025e-01,  8.5962e-03,\n",
      "         4.3844e-01, -6.7685e-01, -3.3133e-01,  4.6388e-01, -7.8342e-01,\n",
      "         1.8068e-01, -4.1538e-01, -1.5632e-01,  8.0618e-02, -2.5151e-01,\n",
      "         1.3420e-01, -4.9830e-02,  5.6575e-03, -5.2978e-01, -1.1528e-01,\n",
      "        -2.0074e-01,  8.1967e-01, -7.3813e-03, -3.4420e-01,  3.3104e-01,\n",
      "         2.5343e-01,  3.5474e-01, -1.1022e-01,  1.7313e-02, -1.0469e+00,\n",
      "         7.2666e-02,  2.6929e-01,  1.0821e-01, -1.2927e-01,  2.6580e-02,\n",
      "         1.1344e-01, -6.4118e-02,  7.2489e-02,  2.9757e-01, -1.4687e-01,\n",
      "         2.4203e-02, -1.9332e-01,  1.1591e-01,  1.3944e-01, -1.9960e-01,\n",
      "         1.5833e-01,  1.0680e+00,  5.8180e-01,  3.4627e-02,  5.2766e-01,\n",
      "         9.1532e-01, -7.1674e-01, -2.6219e-01, -8.2634e-01, -2.7379e-01,\n",
      "        -2.9165e-01,  1.2680e-01,  9.9759e-02,  3.7689e-02,  3.9297e-01,\n",
      "        -7.1313e-02, -1.0727e-02, -5.8197e-01, -7.2725e-02,  9.3361e-01,\n",
      "         2.2574e-01,  3.2431e-02,  4.7131e-01, -4.8831e-01, -2.8449e-01,\n",
      "        -2.7780e-01,  1.9257e-01,  1.2092e-01, -1.1398e-01, -9.9799e-02,\n",
      "        -1.1101e-01,  2.9114e-01,  6.4609e-02, -4.4975e-01, -1.7686e-02,\n",
      "         1.4263e-01,  5.1879e-01, -3.5394e-01, -1.6695e-01,  8.6930e-03,\n",
      "        -1.6498e-01,  1.3414e-01,  2.2711e-01,  3.1084e-02, -2.2172e-01,\n",
      "        -6.4703e-02,  1.8665e-01, -2.5856e-01, -6.7577e-02,  6.6766e-01,\n",
      "         6.7314e-02,  2.2036e-01,  6.6915e-01,  8.7564e-02,  5.7264e-01,\n",
      "        -8.2655e-02,  3.3473e-01, -1.6321e-01, -3.1832e-01, -1.9346e-01,\n",
      "         1.0340e-01, -3.8106e-01,  2.4475e-02,  1.3744e-01, -1.7115e-01,\n",
      "        -4.9966e-01,  7.2387e-02,  3.2360e-01,  4.1937e-01, -3.0506e-01,\n",
      "        -6.3970e-01, -9.6923e-01, -1.3706e-01, -1.9170e-01,  1.2944e-01,\n",
      "        -1.0965e-01,  1.8370e-01, -3.6712e-01,  3.6215e-01,  1.3470e-01,\n",
      "        -3.8789e-01, -1.5178e-01, -5.1967e-01, -1.4335e-01,  1.8390e-01,\n",
      "         1.1590e-01,  3.2928e-01,  4.3781e-01, -2.6515e-01,  7.3846e-02,\n",
      "        -3.7074e-01, -1.9252e-01,  1.1417e-01,  4.9709e-01,  1.4225e-02,\n",
      "         1.3639e-01, -2.7438e-01, -3.4420e-02, -3.8443e-01,  3.8429e-01,\n",
      "         2.3201e-01,  4.5665e-01, -9.3898e-02,  1.2941e-01, -4.0832e-01,\n",
      "         3.0786e-02,  3.6472e-01,  6.4152e-02,  2.3524e-01,  3.6078e-02,\n",
      "        -1.0432e-01, -4.6760e-01,  4.7739e-02, -1.1997e+00, -2.3442e-02,\n",
      "         1.1858e-01,  2.6124e-02, -4.6296e-02,  6.5457e-01,  5.3680e-01,\n",
      "         2.8918e-01,  2.7903e-03,  2.2015e-01, -3.2542e-01,  4.7111e-02,\n",
      "         2.3251e-02, -7.9435e-02,  6.1603e-01, -6.4889e-01, -2.3747e-03,\n",
      "        -4.2273e-01,  3.1480e-01, -6.8305e-01, -2.7892e-02,  1.0749e-01,\n",
      "        -3.5961e-01,  2.7848e-01,  2.3136e-01, -2.6688e-01, -1.9244e-01,\n",
      "        -3.2546e-01,  2.0251e-01,  4.4956e-01,  1.1415e-01,  1.8162e-01,\n",
      "         3.7467e-02,  4.0716e-01,  3.1707e-01, -9.5475e-02, -4.7784e-01,\n",
      "        -1.8096e-01, -6.6111e-02,  1.6441e-01, -4.3772e-01,  3.6213e-01,\n",
      "        -1.0959e-01, -7.0346e-02, -2.1969e-02,  3.1770e-01,  1.3313e-01,\n",
      "         8.6446e-02, -7.7370e-01,  2.8653e-01,  7.0691e-01,  5.1985e-01,\n",
      "         4.3847e-01, -2.4524e-01,  2.2708e-01,  3.1393e-01,  5.2734e-02,\n",
      "        -7.2485e-01,  3.7982e-01, -2.4657e-01,  1.2216e-01,  4.5290e-01,\n",
      "         5.7396e-01, -9.9155e-02, -5.9574e-02, -4.1500e-01, -1.1431e-02,\n",
      "         1.0456e-02, -5.6036e-02,  2.9914e-01,  3.0446e-01,  1.4117e-01,\n",
      "         6.6840e-02, -5.0855e-01,  4.2117e-01, -1.9909e-02, -6.6298e-01,\n",
      "         1.3475e-01, -6.1248e-01, -3.2736e-01, -2.8160e-01,  5.8960e-02,\n",
      "        -6.9898e-01, -2.5908e-01,  6.8222e-01, -3.6778e-01,  4.9386e-01,\n",
      "        -4.2100e-01,  4.7380e-01,  8.6374e-03, -7.0753e-01, -7.4147e-02,\n",
      "         4.5675e-01, -4.6179e-03,  5.8233e-01, -3.1886e-01, -4.8625e-01,\n",
      "        -2.1749e-01, -3.4698e-01,  2.8027e-01,  2.4137e-01, -5.1933e-01,\n",
      "        -1.7088e-01,  4.9846e-01,  1.2404e-01,  5.1212e-01,  1.0598e-01,\n",
      "        -3.9656e-01, -1.4590e-01,  3.9107e-01, -2.8980e-01,  1.8314e-01,\n",
      "        -6.5515e-01, -9.9663e-02, -8.9139e-02,  6.7764e-01,  9.9090e-01,\n",
      "        -1.2669e-01,  2.9690e-01, -3.0499e-01,  2.0165e-01, -1.1033e-01,\n",
      "        -8.9314e-02, -1.1288e-02, -1.5164e-01,  2.7388e-01,  3.1028e-01,\n",
      "         1.0242e-01,  2.1330e-01,  1.3606e-01, -1.1343e-01, -1.8706e-01,\n",
      "         1.0822e-01,  2.2930e-01,  6.0863e-01, -3.9268e-02, -6.7177e-02,\n",
      "        -3.7759e-01,  2.8389e-01,  1.1196e+00,  5.7443e-01,  2.1323e-01,\n",
      "         1.0041e-02, -2.8181e-01, -5.4156e-02,  2.1011e-02, -1.3468e+00,\n",
      "        -4.8264e-01, -1.6178e-01, -1.0383e-01, -2.7178e-01,  2.5438e-01,\n",
      "         3.5452e-01, -5.9787e-01, -5.0209e-01, -3.6631e-01, -4.4711e-01,\n",
      "        -7.0054e-02, -2.5070e-01, -5.8050e-01,  1.0494e-01,  2.9486e-01,\n",
      "        -2.3242e-01,  8.6230e-02,  3.6187e-01], device='mps:0')\n"
     ]
    }
   ],
   "execution_count": 85
  },
  {
   "metadata": {
    "ExecuteTime": {
     "end_time": "2025-01-09T09:40:43.773726Z",
     "start_time": "2025-01-09T09:40:43.769908Z"
    }
   },
   "cell_type": "code",
   "source": [
    "def tensor_info(tensor):\n",
    "    print(tensor.shape)\n",
    "    print(tensor.dtype)\n",
    "    print(tensor.device)\n",
    "    print(tensor[0])"
   ],
   "id": "f0970ba6070015b9",
   "outputs": [],
   "execution_count": 86
  },
  {
   "metadata": {
    "ExecuteTime": {
     "end_time": "2025-01-09T09:42:20.873039Z",
     "start_time": "2025-01-09T09:42:20.859271Z"
    }
   },
   "cell_type": "code",
   "source": "tensor_info(convnext_images)",
   "id": "a794341b0e5ab36b",
   "outputs": [
    {
     "name": "stdout",
     "output_type": "stream",
     "text": [
      "torch.Size([11788, 3, 224, 224])\n",
      "torch.float32\n",
      "cpu\n",
      "tensor([[[0.8618, 0.8618, 0.8618,  ..., 0.8961, 0.9132, 0.9132],\n",
      "         [0.8961, 0.8961, 0.8789,  ..., 0.9132, 0.9303, 0.9303],\n",
      "         [0.8789, 0.8618, 0.8618,  ..., 0.9303, 0.9474, 0.9646],\n",
      "         ...,\n",
      "         [0.7419, 0.7419, 0.7591,  ..., 0.8276, 0.8789, 0.8961],\n",
      "         [0.7933, 0.7933, 0.8104,  ..., 0.9132, 0.8961, 0.8618],\n",
      "         [0.8447, 0.8447, 0.8447,  ..., 0.8789, 0.8104, 0.7419]],\n",
      "\n",
      "        [[1.0805, 1.0805, 1.0805,  ..., 1.1506, 1.1681, 1.1681],\n",
      "         [1.1155, 1.1155, 1.0980,  ..., 1.1681, 1.1856, 1.1856],\n",
      "         [1.0980, 1.0805, 1.0805,  ..., 1.1856, 1.2031, 1.2206],\n",
      "         ...,\n",
      "         [0.9580, 0.9580, 0.9755,  ..., 1.0805, 1.1155, 1.1506],\n",
      "         [1.0105, 1.0105, 1.0280,  ..., 1.1681, 1.1506, 1.1155],\n",
      "         [1.0630, 1.0630, 1.0630,  ..., 1.1506, 1.0805, 1.0105]],\n",
      "\n",
      "        [[1.2805, 1.2805, 1.2805,  ..., 1.3328, 1.3502, 1.3502],\n",
      "         [1.3154, 1.3154, 1.2980,  ..., 1.3502, 1.3677, 1.3677],\n",
      "         [1.2980, 1.2805, 1.2805,  ..., 1.3677, 1.3851, 1.4025],\n",
      "         ...,\n",
      "         [1.1934, 1.1934, 1.2108,  ..., 1.2631, 1.2980, 1.3328],\n",
      "         [1.2457, 1.2457, 1.2631,  ..., 1.3502, 1.3328, 1.2980],\n",
      "         [1.2805, 1.2805, 1.2805,  ..., 1.3154, 1.2631, 1.1934]]])\n"
     ]
    }
   ],
   "execution_count": 89
  },
  {
   "metadata": {
    "ExecuteTime": {
     "end_time": "2025-01-09T09:43:43.652081Z",
     "start_time": "2025-01-09T09:43:43.552452Z"
    }
   },
   "cell_type": "code",
   "source": "convnext_images_gpu = torch.tensor(convnext_images, device=device)",
   "id": "31b13db8f71999d9",
   "outputs": [
    {
     "name": "stderr",
     "output_type": "stream",
     "text": [
      "/var/folders/w_/qpdjg8096dl3n3gz3wz38ksc0000gn/T/ipykernel_1855/4032757685.py:1: UserWarning: To copy construct from a tensor, it is recommended to use sourceTensor.clone().detach() or sourceTensor.clone().detach().requires_grad_(True), rather than torch.tensor(sourceTensor).\n",
      "  convnext_images_gpu = torch.tensor(convnext_images, device=device)\n"
     ]
    },
    {
     "ename": "RuntimeError",
     "evalue": "MPS backend out of memory (MPS allocated: 14.23 GB, other allocations: 720.00 KB, max allowed: 18.13 GB). Tried to allocate 6.61 GB on private pool. Use PYTORCH_MPS_HIGH_WATERMARK_RATIO=0.0 to disable upper limit for memory allocations (may cause system failure).",
     "output_type": "error",
     "traceback": [
      "\u001B[0;31m---------------------------------------------------------------------------\u001B[0m",
      "\u001B[0;31mRuntimeError\u001B[0m                              Traceback (most recent call last)",
      "Cell \u001B[0;32mIn[92], line 1\u001B[0m\n\u001B[0;32m----> 1\u001B[0m convnext_images_gpu \u001B[38;5;241m=\u001B[39m \u001B[43mtorch\u001B[49m\u001B[38;5;241;43m.\u001B[39;49m\u001B[43mtensor\u001B[49m\u001B[43m(\u001B[49m\u001B[43mconvnext_images\u001B[49m\u001B[43m,\u001B[49m\u001B[43m \u001B[49m\u001B[43mdevice\u001B[49m\u001B[38;5;241;43m=\u001B[39;49m\u001B[43mdevice\u001B[49m\u001B[43m)\u001B[49m\n",
      "\u001B[0;31mRuntimeError\u001B[0m: MPS backend out of memory (MPS allocated: 14.23 GB, other allocations: 720.00 KB, max allowed: 18.13 GB). Tried to allocate 6.61 GB on private pool. Use PYTORCH_MPS_HIGH_WATERMARK_RATIO=0.0 to disable upper limit for memory allocations (may cause system failure)."
     ]
    }
   ],
   "execution_count": 92
  },
  {
   "metadata": {},
   "cell_type": "code",
   "outputs": [],
   "execution_count": null,
   "source": "",
   "id": "acb984a7577e432b"
  }
 ],
 "metadata": {
  "kernelspec": {
   "display_name": "Python 3",
   "language": "python",
   "name": "python3"
  },
  "language_info": {
   "codemirror_mode": {
    "name": "ipython",
    "version": 2
   },
   "file_extension": ".py",
   "mimetype": "text/x-python",
   "name": "python",
   "nbconvert_exporter": "python",
   "pygments_lexer": "ipython2",
   "version": "2.7.6"
  }
 },
 "nbformat": 4,
 "nbformat_minor": 5
}
