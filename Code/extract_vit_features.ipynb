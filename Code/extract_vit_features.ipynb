{
 "cells": [
  {
   "cell_type": "code",
   "id": "initial_id",
   "metadata": {
    "collapsed": true,
    "ExecuteTime": {
     "end_time": "2025-01-09T19:26:50.377231Z",
     "start_time": "2025-01-09T19:26:50.372900Z"
    }
   },
   "source": [
    "import torch\n",
    "import torchvision\n",
    "import torchvision.transforms as transforms\n",
    "import torchvision.models as models\n",
    "from torch.utils.data import Dataset, DataLoader, TensorDataset\n",
    "import numpy as np\n",
    "import scipy.io as sio\n",
    "from torch.utils.data import TensorDataset\n",
    "import pickle"
   ],
   "outputs": [],
   "execution_count": 61
  },
  {
   "metadata": {
    "ExecuteTime": {
     "end_time": "2025-01-09T19:26:52.677812Z",
     "start_time": "2025-01-09T19:26:51.480525Z"
    }
   },
   "cell_type": "code",
   "source": [
    "with open(\"/Users/lkk/Documents/BOUN CMPE/CMPE 537-Computer Vision/Term Project/Code/Datasets/CUB_Paper/produced/image_tensors_256.pkl\", 'rb') as f:\n",
    "    image_tensors = pickle.load(f)"
   ],
   "id": "7d60e9ed844d6a64",
   "outputs": [],
   "execution_count": 62
  },
  {
   "metadata": {
    "ExecuteTime": {
     "end_time": "2025-01-09T19:26:54.344567Z",
     "start_time": "2025-01-09T19:26:53.160821Z"
    }
   },
   "cell_type": "code",
   "source": "image_tensors = torch.tensor(image_tensors)",
   "id": "190b689daaf3dd1d",
   "outputs": [],
   "execution_count": 63
  },
  {
   "metadata": {
    "ExecuteTime": {
     "end_time": "2025-01-09T19:26:54.800911Z",
     "start_time": "2025-01-09T19:26:54.798213Z"
    }
   },
   "cell_type": "code",
   "source": "from torchvision.models import ViT_B_16_Weights",
   "id": "4361065e01c06dfb",
   "outputs": [],
   "execution_count": 64
  },
  {
   "metadata": {
    "ExecuteTime": {
     "end_time": "2025-01-09T19:26:56.489107Z",
     "start_time": "2025-01-09T19:26:56.485784Z"
    }
   },
   "cell_type": "code",
   "source": "vit_transform = ViT_B_16_Weights.DEFAULT.transforms()",
   "id": "7999f8ec61a2670c",
   "outputs": [],
   "execution_count": 65
  },
  {
   "metadata": {
    "ExecuteTime": {
     "end_time": "2025-01-09T19:27:11.529644Z",
     "start_time": "2025-01-09T19:27:00.832059Z"
    }
   },
   "cell_type": "code",
   "source": [
    "vit_images = []\n",
    "for image in image_tensors:\n",
    "    trans_image = vit_transform(image)\n",
    "    vit_images.append(trans_image)"
   ],
   "id": "a7569cf8715cc14d",
   "outputs": [],
   "execution_count": 66
  },
  {
   "metadata": {
    "ExecuteTime": {
     "end_time": "2025-01-09T19:27:28.756375Z",
     "start_time": "2025-01-09T19:27:15.444600Z"
    }
   },
   "cell_type": "code",
   "source": "vit_images = torch.stack(vit_images, dim=0)",
   "id": "58ff941310558c38",
   "outputs": [],
   "execution_count": 67
  },
  {
   "metadata": {
    "ExecuteTime": {
     "end_time": "2025-01-09T19:27:30.755969Z",
     "start_time": "2025-01-09T19:27:30.748052Z"
    }
   },
   "cell_type": "code",
   "source": [
    "vit_dataset = TensorDataset(vit_images)\n",
    "vit_dataloader = DataLoader(vit_dataset, batch_size=32, shuffle=False)"
   ],
   "id": "fb7f370848570a4b",
   "outputs": [],
   "execution_count": 68
  },
  {
   "metadata": {
    "ExecuteTime": {
     "end_time": "2025-01-09T19:27:33.140260Z",
     "start_time": "2025-01-09T19:27:32.528226Z"
    }
   },
   "cell_type": "code",
   "source": [
    "vit_model = models.vit_b_16(weights=ViT_B_16_Weights.DEFAULT)\n",
    "vit_feature_extractor = torch.nn.Sequential(*list(vit_model.children())[:-1])\n",
    "conv = vit_feature_extractor[0]\n",
    "encoder = vit_feature_extractor[1]"
   ],
   "id": "7279d211dea9bf99",
   "outputs": [],
   "execution_count": 69
  },
  {
   "metadata": {
    "ExecuteTime": {
     "end_time": "2025-01-09T19:27:34.273330Z",
     "start_time": "2025-01-09T19:27:34.264859Z"
    }
   },
   "cell_type": "code",
   "source": [
    "vit_model.eval()\n",
    "vit_feature_extractor.eval()\n",
    "conv.eval()\n",
    "encoder.eval()"
   ],
   "id": "7904e858389c80df",
   "outputs": [
    {
     "data": {
      "text/plain": [
       "Encoder(\n",
       "  (dropout): Dropout(p=0.0, inplace=False)\n",
       "  (layers): Sequential(\n",
       "    (encoder_layer_0): EncoderBlock(\n",
       "      (ln_1): LayerNorm((768,), eps=1e-06, elementwise_affine=True)\n",
       "      (self_attention): MultiheadAttention(\n",
       "        (out_proj): NonDynamicallyQuantizableLinear(in_features=768, out_features=768, bias=True)\n",
       "      )\n",
       "      (dropout): Dropout(p=0.0, inplace=False)\n",
       "      (ln_2): LayerNorm((768,), eps=1e-06, elementwise_affine=True)\n",
       "      (mlp): MLPBlock(\n",
       "        (0): Linear(in_features=768, out_features=3072, bias=True)\n",
       "        (1): GELU(approximate='none')\n",
       "        (2): Dropout(p=0.0, inplace=False)\n",
       "        (3): Linear(in_features=3072, out_features=768, bias=True)\n",
       "        (4): Dropout(p=0.0, inplace=False)\n",
       "      )\n",
       "    )\n",
       "    (encoder_layer_1): EncoderBlock(\n",
       "      (ln_1): LayerNorm((768,), eps=1e-06, elementwise_affine=True)\n",
       "      (self_attention): MultiheadAttention(\n",
       "        (out_proj): NonDynamicallyQuantizableLinear(in_features=768, out_features=768, bias=True)\n",
       "      )\n",
       "      (dropout): Dropout(p=0.0, inplace=False)\n",
       "      (ln_2): LayerNorm((768,), eps=1e-06, elementwise_affine=True)\n",
       "      (mlp): MLPBlock(\n",
       "        (0): Linear(in_features=768, out_features=3072, bias=True)\n",
       "        (1): GELU(approximate='none')\n",
       "        (2): Dropout(p=0.0, inplace=False)\n",
       "        (3): Linear(in_features=3072, out_features=768, bias=True)\n",
       "        (4): Dropout(p=0.0, inplace=False)\n",
       "      )\n",
       "    )\n",
       "    (encoder_layer_2): EncoderBlock(\n",
       "      (ln_1): LayerNorm((768,), eps=1e-06, elementwise_affine=True)\n",
       "      (self_attention): MultiheadAttention(\n",
       "        (out_proj): NonDynamicallyQuantizableLinear(in_features=768, out_features=768, bias=True)\n",
       "      )\n",
       "      (dropout): Dropout(p=0.0, inplace=False)\n",
       "      (ln_2): LayerNorm((768,), eps=1e-06, elementwise_affine=True)\n",
       "      (mlp): MLPBlock(\n",
       "        (0): Linear(in_features=768, out_features=3072, bias=True)\n",
       "        (1): GELU(approximate='none')\n",
       "        (2): Dropout(p=0.0, inplace=False)\n",
       "        (3): Linear(in_features=3072, out_features=768, bias=True)\n",
       "        (4): Dropout(p=0.0, inplace=False)\n",
       "      )\n",
       "    )\n",
       "    (encoder_layer_3): EncoderBlock(\n",
       "      (ln_1): LayerNorm((768,), eps=1e-06, elementwise_affine=True)\n",
       "      (self_attention): MultiheadAttention(\n",
       "        (out_proj): NonDynamicallyQuantizableLinear(in_features=768, out_features=768, bias=True)\n",
       "      )\n",
       "      (dropout): Dropout(p=0.0, inplace=False)\n",
       "      (ln_2): LayerNorm((768,), eps=1e-06, elementwise_affine=True)\n",
       "      (mlp): MLPBlock(\n",
       "        (0): Linear(in_features=768, out_features=3072, bias=True)\n",
       "        (1): GELU(approximate='none')\n",
       "        (2): Dropout(p=0.0, inplace=False)\n",
       "        (3): Linear(in_features=3072, out_features=768, bias=True)\n",
       "        (4): Dropout(p=0.0, inplace=False)\n",
       "      )\n",
       "    )\n",
       "    (encoder_layer_4): EncoderBlock(\n",
       "      (ln_1): LayerNorm((768,), eps=1e-06, elementwise_affine=True)\n",
       "      (self_attention): MultiheadAttention(\n",
       "        (out_proj): NonDynamicallyQuantizableLinear(in_features=768, out_features=768, bias=True)\n",
       "      )\n",
       "      (dropout): Dropout(p=0.0, inplace=False)\n",
       "      (ln_2): LayerNorm((768,), eps=1e-06, elementwise_affine=True)\n",
       "      (mlp): MLPBlock(\n",
       "        (0): Linear(in_features=768, out_features=3072, bias=True)\n",
       "        (1): GELU(approximate='none')\n",
       "        (2): Dropout(p=0.0, inplace=False)\n",
       "        (3): Linear(in_features=3072, out_features=768, bias=True)\n",
       "        (4): Dropout(p=0.0, inplace=False)\n",
       "      )\n",
       "    )\n",
       "    (encoder_layer_5): EncoderBlock(\n",
       "      (ln_1): LayerNorm((768,), eps=1e-06, elementwise_affine=True)\n",
       "      (self_attention): MultiheadAttention(\n",
       "        (out_proj): NonDynamicallyQuantizableLinear(in_features=768, out_features=768, bias=True)\n",
       "      )\n",
       "      (dropout): Dropout(p=0.0, inplace=False)\n",
       "      (ln_2): LayerNorm((768,), eps=1e-06, elementwise_affine=True)\n",
       "      (mlp): MLPBlock(\n",
       "        (0): Linear(in_features=768, out_features=3072, bias=True)\n",
       "        (1): GELU(approximate='none')\n",
       "        (2): Dropout(p=0.0, inplace=False)\n",
       "        (3): Linear(in_features=3072, out_features=768, bias=True)\n",
       "        (4): Dropout(p=0.0, inplace=False)\n",
       "      )\n",
       "    )\n",
       "    (encoder_layer_6): EncoderBlock(\n",
       "      (ln_1): LayerNorm((768,), eps=1e-06, elementwise_affine=True)\n",
       "      (self_attention): MultiheadAttention(\n",
       "        (out_proj): NonDynamicallyQuantizableLinear(in_features=768, out_features=768, bias=True)\n",
       "      )\n",
       "      (dropout): Dropout(p=0.0, inplace=False)\n",
       "      (ln_2): LayerNorm((768,), eps=1e-06, elementwise_affine=True)\n",
       "      (mlp): MLPBlock(\n",
       "        (0): Linear(in_features=768, out_features=3072, bias=True)\n",
       "        (1): GELU(approximate='none')\n",
       "        (2): Dropout(p=0.0, inplace=False)\n",
       "        (3): Linear(in_features=3072, out_features=768, bias=True)\n",
       "        (4): Dropout(p=0.0, inplace=False)\n",
       "      )\n",
       "    )\n",
       "    (encoder_layer_7): EncoderBlock(\n",
       "      (ln_1): LayerNorm((768,), eps=1e-06, elementwise_affine=True)\n",
       "      (self_attention): MultiheadAttention(\n",
       "        (out_proj): NonDynamicallyQuantizableLinear(in_features=768, out_features=768, bias=True)\n",
       "      )\n",
       "      (dropout): Dropout(p=0.0, inplace=False)\n",
       "      (ln_2): LayerNorm((768,), eps=1e-06, elementwise_affine=True)\n",
       "      (mlp): MLPBlock(\n",
       "        (0): Linear(in_features=768, out_features=3072, bias=True)\n",
       "        (1): GELU(approximate='none')\n",
       "        (2): Dropout(p=0.0, inplace=False)\n",
       "        (3): Linear(in_features=3072, out_features=768, bias=True)\n",
       "        (4): Dropout(p=0.0, inplace=False)\n",
       "      )\n",
       "    )\n",
       "    (encoder_layer_8): EncoderBlock(\n",
       "      (ln_1): LayerNorm((768,), eps=1e-06, elementwise_affine=True)\n",
       "      (self_attention): MultiheadAttention(\n",
       "        (out_proj): NonDynamicallyQuantizableLinear(in_features=768, out_features=768, bias=True)\n",
       "      )\n",
       "      (dropout): Dropout(p=0.0, inplace=False)\n",
       "      (ln_2): LayerNorm((768,), eps=1e-06, elementwise_affine=True)\n",
       "      (mlp): MLPBlock(\n",
       "        (0): Linear(in_features=768, out_features=3072, bias=True)\n",
       "        (1): GELU(approximate='none')\n",
       "        (2): Dropout(p=0.0, inplace=False)\n",
       "        (3): Linear(in_features=3072, out_features=768, bias=True)\n",
       "        (4): Dropout(p=0.0, inplace=False)\n",
       "      )\n",
       "    )\n",
       "    (encoder_layer_9): EncoderBlock(\n",
       "      (ln_1): LayerNorm((768,), eps=1e-06, elementwise_affine=True)\n",
       "      (self_attention): MultiheadAttention(\n",
       "        (out_proj): NonDynamicallyQuantizableLinear(in_features=768, out_features=768, bias=True)\n",
       "      )\n",
       "      (dropout): Dropout(p=0.0, inplace=False)\n",
       "      (ln_2): LayerNorm((768,), eps=1e-06, elementwise_affine=True)\n",
       "      (mlp): MLPBlock(\n",
       "        (0): Linear(in_features=768, out_features=3072, bias=True)\n",
       "        (1): GELU(approximate='none')\n",
       "        (2): Dropout(p=0.0, inplace=False)\n",
       "        (3): Linear(in_features=3072, out_features=768, bias=True)\n",
       "        (4): Dropout(p=0.0, inplace=False)\n",
       "      )\n",
       "    )\n",
       "    (encoder_layer_10): EncoderBlock(\n",
       "      (ln_1): LayerNorm((768,), eps=1e-06, elementwise_affine=True)\n",
       "      (self_attention): MultiheadAttention(\n",
       "        (out_proj): NonDynamicallyQuantizableLinear(in_features=768, out_features=768, bias=True)\n",
       "      )\n",
       "      (dropout): Dropout(p=0.0, inplace=False)\n",
       "      (ln_2): LayerNorm((768,), eps=1e-06, elementwise_affine=True)\n",
       "      (mlp): MLPBlock(\n",
       "        (0): Linear(in_features=768, out_features=3072, bias=True)\n",
       "        (1): GELU(approximate='none')\n",
       "        (2): Dropout(p=0.0, inplace=False)\n",
       "        (3): Linear(in_features=3072, out_features=768, bias=True)\n",
       "        (4): Dropout(p=0.0, inplace=False)\n",
       "      )\n",
       "    )\n",
       "    (encoder_layer_11): EncoderBlock(\n",
       "      (ln_1): LayerNorm((768,), eps=1e-06, elementwise_affine=True)\n",
       "      (self_attention): MultiheadAttention(\n",
       "        (out_proj): NonDynamicallyQuantizableLinear(in_features=768, out_features=768, bias=True)\n",
       "      )\n",
       "      (dropout): Dropout(p=0.0, inplace=False)\n",
       "      (ln_2): LayerNorm((768,), eps=1e-06, elementwise_affine=True)\n",
       "      (mlp): MLPBlock(\n",
       "        (0): Linear(in_features=768, out_features=3072, bias=True)\n",
       "        (1): GELU(approximate='none')\n",
       "        (2): Dropout(p=0.0, inplace=False)\n",
       "        (3): Linear(in_features=3072, out_features=768, bias=True)\n",
       "        (4): Dropout(p=0.0, inplace=False)\n",
       "      )\n",
       "    )\n",
       "  )\n",
       "  (ln): LayerNorm((768,), eps=1e-06, elementwise_affine=True)\n",
       ")"
      ]
     },
     "execution_count": 70,
     "metadata": {},
     "output_type": "execute_result"
    }
   ],
   "execution_count": 70
  },
  {
   "metadata": {
    "ExecuteTime": {
     "end_time": "2025-01-09T19:41:06.459234Z",
     "start_time": "2025-01-09T19:28:13.022401Z"
    }
   },
   "cell_type": "code",
   "source": [
    "vit_features = []\n",
    "with torch.no_grad():\n",
    "    for batch in vit_dataloader:\n",
    "        image_batch = batch[0]\n",
    "        x = vit_model._process_input(image_batch)\n",
    "        n = x.shape[0]\n",
    "        batch_class_token = vit_model.class_token.expand(n, -1, -1)\n",
    "        x = torch.cat([batch_class_token, x], dim=1)\n",
    "        x = encoder(x)\n",
    "        batch_features = x[:, 0]\n",
    "        vit_features.append(batch_features)"
   ],
   "id": "4fa97f68100cc5f6",
   "outputs": [],
   "execution_count": 71
  },
  {
   "metadata": {
    "ExecuteTime": {
     "end_time": "2025-01-09T19:43:21.777330Z",
     "start_time": "2025-01-09T19:43:20.874620Z"
    }
   },
   "cell_type": "code",
   "source": "vit_features = torch.cat(vit_features, dim=0)",
   "id": "6ab8ba1aa1389c10",
   "outputs": [],
   "execution_count": 76
  },
  {
   "metadata": {
    "ExecuteTime": {
     "end_time": "2025-01-09T19:44:44.311115Z",
     "start_time": "2025-01-09T19:44:44.253114Z"
    }
   },
   "cell_type": "code",
   "source": [
    "with open(\"/Users/lkk/Documents/BOUN CMPE/CMPE 537-Computer Vision/Term Project/Code/Datasets/CUB_Paper/produced/vit_features.pkl\", 'wb') as f:\n",
    "    pickle.dump(vit_features, f)"
   ],
   "id": "1a90b2af99838b9f",
   "outputs": [],
   "execution_count": 80
  },
  {
   "metadata": {},
   "cell_type": "code",
   "outputs": [],
   "execution_count": null,
   "source": "",
   "id": "d83fbebbf6a98876"
  }
 ],
 "metadata": {
  "kernelspec": {
   "display_name": "Python 3",
   "language": "python",
   "name": "python3"
  },
  "language_info": {
   "codemirror_mode": {
    "name": "ipython",
    "version": 2
   },
   "file_extension": ".py",
   "mimetype": "text/x-python",
   "name": "python",
   "nbconvert_exporter": "python",
   "pygments_lexer": "ipython2",
   "version": "2.7.6"
  }
 },
 "nbformat": 4,
 "nbformat_minor": 5
}
